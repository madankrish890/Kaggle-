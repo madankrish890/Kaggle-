{
 "cells": [
  {
   "cell_type": "code",
   "execution_count": 72,
   "id": "4b3299c9",
   "metadata": {},
   "outputs": [],
   "source": [
    "import pandas as pd\n",
    "import numpy as np\n",
    "import matplotlib.pyplot as plt\n",
    "import seaborn as sns\n",
    "from sklearn.preprocessing import StandardScaler\n",
    "from sklearn.model_selection import RandomizedSearchCV,GridSearchCV,train_test_split,KFold\n",
    "from sklearn.linear_model import LogisticRegression\n",
    "from sklearn import metrics\n",
    "from sklearn.tree import DecisionTreeClassifier\n",
    "from sklearn.ensemble import RandomForestClassifier,AdaBoostClassifier,GradientBoostingClassifier,BaggingClassifier,VotingClassifier\n",
    "from sklearn.feature_selection import SelectKBest,chi2\n",
    "import xgboost as xg\n",
    "import warnings\n",
    "warnings.filterwarnings('ignore')"
   ]
  },
  {
   "cell_type": "code",
   "execution_count": 73,
   "id": "9ba66054",
   "metadata": {},
   "outputs": [],
   "source": [
    "train=pd.read_csv(\"E:\\\\titanic-comp\\\\train.csv\")\n",
    "test=pd.read_csv(\"E:\\\\titanic-comp\\\\test.csv\")"
   ]
  },
  {
   "cell_type": "code",
   "execution_count": 74,
   "id": "e68929cc",
   "metadata": {},
   "outputs": [
    {
     "data": {
      "text/html": [
       "<div>\n",
       "<style scoped>\n",
       "    .dataframe tbody tr th:only-of-type {\n",
       "        vertical-align: middle;\n",
       "    }\n",
       "\n",
       "    .dataframe tbody tr th {\n",
       "        vertical-align: top;\n",
       "    }\n",
       "\n",
       "    .dataframe thead th {\n",
       "        text-align: right;\n",
       "    }\n",
       "</style>\n",
       "<table border=\"1\" class=\"dataframe\">\n",
       "  <thead>\n",
       "    <tr style=\"text-align: right;\">\n",
       "      <th></th>\n",
       "      <th>PassengerId</th>\n",
       "      <th>Survived</th>\n",
       "      <th>Pclass</th>\n",
       "      <th>Name</th>\n",
       "      <th>Sex</th>\n",
       "      <th>Age</th>\n",
       "      <th>SibSp</th>\n",
       "      <th>Parch</th>\n",
       "      <th>Ticket</th>\n",
       "      <th>Fare</th>\n",
       "      <th>Cabin</th>\n",
       "      <th>Embarked</th>\n",
       "    </tr>\n",
       "  </thead>\n",
       "  <tbody>\n",
       "    <tr>\n",
       "      <th>0</th>\n",
       "      <td>1</td>\n",
       "      <td>0</td>\n",
       "      <td>3</td>\n",
       "      <td>Braund, Mr. Owen Harris</td>\n",
       "      <td>male</td>\n",
       "      <td>22.0</td>\n",
       "      <td>1</td>\n",
       "      <td>0</td>\n",
       "      <td>A/5 21171</td>\n",
       "      <td>7.2500</td>\n",
       "      <td>NaN</td>\n",
       "      <td>S</td>\n",
       "    </tr>\n",
       "    <tr>\n",
       "      <th>1</th>\n",
       "      <td>2</td>\n",
       "      <td>1</td>\n",
       "      <td>1</td>\n",
       "      <td>Cumings, Mrs. John Bradley (Florence Briggs Th...</td>\n",
       "      <td>female</td>\n",
       "      <td>38.0</td>\n",
       "      <td>1</td>\n",
       "      <td>0</td>\n",
       "      <td>PC 17599</td>\n",
       "      <td>71.2833</td>\n",
       "      <td>C85</td>\n",
       "      <td>C</td>\n",
       "    </tr>\n",
       "    <tr>\n",
       "      <th>2</th>\n",
       "      <td>3</td>\n",
       "      <td>1</td>\n",
       "      <td>3</td>\n",
       "      <td>Heikkinen, Miss. Laina</td>\n",
       "      <td>female</td>\n",
       "      <td>26.0</td>\n",
       "      <td>0</td>\n",
       "      <td>0</td>\n",
       "      <td>STON/O2. 3101282</td>\n",
       "      <td>7.9250</td>\n",
       "      <td>NaN</td>\n",
       "      <td>S</td>\n",
       "    </tr>\n",
       "    <tr>\n",
       "      <th>3</th>\n",
       "      <td>4</td>\n",
       "      <td>1</td>\n",
       "      <td>1</td>\n",
       "      <td>Futrelle, Mrs. Jacques Heath (Lily May Peel)</td>\n",
       "      <td>female</td>\n",
       "      <td>35.0</td>\n",
       "      <td>1</td>\n",
       "      <td>0</td>\n",
       "      <td>113803</td>\n",
       "      <td>53.1000</td>\n",
       "      <td>C123</td>\n",
       "      <td>S</td>\n",
       "    </tr>\n",
       "    <tr>\n",
       "      <th>4</th>\n",
       "      <td>5</td>\n",
       "      <td>0</td>\n",
       "      <td>3</td>\n",
       "      <td>Allen, Mr. William Henry</td>\n",
       "      <td>male</td>\n",
       "      <td>35.0</td>\n",
       "      <td>0</td>\n",
       "      <td>0</td>\n",
       "      <td>373450</td>\n",
       "      <td>8.0500</td>\n",
       "      <td>NaN</td>\n",
       "      <td>S</td>\n",
       "    </tr>\n",
       "    <tr>\n",
       "      <th>...</th>\n",
       "      <td>...</td>\n",
       "      <td>...</td>\n",
       "      <td>...</td>\n",
       "      <td>...</td>\n",
       "      <td>...</td>\n",
       "      <td>...</td>\n",
       "      <td>...</td>\n",
       "      <td>...</td>\n",
       "      <td>...</td>\n",
       "      <td>...</td>\n",
       "      <td>...</td>\n",
       "      <td>...</td>\n",
       "    </tr>\n",
       "    <tr>\n",
       "      <th>886</th>\n",
       "      <td>887</td>\n",
       "      <td>0</td>\n",
       "      <td>2</td>\n",
       "      <td>Montvila, Rev. Juozas</td>\n",
       "      <td>male</td>\n",
       "      <td>27.0</td>\n",
       "      <td>0</td>\n",
       "      <td>0</td>\n",
       "      <td>211536</td>\n",
       "      <td>13.0000</td>\n",
       "      <td>NaN</td>\n",
       "      <td>S</td>\n",
       "    </tr>\n",
       "    <tr>\n",
       "      <th>887</th>\n",
       "      <td>888</td>\n",
       "      <td>1</td>\n",
       "      <td>1</td>\n",
       "      <td>Graham, Miss. Margaret Edith</td>\n",
       "      <td>female</td>\n",
       "      <td>19.0</td>\n",
       "      <td>0</td>\n",
       "      <td>0</td>\n",
       "      <td>112053</td>\n",
       "      <td>30.0000</td>\n",
       "      <td>B42</td>\n",
       "      <td>S</td>\n",
       "    </tr>\n",
       "    <tr>\n",
       "      <th>888</th>\n",
       "      <td>889</td>\n",
       "      <td>0</td>\n",
       "      <td>3</td>\n",
       "      <td>Johnston, Miss. Catherine Helen \"Carrie\"</td>\n",
       "      <td>female</td>\n",
       "      <td>NaN</td>\n",
       "      <td>1</td>\n",
       "      <td>2</td>\n",
       "      <td>W./C. 6607</td>\n",
       "      <td>23.4500</td>\n",
       "      <td>NaN</td>\n",
       "      <td>S</td>\n",
       "    </tr>\n",
       "    <tr>\n",
       "      <th>889</th>\n",
       "      <td>890</td>\n",
       "      <td>1</td>\n",
       "      <td>1</td>\n",
       "      <td>Behr, Mr. Karl Howell</td>\n",
       "      <td>male</td>\n",
       "      <td>26.0</td>\n",
       "      <td>0</td>\n",
       "      <td>0</td>\n",
       "      <td>111369</td>\n",
       "      <td>30.0000</td>\n",
       "      <td>C148</td>\n",
       "      <td>C</td>\n",
       "    </tr>\n",
       "    <tr>\n",
       "      <th>890</th>\n",
       "      <td>891</td>\n",
       "      <td>0</td>\n",
       "      <td>3</td>\n",
       "      <td>Dooley, Mr. Patrick</td>\n",
       "      <td>male</td>\n",
       "      <td>32.0</td>\n",
       "      <td>0</td>\n",
       "      <td>0</td>\n",
       "      <td>370376</td>\n",
       "      <td>7.7500</td>\n",
       "      <td>NaN</td>\n",
       "      <td>Q</td>\n",
       "    </tr>\n",
       "  </tbody>\n",
       "</table>\n",
       "<p>891 rows × 12 columns</p>\n",
       "</div>"
      ],
      "text/plain": [
       "     PassengerId  Survived  Pclass  \\\n",
       "0              1         0       3   \n",
       "1              2         1       1   \n",
       "2              3         1       3   \n",
       "3              4         1       1   \n",
       "4              5         0       3   \n",
       "..           ...       ...     ...   \n",
       "886          887         0       2   \n",
       "887          888         1       1   \n",
       "888          889         0       3   \n",
       "889          890         1       1   \n",
       "890          891         0       3   \n",
       "\n",
       "                                                  Name     Sex   Age  SibSp  \\\n",
       "0                              Braund, Mr. Owen Harris    male  22.0      1   \n",
       "1    Cumings, Mrs. John Bradley (Florence Briggs Th...  female  38.0      1   \n",
       "2                               Heikkinen, Miss. Laina  female  26.0      0   \n",
       "3         Futrelle, Mrs. Jacques Heath (Lily May Peel)  female  35.0      1   \n",
       "4                             Allen, Mr. William Henry    male  35.0      0   \n",
       "..                                                 ...     ...   ...    ...   \n",
       "886                              Montvila, Rev. Juozas    male  27.0      0   \n",
       "887                       Graham, Miss. Margaret Edith  female  19.0      0   \n",
       "888           Johnston, Miss. Catherine Helen \"Carrie\"  female   NaN      1   \n",
       "889                              Behr, Mr. Karl Howell    male  26.0      0   \n",
       "890                                Dooley, Mr. Patrick    male  32.0      0   \n",
       "\n",
       "     Parch            Ticket     Fare Cabin Embarked  \n",
       "0        0         A/5 21171   7.2500   NaN        S  \n",
       "1        0          PC 17599  71.2833   C85        C  \n",
       "2        0  STON/O2. 3101282   7.9250   NaN        S  \n",
       "3        0            113803  53.1000  C123        S  \n",
       "4        0            373450   8.0500   NaN        S  \n",
       "..     ...               ...      ...   ...      ...  \n",
       "886      0            211536  13.0000   NaN        S  \n",
       "887      0            112053  30.0000   B42        S  \n",
       "888      2        W./C. 6607  23.4500   NaN        S  \n",
       "889      0            111369  30.0000  C148        C  \n",
       "890      0            370376   7.7500   NaN        Q  \n",
       "\n",
       "[891 rows x 12 columns]"
      ]
     },
     "execution_count": 74,
     "metadata": {},
     "output_type": "execute_result"
    }
   ],
   "source": [
    "train"
   ]
  },
  {
   "cell_type": "code",
   "execution_count": 75,
   "id": "e549bd4d",
   "metadata": {},
   "outputs": [
    {
     "name": "stdout",
     "output_type": "stream",
     "text": [
      "<class 'pandas.core.frame.DataFrame'>\n",
      "RangeIndex: 891 entries, 0 to 890\n",
      "Data columns (total 12 columns):\n",
      " #   Column       Non-Null Count  Dtype  \n",
      "---  ------       --------------  -----  \n",
      " 0   PassengerId  891 non-null    int64  \n",
      " 1   Survived     891 non-null    int64  \n",
      " 2   Pclass       891 non-null    int64  \n",
      " 3   Name         891 non-null    object \n",
      " 4   Sex          891 non-null    object \n",
      " 5   Age          714 non-null    float64\n",
      " 6   SibSp        891 non-null    int64  \n",
      " 7   Parch        891 non-null    int64  \n",
      " 8   Ticket       891 non-null    object \n",
      " 9   Fare         891 non-null    float64\n",
      " 10  Cabin        204 non-null    object \n",
      " 11  Embarked     889 non-null    object \n",
      "dtypes: float64(2), int64(5), object(5)\n",
      "memory usage: 83.7+ KB\n"
     ]
    }
   ],
   "source": [
    "train.info()"
   ]
  },
  {
   "cell_type": "code",
   "execution_count": 76,
   "id": "bc338822",
   "metadata": {},
   "outputs": [
    {
     "data": {
      "text/plain": [
       "PassengerId      0\n",
       "Survived         0\n",
       "Pclass           0\n",
       "Name             0\n",
       "Sex              0\n",
       "Age            177\n",
       "SibSp            0\n",
       "Parch            0\n",
       "Ticket           0\n",
       "Fare             0\n",
       "Cabin          687\n",
       "Embarked         2\n",
       "dtype: int64"
      ]
     },
     "execution_count": 76,
     "metadata": {},
     "output_type": "execute_result"
    }
   ],
   "source": [
    "train.isnull().sum()"
   ]
  },
  {
   "cell_type": "code",
   "execution_count": 77,
   "id": "461fdab9",
   "metadata": {},
   "outputs": [],
   "source": [
    "#imputaion\n",
    "train[train.select_dtypes('object').columns]=train.select_dtypes('object').astype('category')\n"
   ]
  },
  {
   "cell_type": "code",
   "execution_count": 78,
   "id": "e9d5bb24",
   "metadata": {},
   "outputs": [
    {
     "name": "stdout",
     "output_type": "stream",
     "text": [
      "<class 'pandas.core.frame.DataFrame'>\n",
      "RangeIndex: 891 entries, 0 to 890\n",
      "Data columns (total 12 columns):\n",
      " #   Column       Non-Null Count  Dtype   \n",
      "---  ------       --------------  -----   \n",
      " 0   PassengerId  891 non-null    int64   \n",
      " 1   Survived     891 non-null    int64   \n",
      " 2   Pclass       891 non-null    int64   \n",
      " 3   Name         891 non-null    category\n",
      " 4   Sex          891 non-null    category\n",
      " 5   Age          714 non-null    float64 \n",
      " 6   SibSp        891 non-null    int64   \n",
      " 7   Parch        891 non-null    int64   \n",
      " 8   Ticket       891 non-null    category\n",
      " 9   Fare         891 non-null    float64 \n",
      " 10  Cabin        204 non-null    category\n",
      " 11  Embarked     889 non-null    category\n",
      "dtypes: category(5), float64(2), int64(5)\n",
      "memory usage: 122.0 KB\n"
     ]
    }
   ],
   "source": [
    "train.info()"
   ]
  },
  {
   "cell_type": "code",
   "execution_count": 79,
   "id": "9a4bd1e5",
   "metadata": {},
   "outputs": [],
   "source": [
    "train=train.drop(columns=['Name','Ticket','PassengerId'],axis=1)"
   ]
  },
  {
   "cell_type": "code",
   "execution_count": 80,
   "id": "69a350b9",
   "metadata": {},
   "outputs": [
    {
     "data": {
      "text/html": [
       "<div>\n",
       "<style scoped>\n",
       "    .dataframe tbody tr th:only-of-type {\n",
       "        vertical-align: middle;\n",
       "    }\n",
       "\n",
       "    .dataframe tbody tr th {\n",
       "        vertical-align: top;\n",
       "    }\n",
       "\n",
       "    .dataframe thead th {\n",
       "        text-align: right;\n",
       "    }\n",
       "</style>\n",
       "<table border=\"1\" class=\"dataframe\">\n",
       "  <thead>\n",
       "    <tr style=\"text-align: right;\">\n",
       "      <th></th>\n",
       "      <th>Survived</th>\n",
       "      <th>Pclass</th>\n",
       "      <th>Sex</th>\n",
       "      <th>Age</th>\n",
       "      <th>SibSp</th>\n",
       "      <th>Parch</th>\n",
       "      <th>Fare</th>\n",
       "      <th>Cabin</th>\n",
       "      <th>Embarked</th>\n",
       "    </tr>\n",
       "  </thead>\n",
       "  <tbody>\n",
       "    <tr>\n",
       "      <th>0</th>\n",
       "      <td>0</td>\n",
       "      <td>3</td>\n",
       "      <td>male</td>\n",
       "      <td>22.0</td>\n",
       "      <td>1</td>\n",
       "      <td>0</td>\n",
       "      <td>7.2500</td>\n",
       "      <td>NaN</td>\n",
       "      <td>S</td>\n",
       "    </tr>\n",
       "    <tr>\n",
       "      <th>1</th>\n",
       "      <td>1</td>\n",
       "      <td>1</td>\n",
       "      <td>female</td>\n",
       "      <td>38.0</td>\n",
       "      <td>1</td>\n",
       "      <td>0</td>\n",
       "      <td>71.2833</td>\n",
       "      <td>C85</td>\n",
       "      <td>C</td>\n",
       "    </tr>\n",
       "    <tr>\n",
       "      <th>2</th>\n",
       "      <td>1</td>\n",
       "      <td>3</td>\n",
       "      <td>female</td>\n",
       "      <td>26.0</td>\n",
       "      <td>0</td>\n",
       "      <td>0</td>\n",
       "      <td>7.9250</td>\n",
       "      <td>NaN</td>\n",
       "      <td>S</td>\n",
       "    </tr>\n",
       "    <tr>\n",
       "      <th>3</th>\n",
       "      <td>1</td>\n",
       "      <td>1</td>\n",
       "      <td>female</td>\n",
       "      <td>35.0</td>\n",
       "      <td>1</td>\n",
       "      <td>0</td>\n",
       "      <td>53.1000</td>\n",
       "      <td>C123</td>\n",
       "      <td>S</td>\n",
       "    </tr>\n",
       "    <tr>\n",
       "      <th>4</th>\n",
       "      <td>0</td>\n",
       "      <td>3</td>\n",
       "      <td>male</td>\n",
       "      <td>35.0</td>\n",
       "      <td>0</td>\n",
       "      <td>0</td>\n",
       "      <td>8.0500</td>\n",
       "      <td>NaN</td>\n",
       "      <td>S</td>\n",
       "    </tr>\n",
       "    <tr>\n",
       "      <th>5</th>\n",
       "      <td>0</td>\n",
       "      <td>3</td>\n",
       "      <td>male</td>\n",
       "      <td>NaN</td>\n",
       "      <td>0</td>\n",
       "      <td>0</td>\n",
       "      <td>8.4583</td>\n",
       "      <td>NaN</td>\n",
       "      <td>Q</td>\n",
       "    </tr>\n",
       "    <tr>\n",
       "      <th>6</th>\n",
       "      <td>0</td>\n",
       "      <td>1</td>\n",
       "      <td>male</td>\n",
       "      <td>54.0</td>\n",
       "      <td>0</td>\n",
       "      <td>0</td>\n",
       "      <td>51.8625</td>\n",
       "      <td>E46</td>\n",
       "      <td>S</td>\n",
       "    </tr>\n",
       "    <tr>\n",
       "      <th>7</th>\n",
       "      <td>0</td>\n",
       "      <td>3</td>\n",
       "      <td>male</td>\n",
       "      <td>2.0</td>\n",
       "      <td>3</td>\n",
       "      <td>1</td>\n",
       "      <td>21.0750</td>\n",
       "      <td>NaN</td>\n",
       "      <td>S</td>\n",
       "    </tr>\n",
       "    <tr>\n",
       "      <th>8</th>\n",
       "      <td>1</td>\n",
       "      <td>3</td>\n",
       "      <td>female</td>\n",
       "      <td>27.0</td>\n",
       "      <td>0</td>\n",
       "      <td>2</td>\n",
       "      <td>11.1333</td>\n",
       "      <td>NaN</td>\n",
       "      <td>S</td>\n",
       "    </tr>\n",
       "    <tr>\n",
       "      <th>9</th>\n",
       "      <td>1</td>\n",
       "      <td>2</td>\n",
       "      <td>female</td>\n",
       "      <td>14.0</td>\n",
       "      <td>1</td>\n",
       "      <td>0</td>\n",
       "      <td>30.0708</td>\n",
       "      <td>NaN</td>\n",
       "      <td>C</td>\n",
       "    </tr>\n",
       "    <tr>\n",
       "      <th>10</th>\n",
       "      <td>1</td>\n",
       "      <td>3</td>\n",
       "      <td>female</td>\n",
       "      <td>4.0</td>\n",
       "      <td>1</td>\n",
       "      <td>1</td>\n",
       "      <td>16.7000</td>\n",
       "      <td>G6</td>\n",
       "      <td>S</td>\n",
       "    </tr>\n",
       "    <tr>\n",
       "      <th>11</th>\n",
       "      <td>1</td>\n",
       "      <td>1</td>\n",
       "      <td>female</td>\n",
       "      <td>58.0</td>\n",
       "      <td>0</td>\n",
       "      <td>0</td>\n",
       "      <td>26.5500</td>\n",
       "      <td>C103</td>\n",
       "      <td>S</td>\n",
       "    </tr>\n",
       "    <tr>\n",
       "      <th>12</th>\n",
       "      <td>0</td>\n",
       "      <td>3</td>\n",
       "      <td>male</td>\n",
       "      <td>20.0</td>\n",
       "      <td>0</td>\n",
       "      <td>0</td>\n",
       "      <td>8.0500</td>\n",
       "      <td>NaN</td>\n",
       "      <td>S</td>\n",
       "    </tr>\n",
       "    <tr>\n",
       "      <th>13</th>\n",
       "      <td>0</td>\n",
       "      <td>3</td>\n",
       "      <td>male</td>\n",
       "      <td>39.0</td>\n",
       "      <td>1</td>\n",
       "      <td>5</td>\n",
       "      <td>31.2750</td>\n",
       "      <td>NaN</td>\n",
       "      <td>S</td>\n",
       "    </tr>\n",
       "    <tr>\n",
       "      <th>14</th>\n",
       "      <td>0</td>\n",
       "      <td>3</td>\n",
       "      <td>female</td>\n",
       "      <td>14.0</td>\n",
       "      <td>0</td>\n",
       "      <td>0</td>\n",
       "      <td>7.8542</td>\n",
       "      <td>NaN</td>\n",
       "      <td>S</td>\n",
       "    </tr>\n",
       "    <tr>\n",
       "      <th>15</th>\n",
       "      <td>1</td>\n",
       "      <td>2</td>\n",
       "      <td>female</td>\n",
       "      <td>55.0</td>\n",
       "      <td>0</td>\n",
       "      <td>0</td>\n",
       "      <td>16.0000</td>\n",
       "      <td>NaN</td>\n",
       "      <td>S</td>\n",
       "    </tr>\n",
       "    <tr>\n",
       "      <th>16</th>\n",
       "      <td>0</td>\n",
       "      <td>3</td>\n",
       "      <td>male</td>\n",
       "      <td>2.0</td>\n",
       "      <td>4</td>\n",
       "      <td>1</td>\n",
       "      <td>29.1250</td>\n",
       "      <td>NaN</td>\n",
       "      <td>Q</td>\n",
       "    </tr>\n",
       "    <tr>\n",
       "      <th>17</th>\n",
       "      <td>1</td>\n",
       "      <td>2</td>\n",
       "      <td>male</td>\n",
       "      <td>NaN</td>\n",
       "      <td>0</td>\n",
       "      <td>0</td>\n",
       "      <td>13.0000</td>\n",
       "      <td>NaN</td>\n",
       "      <td>S</td>\n",
       "    </tr>\n",
       "    <tr>\n",
       "      <th>18</th>\n",
       "      <td>0</td>\n",
       "      <td>3</td>\n",
       "      <td>female</td>\n",
       "      <td>31.0</td>\n",
       "      <td>1</td>\n",
       "      <td>0</td>\n",
       "      <td>18.0000</td>\n",
       "      <td>NaN</td>\n",
       "      <td>S</td>\n",
       "    </tr>\n",
       "    <tr>\n",
       "      <th>19</th>\n",
       "      <td>1</td>\n",
       "      <td>3</td>\n",
       "      <td>female</td>\n",
       "      <td>NaN</td>\n",
       "      <td>0</td>\n",
       "      <td>0</td>\n",
       "      <td>7.2250</td>\n",
       "      <td>NaN</td>\n",
       "      <td>C</td>\n",
       "    </tr>\n",
       "  </tbody>\n",
       "</table>\n",
       "</div>"
      ],
      "text/plain": [
       "    Survived  Pclass     Sex   Age  SibSp  Parch     Fare Cabin Embarked\n",
       "0          0       3    male  22.0      1      0   7.2500   NaN        S\n",
       "1          1       1  female  38.0      1      0  71.2833   C85        C\n",
       "2          1       3  female  26.0      0      0   7.9250   NaN        S\n",
       "3          1       1  female  35.0      1      0  53.1000  C123        S\n",
       "4          0       3    male  35.0      0      0   8.0500   NaN        S\n",
       "5          0       3    male   NaN      0      0   8.4583   NaN        Q\n",
       "6          0       1    male  54.0      0      0  51.8625   E46        S\n",
       "7          0       3    male   2.0      3      1  21.0750   NaN        S\n",
       "8          1       3  female  27.0      0      2  11.1333   NaN        S\n",
       "9          1       2  female  14.0      1      0  30.0708   NaN        C\n",
       "10         1       3  female   4.0      1      1  16.7000    G6        S\n",
       "11         1       1  female  58.0      0      0  26.5500  C103        S\n",
       "12         0       3    male  20.0      0      0   8.0500   NaN        S\n",
       "13         0       3    male  39.0      1      5  31.2750   NaN        S\n",
       "14         0       3  female  14.0      0      0   7.8542   NaN        S\n",
       "15         1       2  female  55.0      0      0  16.0000   NaN        S\n",
       "16         0       3    male   2.0      4      1  29.1250   NaN        Q\n",
       "17         1       2    male   NaN      0      0  13.0000   NaN        S\n",
       "18         0       3  female  31.0      1      0  18.0000   NaN        S\n",
       "19         1       3  female   NaN      0      0   7.2250   NaN        C"
      ]
     },
     "execution_count": 80,
     "metadata": {},
     "output_type": "execute_result"
    }
   ],
   "source": [
    "train.head(20)"
   ]
  },
  {
   "cell_type": "code",
   "execution_count": 81,
   "id": "38d7ccd8",
   "metadata": {},
   "outputs": [],
   "source": [
    "from sklearn.impute import SimpleImputer"
   ]
  },
  {
   "cell_type": "code",
   "execution_count": 82,
   "id": "62561502",
   "metadata": {},
   "outputs": [],
   "source": [
    "from sklearn.preprocessing import LabelEncoder"
   ]
  },
  {
   "cell_type": "code",
   "execution_count": 83,
   "id": "f2af366b",
   "metadata": {},
   "outputs": [],
   "source": [
    "lb=LabelEncoder()\n",
    "train['Embarked'] = lb.fit_transform(train['Embarked'])\n",
    "train['Sex'] = lb.fit_transform(train['Sex'])"
   ]
  },
  {
   "cell_type": "code",
   "execution_count": 87,
   "id": "6191f8ad",
   "metadata": {},
   "outputs": [],
   "source": [
    "relevant_features = ['Pclass', 'Age', 'SibSp', 'Parch', 'Fare']"
   ]
  },
  {
   "cell_type": "code",
   "execution_count": 88,
   "id": "1bdb51f4",
   "metadata": {},
   "outputs": [],
   "source": [
    "imputer = SimpleImputer(strategy='mean')\n",
    "train[relevant_features] = imputer.fit_transform(train[relevant_features])\n",
    "test[relevant_features] = imputer.transform(test[relevant_features])"
   ]
  },
  {
   "cell_type": "code",
   "execution_count": 89,
   "id": "5cb13406",
   "metadata": {},
   "outputs": [
    {
     "name": "stdout",
     "output_type": "stream",
     "text": [
      "<class 'pandas.core.frame.DataFrame'>\n",
      "RangeIndex: 891 entries, 0 to 890\n",
      "Data columns (total 9 columns):\n",
      " #   Column    Non-Null Count  Dtype   \n",
      "---  ------    --------------  -----   \n",
      " 0   Survived  891 non-null    int64   \n",
      " 1   Pclass    891 non-null    float64 \n",
      " 2   Sex       891 non-null    int32   \n",
      " 3   Age       891 non-null    float64 \n",
      " 4   SibSp     891 non-null    float64 \n",
      " 5   Parch     891 non-null    float64 \n",
      " 6   Fare      891 non-null    float64 \n",
      " 7   Cabin     204 non-null    category\n",
      " 8   Embarked  891 non-null    float64 \n",
      "dtypes: category(1), float64(6), int32(1), int64(1)\n",
      "memory usage: 59.3 KB\n"
     ]
    }
   ],
   "source": [
    "train.info()"
   ]
  },
  {
   "cell_type": "code",
   "execution_count": 90,
   "id": "e6b4906e",
   "metadata": {},
   "outputs": [
    {
     "data": {
      "text/plain": [
       "Survived      0\n",
       "Pclass        0\n",
       "Sex           0\n",
       "Age           0\n",
       "SibSp         0\n",
       "Parch         0\n",
       "Fare          0\n",
       "Cabin       687\n",
       "Embarked      0\n",
       "dtype: int64"
      ]
     },
     "execution_count": 90,
     "metadata": {},
     "output_type": "execute_result"
    }
   ],
   "source": [
    "train.isnull().sum()"
   ]
  },
  {
   "cell_type": "code",
   "execution_count": 91,
   "id": "e5ad926e",
   "metadata": {},
   "outputs": [
    {
     "data": {
      "text/html": [
       "<div>\n",
       "<style scoped>\n",
       "    .dataframe tbody tr th:only-of-type {\n",
       "        vertical-align: middle;\n",
       "    }\n",
       "\n",
       "    .dataframe tbody tr th {\n",
       "        vertical-align: top;\n",
       "    }\n",
       "\n",
       "    .dataframe thead th {\n",
       "        text-align: right;\n",
       "    }\n",
       "</style>\n",
       "<table border=\"1\" class=\"dataframe\">\n",
       "  <thead>\n",
       "    <tr style=\"text-align: right;\">\n",
       "      <th></th>\n",
       "      <th>Survived</th>\n",
       "      <th>Pclass</th>\n",
       "      <th>Sex</th>\n",
       "      <th>Age</th>\n",
       "      <th>SibSp</th>\n",
       "      <th>Parch</th>\n",
       "      <th>Fare</th>\n",
       "      <th>Cabin</th>\n",
       "      <th>Embarked</th>\n",
       "    </tr>\n",
       "  </thead>\n",
       "  <tbody>\n",
       "    <tr>\n",
       "      <th>0</th>\n",
       "      <td>0</td>\n",
       "      <td>3.0</td>\n",
       "      <td>1</td>\n",
       "      <td>22.000000</td>\n",
       "      <td>1.0</td>\n",
       "      <td>0.0</td>\n",
       "      <td>7.2500</td>\n",
       "      <td>NaN</td>\n",
       "      <td>2.0</td>\n",
       "    </tr>\n",
       "    <tr>\n",
       "      <th>1</th>\n",
       "      <td>1</td>\n",
       "      <td>1.0</td>\n",
       "      <td>0</td>\n",
       "      <td>38.000000</td>\n",
       "      <td>1.0</td>\n",
       "      <td>0.0</td>\n",
       "      <td>71.2833</td>\n",
       "      <td>C85</td>\n",
       "      <td>0.0</td>\n",
       "    </tr>\n",
       "    <tr>\n",
       "      <th>2</th>\n",
       "      <td>1</td>\n",
       "      <td>3.0</td>\n",
       "      <td>0</td>\n",
       "      <td>26.000000</td>\n",
       "      <td>0.0</td>\n",
       "      <td>0.0</td>\n",
       "      <td>7.9250</td>\n",
       "      <td>NaN</td>\n",
       "      <td>2.0</td>\n",
       "    </tr>\n",
       "    <tr>\n",
       "      <th>3</th>\n",
       "      <td>1</td>\n",
       "      <td>1.0</td>\n",
       "      <td>0</td>\n",
       "      <td>35.000000</td>\n",
       "      <td>1.0</td>\n",
       "      <td>0.0</td>\n",
       "      <td>53.1000</td>\n",
       "      <td>C123</td>\n",
       "      <td>2.0</td>\n",
       "    </tr>\n",
       "    <tr>\n",
       "      <th>4</th>\n",
       "      <td>0</td>\n",
       "      <td>3.0</td>\n",
       "      <td>1</td>\n",
       "      <td>35.000000</td>\n",
       "      <td>0.0</td>\n",
       "      <td>0.0</td>\n",
       "      <td>8.0500</td>\n",
       "      <td>NaN</td>\n",
       "      <td>2.0</td>\n",
       "    </tr>\n",
       "    <tr>\n",
       "      <th>...</th>\n",
       "      <td>...</td>\n",
       "      <td>...</td>\n",
       "      <td>...</td>\n",
       "      <td>...</td>\n",
       "      <td>...</td>\n",
       "      <td>...</td>\n",
       "      <td>...</td>\n",
       "      <td>...</td>\n",
       "      <td>...</td>\n",
       "    </tr>\n",
       "    <tr>\n",
       "      <th>886</th>\n",
       "      <td>0</td>\n",
       "      <td>2.0</td>\n",
       "      <td>1</td>\n",
       "      <td>27.000000</td>\n",
       "      <td>0.0</td>\n",
       "      <td>0.0</td>\n",
       "      <td>13.0000</td>\n",
       "      <td>NaN</td>\n",
       "      <td>2.0</td>\n",
       "    </tr>\n",
       "    <tr>\n",
       "      <th>887</th>\n",
       "      <td>1</td>\n",
       "      <td>1.0</td>\n",
       "      <td>0</td>\n",
       "      <td>19.000000</td>\n",
       "      <td>0.0</td>\n",
       "      <td>0.0</td>\n",
       "      <td>30.0000</td>\n",
       "      <td>B42</td>\n",
       "      <td>2.0</td>\n",
       "    </tr>\n",
       "    <tr>\n",
       "      <th>888</th>\n",
       "      <td>0</td>\n",
       "      <td>3.0</td>\n",
       "      <td>0</td>\n",
       "      <td>29.699118</td>\n",
       "      <td>1.0</td>\n",
       "      <td>2.0</td>\n",
       "      <td>23.4500</td>\n",
       "      <td>NaN</td>\n",
       "      <td>2.0</td>\n",
       "    </tr>\n",
       "    <tr>\n",
       "      <th>889</th>\n",
       "      <td>1</td>\n",
       "      <td>1.0</td>\n",
       "      <td>1</td>\n",
       "      <td>26.000000</td>\n",
       "      <td>0.0</td>\n",
       "      <td>0.0</td>\n",
       "      <td>30.0000</td>\n",
       "      <td>C148</td>\n",
       "      <td>0.0</td>\n",
       "    </tr>\n",
       "    <tr>\n",
       "      <th>890</th>\n",
       "      <td>0</td>\n",
       "      <td>3.0</td>\n",
       "      <td>1</td>\n",
       "      <td>32.000000</td>\n",
       "      <td>0.0</td>\n",
       "      <td>0.0</td>\n",
       "      <td>7.7500</td>\n",
       "      <td>NaN</td>\n",
       "      <td>1.0</td>\n",
       "    </tr>\n",
       "  </tbody>\n",
       "</table>\n",
       "<p>891 rows × 9 columns</p>\n",
       "</div>"
      ],
      "text/plain": [
       "     Survived  Pclass  Sex        Age  SibSp  Parch     Fare Cabin  Embarked\n",
       "0           0     3.0    1  22.000000    1.0    0.0   7.2500   NaN       2.0\n",
       "1           1     1.0    0  38.000000    1.0    0.0  71.2833   C85       0.0\n",
       "2           1     3.0    0  26.000000    0.0    0.0   7.9250   NaN       2.0\n",
       "3           1     1.0    0  35.000000    1.0    0.0  53.1000  C123       2.0\n",
       "4           0     3.0    1  35.000000    0.0    0.0   8.0500   NaN       2.0\n",
       "..        ...     ...  ...        ...    ...    ...      ...   ...       ...\n",
       "886         0     2.0    1  27.000000    0.0    0.0  13.0000   NaN       2.0\n",
       "887         1     1.0    0  19.000000    0.0    0.0  30.0000   B42       2.0\n",
       "888         0     3.0    0  29.699118    1.0    2.0  23.4500   NaN       2.0\n",
       "889         1     1.0    1  26.000000    0.0    0.0  30.0000  C148       0.0\n",
       "890         0     3.0    1  32.000000    0.0    0.0   7.7500   NaN       1.0\n",
       "\n",
       "[891 rows x 9 columns]"
      ]
     },
     "execution_count": 91,
     "metadata": {},
     "output_type": "execute_result"
    }
   ],
   "source": [
    "train"
   ]
  },
  {
   "cell_type": "code",
   "execution_count": 92,
   "id": "4e6a5fe2",
   "metadata": {},
   "outputs": [],
   "source": [
    "train=train.drop(columns=['Cabin'],axis=1)"
   ]
  },
  {
   "cell_type": "code",
   "execution_count": 93,
   "id": "b079c7d2",
   "metadata": {},
   "outputs": [],
   "source": [
    "# Data visualization"
   ]
  },
  {
   "cell_type": "code",
   "execution_count": 94,
   "id": "0dcda348",
   "metadata": {},
   "outputs": [
    {
     "data": {
      "text/plain": [
       "<AxesSubplot:xlabel='Sex', ylabel='Fare'>"
      ]
     },
     "execution_count": 94,
     "metadata": {},
     "output_type": "execute_result"
    },
    {
     "data": {
      "image/png": "[encoded data removed]",
      "text/plain": [
       "<Figure size 640x480 with 1 Axes>"
      ]
     },
     "metadata": {},
     "output_type": "display_data"
    }
   ],
   "source": [
    "sns.barplot(x=train.Sex,y=train.Fare)"
   ]
  },
  {
   "cell_type": "code",
   "execution_count": 95,
   "id": "c87eb1e1",
   "metadata": {},
   "outputs": [],
   "source": [
    "# check for imbalance of data"
   ]
  },
  {
   "cell_type": "code",
   "execution_count": 96,
   "id": "0f1836fc",
   "metadata": {},
   "outputs": [
    {
     "data": {
      "text/plain": [
       "<AxesSubplot:xlabel='Survived', ylabel='count'>"
      ]
     },
     "execution_count": 96,
     "metadata": {},
     "output_type": "execute_result"
    },
    {
     "data": {
      "image/png": "[encoded data removed]",
      "text/plain": [
       "<Figure size 640x480 with 1 Axes>"
      ]
     },
     "metadata": {},
     "output_type": "display_data"
    }
   ],
   "source": [
    "sns.countplot(x=train.Survived)"
   ]
  },
  {
   "cell_type": "code",
   "execution_count": 97,
   "id": "fdba70a1",
   "metadata": {},
   "outputs": [],
   "source": [
    "#train[train.select_dtypes('object').columns]=train.select_dtypes('object').astype()"
   ]
  },
  {
   "cell_type": "code",
   "execution_count": 98,
   "id": "5298cf7a",
   "metadata": {},
   "outputs": [
    {
     "name": "stdout",
     "output_type": "stream",
     "text": [
      "<class 'pandas.core.frame.DataFrame'>\n",
      "RangeIndex: 891 entries, 0 to 890\n",
      "Data columns (total 8 columns):\n",
      " #   Column    Non-Null Count  Dtype  \n",
      "---  ------    --------------  -----  \n",
      " 0   Survived  891 non-null    int64  \n",
      " 1   Pclass    891 non-null    float64\n",
      " 2   Sex       891 non-null    int32  \n",
      " 3   Age       891 non-null    float64\n",
      " 4   SibSp     891 non-null    float64\n",
      " 5   Parch     891 non-null    float64\n",
      " 6   Fare      891 non-null    float64\n",
      " 7   Embarked  891 non-null    float64\n",
      "dtypes: float64(6), int32(1), int64(1)\n",
      "memory usage: 52.3 KB\n"
     ]
    }
   ],
   "source": [
    "train.info()"
   ]
  },
  {
   "cell_type": "code",
   "execution_count": 100,
   "id": "e21ea1dc",
   "metadata": {},
   "outputs": [
    {
     "data": {
      "text/plain": [
       "<AxesSubplot:>"
      ]
     },
     "execution_count": 100,
     "metadata": {},
     "output_type": "execute_result"
    },
    {
     "data": {
      "image/png": "[encoded data removed]",
      "text/plain": [
       "<Figure size 640x480 with 2 Axes>"
      ]
     },
     "metadata": {},
     "output_type": "display_data"
    }
   ],
   "source": [
    "sns.heatmap(train.corr(),annot=True)"
   ]
  },
  {
   "cell_type": "code",
   "execution_count": 101,
   "id": "2ae20f1a",
   "metadata": {},
   "outputs": [
    {
     "name": "stdout",
     "output_type": "stream",
     "text": [
      "<class 'pandas.core.frame.DataFrame'>\n",
      "RangeIndex: 418 entries, 0 to 417\n",
      "Data columns (total 11 columns):\n",
      " #   Column       Non-Null Count  Dtype  \n",
      "---  ------       --------------  -----  \n",
      " 0   PassengerId  418 non-null    int64  \n",
      " 1   Pclass       418 non-null    float64\n",
      " 2   Name         418 non-null    object \n",
      " 3   Sex          418 non-null    object \n",
      " 4   Age          418 non-null    float64\n",
      " 5   SibSp        418 non-null    float64\n",
      " 6   Parch        418 non-null    float64\n",
      " 7   Ticket       418 non-null    object \n",
      " 8   Fare         418 non-null    float64\n",
      " 9   Cabin        91 non-null     object \n",
      " 10  Embarked     418 non-null    object \n",
      "dtypes: float64(5), int64(1), object(5)\n",
      "memory usage: 36.0+ KB\n"
     ]
    }
   ],
   "source": [
    "train[train.select_dtypes('object').columns]=train.select_dtypes('object').astype('category')\n"
   ]
  },
  {
   "cell_type": "code",
   "execution_count": 102,
   "id": "4f184115",
   "metadata": {},
   "outputs": [],
   "source": [
    "lb=LabelEncoder()\n",
    "test['Embarked'] = lb.fit_transform(test['Embarked'])\n",
    "test['Sex'] = lb.fit_transform(test['Sex'])"
   ]
  },
  {
   "cell_type": "code",
   "execution_count": null,
   "id": "29ea7b8a",
   "metadata": {},
   "outputs": [],
   "source": [
    "relevant_features = ['Pclass', 'Age', 'SibSp', 'Parch', 'Fare']"
   ]
  },
  {
   "cell_type": "code",
   "execution_count": 104,
   "id": "adfd46d6",
   "metadata": {},
   "outputs": [
    {
     "name": "stdout",
     "output_type": "stream",
     "text": [
      "<class 'pandas.core.frame.DataFrame'>\n",
      "RangeIndex: 891 entries, 0 to 890\n",
      "Data columns (total 8 columns):\n",
      " #   Column    Non-Null Count  Dtype  \n",
      "---  ------    --------------  -----  \n",
      " 0   Survived  891 non-null    int64  \n",
      " 1   Pclass    891 non-null    float64\n",
      " 2   Sex       891 non-null    int32  \n",
      " 3   Age       891 non-null    float64\n",
      " 4   SibSp     891 non-null    float64\n",
      " 5   Parch     891 non-null    float64\n",
      " 6   Fare      891 non-null    float64\n",
      " 7   Embarked  891 non-null    float64\n",
      "dtypes: float64(6), int32(1), int64(1)\n",
      "memory usage: 52.3 KB\n"
     ]
    }
   ],
   "source": [
    "train.info()"
   ]
  },
  {
   "cell_type": "code",
   "execution_count": 105,
   "id": "9ac14f57",
   "metadata": {},
   "outputs": [],
   "source": [
    "test=test.drop(columns=['Cabin','Name','Ticket','PassengerId'],axis=1)"
   ]
  },
  {
   "cell_type": "code",
   "execution_count": 106,
   "id": "ea383f55",
   "metadata": {},
   "outputs": [
    {
     "name": "stdout",
     "output_type": "stream",
     "text": [
      "<class 'pandas.core.frame.DataFrame'>\n",
      "RangeIndex: 418 entries, 0 to 417\n",
      "Data columns (total 7 columns):\n",
      " #   Column    Non-Null Count  Dtype  \n",
      "---  ------    --------------  -----  \n",
      " 0   Pclass    418 non-null    float64\n",
      " 1   Sex       418 non-null    int32  \n",
      " 2   Age       418 non-null    float64\n",
      " 3   SibSp     418 non-null    float64\n",
      " 4   Parch     418 non-null    float64\n",
      " 5   Fare      418 non-null    float64\n",
      " 6   Embarked  418 non-null    int32  \n",
      "dtypes: float64(5), int32(2)\n",
      "memory usage: 19.7 KB\n"
     ]
    }
   ],
   "source": [
    "test.info()"
   ]
  },
  {
   "cell_type": "code",
   "execution_count": 107,
   "id": "2c8b108e",
   "metadata": {},
   "outputs": [],
   "source": [
    "x=train.drop(columns=['Survived'],axis=1)"
   ]
  },
  {
   "cell_type": "code",
   "execution_count": 113,
   "id": "761b4ea7",
   "metadata": {},
   "outputs": [],
   "source": [
    "y_train=train.Survived"
   ]
  },
  {
   "cell_type": "code",
   "execution_count": null,
   "id": "485dce2e",
   "metadata": {},
   "outputs": [],
   "source": [
    "# fEature scaling"
   ]
  },
  {
   "cell_type": "code",
   "execution_count": 111,
   "id": "30d78920",
   "metadata": {},
   "outputs": [],
   "source": [
    "scaler=StandardScaler()\n",
    "x_train=scaler.fit_transform(x)\n",
    "x_test=scaler.fit_transform(test)"
   ]
  },
  {
   "cell_type": "code",
   "execution_count": 112,
   "id": "0e9fde3b",
   "metadata": {},
   "outputs": [],
   "source": [
    "# logistic regression"
   ]
  },
  {
   "cell_type": "code",
   "execution_count": 114,
   "id": "6597367a",
   "metadata": {},
   "outputs": [
    {
     "data": {
      "text/plain": [
       "LogisticRegression()"
      ]
     },
     "execution_count": 114,
     "metadata": {},
     "output_type": "execute_result"
    }
   ],
   "source": [
    "logit_model=LogisticRegression()\n",
    "logit_model.fit(x_train,y_train)"
   ]
  },
  {
   "cell_type": "code",
   "execution_count": 115,
   "id": "e2aafdfb",
   "metadata": {},
   "outputs": [
    {
     "data": {
      "text/plain": [
       "0.8013468013468014"
      ]
     },
     "execution_count": 115,
     "metadata": {},
     "output_type": "execute_result"
    }
   ],
   "source": [
    "logit_model.score(x_train,y_train)"
   ]
  },
  {
   "cell_type": "code",
   "execution_count": 116,
   "id": "e54e9708",
   "metadata": {},
   "outputs": [],
   "source": [
    "pred=logit_model.predict(x_train)"
   ]
  },
  {
   "cell_type": "code",
   "execution_count": 118,
   "id": "3cb71259",
   "metadata": {},
   "outputs": [],
   "source": [
    "from sklearn import metrics\n",
    "from sklearn.model_selection import cross_val_score,KFold"
   ]
  },
  {
   "cell_type": "code",
   "execution_count": 121,
   "id": "0f7f7aec",
   "metadata": {},
   "outputs": [
    {
     "name": "stdout",
     "output_type": "stream",
     "text": [
      "0.7845207457158998\n"
     ]
    }
   ],
   "source": [
    "print((cross_val_score(logit_model,x_train,y_train)).mean())"
   ]
  },
  {
   "cell_type": "code",
   "execution_count": 122,
   "id": "4d50057a",
   "metadata": {},
   "outputs": [
    {
     "name": "stdout",
     "output_type": "stream",
     "text": [
      "              precision    recall  f1-score   support\n",
      "\n",
      "           0       0.82      0.86      0.84       549\n",
      "           1       0.76      0.70      0.73       342\n",
      "\n",
      "    accuracy                           0.80       891\n",
      "   macro avg       0.79      0.78      0.79       891\n",
      "weighted avg       0.80      0.80      0.80       891\n",
      "\n"
     ]
    }
   ],
   "source": [
    "print(metrics.classification_report(y_train,pred))"
   ]
  },
  {
   "cell_type": "code",
   "execution_count": null,
   "id": "03050ec1",
   "metadata": {},
   "outputs": [],
   "source": [
    "# decision tree"
   ]
  },
  {
   "cell_type": "code",
   "execution_count": 125,
   "id": "88992e36",
   "metadata": {},
   "outputs": [],
   "source": [
    "dt_model=DecisionTreeClassifier()"
   ]
  },
  {
   "cell_type": "code",
   "execution_count": 182,
   "id": "d5f5b6fe",
   "metadata": {},
   "outputs": [],
   "source": [
    "from sklearn.model_selection import GridSearchCV,RandomizedSearchCV"
   ]
  },
  {
   "cell_type": "code",
   "execution_count": 124,
   "id": "dcc6c1b1",
   "metadata": {},
   "outputs": [],
   "source": [
    "param={'criterion':['gini','entropy'],'max_depth':range(2,20),'max_leaf_nodes':range(2,20)}"
   ]
  },
  {
   "cell_type": "code",
   "execution_count": 126,
   "id": "1a6b75b4",
   "metadata": {},
   "outputs": [],
   "source": [
    "grid=GridSearchCV(dt_model,param_grid=param,cv=5)"
   ]
  },
  {
   "cell_type": "code",
   "execution_count": 127,
   "id": "28528590",
   "metadata": {},
   "outputs": [
    {
     "data": {
      "text/plain": [
       "GridSearchCV(cv=5, estimator=DecisionTreeClassifier(),\n",
       "             param_grid={'criterion': ['gini', 'entropy'],\n",
       "                         'max_depth': range(2, 20),\n",
       "                         'max_leaf_nodes': range(2, 20)})"
      ]
     },
     "execution_count": 127,
     "metadata": {},
     "output_type": "execute_result"
    }
   ],
   "source": [
    "grid.fit(x_train,y_train)"
   ]
  },
  {
   "cell_type": "code",
   "execution_count": 128,
   "id": "cf5962f0",
   "metadata": {},
   "outputs": [
    {
     "data": {
      "text/plain": [
       "{'criterion': 'gini', 'max_depth': 13, 'max_leaf_nodes': 16}"
      ]
     },
     "execution_count": 128,
     "metadata": {},
     "output_type": "execute_result"
    }
   ],
   "source": [
    "grid.best_params_"
   ]
  },
  {
   "cell_type": "code",
   "execution_count": 129,
   "id": "5008dd34",
   "metadata": {},
   "outputs": [],
   "source": [
    "dt_model1=DecisionTreeClassifier(criterion='gini',max_depth=13,max_leaf_nodes=16)"
   ]
  },
  {
   "cell_type": "code",
   "execution_count": 130,
   "id": "63d7de99",
   "metadata": {},
   "outputs": [
    {
     "data": {
      "text/plain": [
       "DecisionTreeClassifier(max_depth=13, max_leaf_nodes=16)"
      ]
     },
     "execution_count": 130,
     "metadata": {},
     "output_type": "execute_result"
    }
   ],
   "source": [
    "dt_model1.fit(x_train,y_train)"
   ]
  },
  {
   "cell_type": "code",
   "execution_count": 131,
   "id": "eb118304",
   "metadata": {},
   "outputs": [
    {
     "data": {
      "text/plain": [
       "0.8518518518518519"
      ]
     },
     "execution_count": 131,
     "metadata": {},
     "output_type": "execute_result"
    }
   ],
   "source": [
    "dt_model1.score(x_train,y_train)"
   ]
  },
  {
   "cell_type": "code",
   "execution_count": 132,
   "id": "832ecdd1",
   "metadata": {},
   "outputs": [],
   "source": [
    "pred=dt_model1.predict(x_train)"
   ]
  },
  {
   "cell_type": "code",
   "execution_count": 134,
   "id": "ae19ea34",
   "metadata": {},
   "outputs": [
    {
     "name": "stdout",
     "output_type": "stream",
     "text": [
      "0.8226727763480008\n"
     ]
    }
   ],
   "source": [
    "print((cross_val_score(dt_model1,x_train,y_train)).mean())"
   ]
  },
  {
   "cell_type": "code",
   "execution_count": 135,
   "id": "8a0f70f7",
   "metadata": {},
   "outputs": [
    {
     "name": "stdout",
     "output_type": "stream",
     "text": [
      "              precision    recall  f1-score   support\n",
      "\n",
      "           0       0.85      0.92      0.88       549\n",
      "           1       0.85      0.74      0.79       342\n",
      "\n",
      "    accuracy                           0.85       891\n",
      "   macro avg       0.85      0.83      0.84       891\n",
      "weighted avg       0.85      0.85      0.85       891\n",
      "\n"
     ]
    }
   ],
   "source": [
    "print(metrics.classification_report(y_train,pred))"
   ]
  },
  {
   "cell_type": "code",
   "execution_count": null,
   "id": "79b68ce2",
   "metadata": {},
   "outputs": [],
   "source": [
    "# KNN"
   ]
  },
  {
   "cell_type": "code",
   "execution_count": 136,
   "id": "c003d36a",
   "metadata": {},
   "outputs": [],
   "source": [
    "from sklearn.neighbors import KNeighborsClassifier"
   ]
  },
  {
   "cell_type": "code",
   "execution_count": 137,
   "id": "c88fdee5",
   "metadata": {},
   "outputs": [],
   "source": [
    "knn_model=KNeighborsClassifier()"
   ]
  },
  {
   "cell_type": "code",
   "execution_count": 140,
   "id": "6cfede7f",
   "metadata": {},
   "outputs": [],
   "source": [
    "param1={'n_neighbors':range(1,15)}"
   ]
  },
  {
   "cell_type": "code",
   "execution_count": 141,
   "id": "5bbd2710",
   "metadata": {},
   "outputs": [],
   "source": [
    "grid2=GridSearchCV(knn_model,param_grid=param1,cv=5)"
   ]
  },
  {
   "cell_type": "code",
   "execution_count": 142,
   "id": "e2dddf56",
   "metadata": {},
   "outputs": [
    {
     "data": {
      "text/plain": [
       "GridSearchCV(cv=5, estimator=KNeighborsClassifier(),\n",
       "             param_grid={'n_neighbors': range(1, 15)})"
      ]
     },
     "execution_count": 142,
     "metadata": {},
     "output_type": "execute_result"
    }
   ],
   "source": [
    "grid2.fit(x_train,y_train)"
   ]
  },
  {
   "cell_type": "code",
   "execution_count": 143,
   "id": "adbeb7da",
   "metadata": {},
   "outputs": [
    {
     "data": {
      "text/plain": [
       "{'n_neighbors': 14}"
      ]
     },
     "execution_count": 143,
     "metadata": {},
     "output_type": "execute_result"
    }
   ],
   "source": [
    "grid2.best_params_"
   ]
  },
  {
   "cell_type": "code",
   "execution_count": 144,
   "id": "26de6642",
   "metadata": {},
   "outputs": [],
   "source": [
    "knn_model1=KNeighborsClassifier(n_neighbors=14)"
   ]
  },
  {
   "cell_type": "code",
   "execution_count": 145,
   "id": "fa26efcb",
   "metadata": {},
   "outputs": [
    {
     "data": {
      "text/plain": [
       "KNeighborsClassifier(n_neighbors=14)"
      ]
     },
     "execution_count": 145,
     "metadata": {},
     "output_type": "execute_result"
    }
   ],
   "source": [
    "knn_model1.fit(x_train,y_train)"
   ]
  },
  {
   "cell_type": "code",
   "execution_count": 146,
   "id": "7a95a35c",
   "metadata": {},
   "outputs": [
    {
     "data": {
      "text/plain": [
       "0.8271604938271605"
      ]
     },
     "execution_count": 146,
     "metadata": {},
     "output_type": "execute_result"
    }
   ],
   "source": [
    "knn_model1.score(x_train,y_train)"
   ]
  },
  {
   "cell_type": "code",
   "execution_count": 147,
   "id": "19d42a2a",
   "metadata": {},
   "outputs": [],
   "source": [
    "pred=knn_model1.predict(x_train)"
   ]
  },
  {
   "cell_type": "code",
   "execution_count": 149,
   "id": "db67fbd2",
   "metadata": {},
   "outputs": [
    {
     "name": "stdout",
     "output_type": "stream",
     "text": [
      "0.8136902893729208\n"
     ]
    }
   ],
   "source": [
    "print((cross_val_score(knn_model1,x_train,y_train,cv=5)).mean())"
   ]
  },
  {
   "cell_type": "code",
   "execution_count": 150,
   "id": "3e3257a9",
   "metadata": {},
   "outputs": [
    {
     "name": "stdout",
     "output_type": "stream",
     "text": [
      "              precision    recall  f1-score   support\n",
      "\n",
      "           0       0.82      0.92      0.87       549\n",
      "           1       0.84      0.68      0.75       342\n",
      "\n",
      "    accuracy                           0.83       891\n",
      "   macro avg       0.83      0.80      0.81       891\n",
      "weighted avg       0.83      0.83      0.82       891\n",
      "\n"
     ]
    }
   ],
   "source": [
    "print(metrics.classification_report(y_train,pred))"
   ]
  },
  {
   "cell_type": "code",
   "execution_count": null,
   "id": "90f04657",
   "metadata": {},
   "outputs": [],
   "source": [
    "# SVM"
   ]
  },
  {
   "cell_type": "code",
   "execution_count": 151,
   "id": "5f746de9",
   "metadata": {},
   "outputs": [
    {
     "name": "stdout",
     "output_type": "stream",
     "text": [
      "Fitting 5 folds for each of 10 candidates, totalling 50 fits\n",
      "[CV 1/5; 1/10] START C=0.001, gamma=0.01, kernel=sigmoid........................\n",
      "[CV 1/5; 1/10] END C=0.001, gamma=0.01, kernel=sigmoid;, score=0.615 total time=   0.0s\n",
      "[CV 2/5; 1/10] START C=0.001, gamma=0.01, kernel=sigmoid........................\n",
      "[CV 2/5; 1/10] END C=0.001, gamma=0.01, kernel=sigmoid;, score=0.618 total time=   0.0s\n",
      "[CV 3/5; 1/10] START C=0.001, gamma=0.01, kernel=sigmoid........................\n",
      "[CV 3/5; 1/10] END C=0.001, gamma=0.01, kernel=sigmoid;, score=0.618 total time=   0.0s\n",
      "[CV 4/5; 1/10] START C=0.001, gamma=0.01, kernel=sigmoid........................\n",
      "[CV 4/5; 1/10] END C=0.001, gamma=0.01, kernel=sigmoid;, score=0.618 total time=   0.0s\n",
      "[CV 5/5; 1/10] START C=0.001, gamma=0.01, kernel=sigmoid........................\n",
      "[CV 5/5; 1/10] END C=0.001, gamma=0.01, kernel=sigmoid;, score=0.612 total time=   0.0s\n",
      "[CV 1/5; 2/10] START C=10, gamma=0.01, kernel=linear............................\n",
      "[CV 1/5; 2/10] END C=10, gamma=0.01, kernel=linear;, score=0.804 total time=   0.1s\n",
      "[CV 2/5; 2/10] START C=10, gamma=0.01, kernel=linear............................\n",
      "[CV 2/5; 2/10] END C=10, gamma=0.01, kernel=linear;, score=0.809 total time=   0.1s\n",
      "[CV 3/5; 2/10] START C=10, gamma=0.01, kernel=linear............................\n",
      "[CV 3/5; 2/10] END C=10, gamma=0.01, kernel=linear;, score=0.787 total time=   0.1s\n",
      "[CV 4/5; 2/10] START C=10, gamma=0.01, kernel=linear............................\n",
      "[CV 4/5; 2/10] END C=10, gamma=0.01, kernel=linear;, score=0.753 total time=   0.0s\n",
      "[CV 5/5; 2/10] START C=10, gamma=0.01, kernel=linear............................\n",
      "[CV 5/5; 2/10] END C=10, gamma=0.01, kernel=linear;, score=0.787 total time=   0.0s\n",
      "[CV 1/5; 3/10] START C=0.1, gamma=0.1, kernel=linear............................\n",
      "[CV 1/5; 3/10] END C=0.1, gamma=0.1, kernel=linear;, score=0.804 total time=   0.0s\n",
      "[CV 2/5; 3/10] START C=0.1, gamma=0.1, kernel=linear............................\n",
      "[CV 2/5; 3/10] END C=0.1, gamma=0.1, kernel=linear;, score=0.809 total time=   0.0s\n",
      "[CV 3/5; 3/10] START C=0.1, gamma=0.1, kernel=linear............................\n",
      "[CV 3/5; 3/10] END C=0.1, gamma=0.1, kernel=linear;, score=0.787 total time=   0.0s\n",
      "[CV 4/5; 3/10] START C=0.1, gamma=0.1, kernel=linear............................\n",
      "[CV 4/5; 3/10] END C=0.1, gamma=0.1, kernel=linear;, score=0.753 total time=   0.0s\n",
      "[CV 5/5; 3/10] START C=0.1, gamma=0.1, kernel=linear............................\n",
      "[CV 5/5; 3/10] END C=0.1, gamma=0.1, kernel=linear;, score=0.787 total time=   0.0s\n",
      "[CV 1/5; 4/10] START C=0.1, gamma=0.01, kernel=poly.............................\n",
      "[CV 1/5; 4/10] END C=0.1, gamma=0.01, kernel=poly;, score=0.615 total time=   0.0s\n",
      "[CV 2/5; 4/10] START C=0.1, gamma=0.01, kernel=poly.............................\n",
      "[CV 2/5; 4/10] END C=0.1, gamma=0.01, kernel=poly;, score=0.618 total time=   0.0s\n",
      "[CV 3/5; 4/10] START C=0.1, gamma=0.01, kernel=poly.............................\n",
      "[CV 3/5; 4/10] END C=0.1, gamma=0.01, kernel=poly;, score=0.618 total time=   0.0s\n",
      "[CV 4/5; 4/10] START C=0.1, gamma=0.01, kernel=poly.............................\n",
      "[CV 4/5; 4/10] END C=0.1, gamma=0.01, kernel=poly;, score=0.618 total time=   0.0s\n",
      "[CV 5/5; 4/10] START C=0.1, gamma=0.01, kernel=poly.............................\n",
      "[CV 5/5; 4/10] END C=0.1, gamma=0.01, kernel=poly;, score=0.612 total time=   0.0s\n",
      "[CV 1/5; 5/10] START C=0.0001, gamma=0.01, kernel=linear........................\n",
      "[CV 1/5; 5/10] END C=0.0001, gamma=0.01, kernel=linear;, score=0.615 total time=   0.0s\n",
      "[CV 2/5; 5/10] START C=0.0001, gamma=0.01, kernel=linear........................\n",
      "[CV 2/5; 5/10] END C=0.0001, gamma=0.01, kernel=linear;, score=0.618 total time=   0.0s\n",
      "[CV 3/5; 5/10] START C=0.0001, gamma=0.01, kernel=linear........................\n",
      "[CV 3/5; 5/10] END C=0.0001, gamma=0.01, kernel=linear;, score=0.618 total time=   0.0s\n",
      "[CV 4/5; 5/10] START C=0.0001, gamma=0.01, kernel=linear........................\n",
      "[CV 4/5; 5/10] END C=0.0001, gamma=0.01, kernel=linear;, score=0.618 total time=   0.0s\n",
      "[CV 5/5; 5/10] START C=0.0001, gamma=0.01, kernel=linear........................\n",
      "[CV 5/5; 5/10] END C=0.0001, gamma=0.01, kernel=linear;, score=0.612 total time=   0.0s\n",
      "[CV 1/5; 6/10] START C=0.001, gamma=0.1, kernel=linear..........................\n",
      "[CV 1/5; 6/10] END C=0.001, gamma=0.1, kernel=linear;, score=0.626 total time=   0.0s\n",
      "[CV 2/5; 6/10] START C=0.001, gamma=0.1, kernel=linear..........................\n",
      "[CV 2/5; 6/10] END C=0.001, gamma=0.1, kernel=linear;, score=0.652 total time=   0.0s\n",
      "[CV 3/5; 6/10] START C=0.001, gamma=0.1, kernel=linear..........................\n",
      "[CV 3/5; 6/10] END C=0.001, gamma=0.1, kernel=linear;, score=0.629 total time=   0.0s\n",
      "[CV 4/5; 6/10] START C=0.001, gamma=0.1, kernel=linear..........................\n",
      "[CV 4/5; 6/10] END C=0.001, gamma=0.1, kernel=linear;, score=0.635 total time=   0.0s\n",
      "[CV 5/5; 6/10] START C=0.001, gamma=0.1, kernel=linear..........................\n",
      "[CV 5/5; 6/10] END C=0.001, gamma=0.1, kernel=linear;, score=0.640 total time=   0.0s\n",
      "[CV 1/5; 7/10] START C=0.0001, gamma=0.5, kernel=linear.........................\n",
      "[CV 1/5; 7/10] END C=0.0001, gamma=0.5, kernel=linear;, score=0.615 total time=   0.0s\n",
      "[CV 2/5; 7/10] START C=0.0001, gamma=0.5, kernel=linear.........................\n",
      "[CV 2/5; 7/10] END C=0.0001, gamma=0.5, kernel=linear;, score=0.618 total time=   0.0s\n",
      "[CV 3/5; 7/10] START C=0.0001, gamma=0.5, kernel=linear.........................\n",
      "[CV 3/5; 7/10] END C=0.0001, gamma=0.5, kernel=linear;, score=0.618 total time=   0.0s\n",
      "[CV 4/5; 7/10] START C=0.0001, gamma=0.5, kernel=linear.........................\n",
      "[CV 4/5; 7/10] END C=0.0001, gamma=0.5, kernel=linear;, score=0.618 total time=   0.0s\n",
      "[CV 5/5; 7/10] START C=0.0001, gamma=0.5, kernel=linear.........................\n",
      "[CV 5/5; 7/10] END C=0.0001, gamma=0.5, kernel=linear;, score=0.612 total time=   0.0s\n",
      "[CV 1/5; 8/10] START C=0.1, gamma=0.1, kernel=poly..............................\n",
      "[CV 1/5; 8/10] END C=0.1, gamma=0.1, kernel=poly;, score=0.665 total time=   0.0s\n",
      "[CV 2/5; 8/10] START C=0.1, gamma=0.1, kernel=poly..............................\n",
      "[CV 2/5; 8/10] END C=0.1, gamma=0.1, kernel=poly;, score=0.736 total time=   0.0s\n",
      "[CV 3/5; 8/10] START C=0.1, gamma=0.1, kernel=poly..............................\n",
      "[CV 3/5; 8/10] END C=0.1, gamma=0.1, kernel=poly;, score=0.702 total time=   0.0s\n",
      "[CV 4/5; 8/10] START C=0.1, gamma=0.1, kernel=poly..............................\n",
      "[CV 4/5; 8/10] END C=0.1, gamma=0.1, kernel=poly;, score=0.697 total time=   0.0s\n",
      "[CV 5/5; 8/10] START C=0.1, gamma=0.1, kernel=poly..............................\n",
      "[CV 5/5; 8/10] END C=0.1, gamma=0.1, kernel=poly;, score=0.702 total time=   0.0s\n",
      "[CV 1/5; 9/10] START C=0.001, gamma=0.1, kernel=rbf.............................\n",
      "[CV 1/5; 9/10] END C=0.001, gamma=0.1, kernel=rbf;, score=0.615 total time=   0.0s\n",
      "[CV 2/5; 9/10] START C=0.001, gamma=0.1, kernel=rbf.............................\n",
      "[CV 2/5; 9/10] END C=0.001, gamma=0.1, kernel=rbf;, score=0.618 total time=   0.0s\n",
      "[CV 3/5; 9/10] START C=0.001, gamma=0.1, kernel=rbf.............................\n",
      "[CV 3/5; 9/10] END C=0.001, gamma=0.1, kernel=rbf;, score=0.618 total time=   0.0s\n",
      "[CV 4/5; 9/10] START C=0.001, gamma=0.1, kernel=rbf.............................\n",
      "[CV 4/5; 9/10] END C=0.001, gamma=0.1, kernel=rbf;, score=0.618 total time=   0.0s\n",
      "[CV 5/5; 9/10] START C=0.001, gamma=0.1, kernel=rbf.............................\n",
      "[CV 5/5; 9/10] END C=0.001, gamma=0.1, kernel=rbf;, score=0.612 total time=   0.0s\n",
      "[CV 1/5; 10/10] START C=0.001, gamma=0.01, kernel=linear........................\n",
      "[CV 1/5; 10/10] END C=0.001, gamma=0.01, kernel=linear;, score=0.626 total time=   0.0s\n",
      "[CV 2/5; 10/10] START C=0.001, gamma=0.01, kernel=linear........................\n",
      "[CV 2/5; 10/10] END C=0.001, gamma=0.01, kernel=linear;, score=0.652 total time=   0.0s\n",
      "[CV 3/5; 10/10] START C=0.001, gamma=0.01, kernel=linear........................\n",
      "[CV 3/5; 10/10] END C=0.001, gamma=0.01, kernel=linear;, score=0.629 total time=   0.0s\n",
      "[CV 4/5; 10/10] START C=0.001, gamma=0.01, kernel=linear........................\n",
      "[CV 4/5; 10/10] END C=0.001, gamma=0.01, kernel=linear;, score=0.635 total time=   0.0s\n",
      "[CV 5/5; 10/10] START C=0.001, gamma=0.01, kernel=linear........................\n",
      "[CV 5/5; 10/10] END C=0.001, gamma=0.01, kernel=linear;, score=0.640 total time=   0.0s\n"
     ]
    },
    {
     "data": {
      "text/plain": [
       "RandomizedSearchCV(estimator=SVC(),\n",
       "                   param_distributions=[{'C': [10, 0.1, 0.001, 0.0001],\n",
       "                                         'gamma': [0.5, 0.1, 0.01],\n",
       "                                         'kernel': ['linear', 'rbf', 'poly',\n",
       "                                                    'sigmoid']}],\n",
       "                   verbose=300)"
      ]
     },
     "execution_count": 151,
     "metadata": {},
     "output_type": "execute_result"
    }
   ],
   "source": [
    "from sklearn.svm import SVC # \"Support vector classifier\"  \n",
    "svm_model=SVC()\n",
    "param_grid=[{'kernel':['linear','rbf','poly','sigmoid'],'gamma':[0.5,0.1,0.01],'C':[10,0.1,0.001,0.0001] }]\n",
    "grid3=RandomizedSearchCV(svm_model,param_grid,verbose=300)\n",
    "grid3.fit(x_train,y_train)"
   ]
  },
  {
   "cell_type": "code",
   "execution_count": 152,
   "id": "785cb5d6",
   "metadata": {},
   "outputs": [
    {
     "data": {
      "text/plain": [
       "{'kernel': 'linear', 'gamma': 0.01, 'C': 10}"
      ]
     },
     "execution_count": 152,
     "metadata": {},
     "output_type": "execute_result"
    }
   ],
   "source": [
    "grid3.best_params_"
   ]
  },
  {
   "cell_type": "code",
   "execution_count": 153,
   "id": "4d9c5121",
   "metadata": {},
   "outputs": [],
   "source": [
    "svm_model1=SVC(kernel='linear',gamma=0.01,C=10)"
   ]
  },
  {
   "cell_type": "code",
   "execution_count": 154,
   "id": "f548a526",
   "metadata": {},
   "outputs": [
    {
     "data": {
      "text/plain": [
       "SVC(C=10, gamma=0.01, kernel='linear')"
      ]
     },
     "execution_count": 154,
     "metadata": {},
     "output_type": "execute_result"
    }
   ],
   "source": [
    "svm_model1.fit(x_train,y_train)"
   ]
  },
  {
   "cell_type": "code",
   "execution_count": 155,
   "id": "d6eed81c",
   "metadata": {},
   "outputs": [
    {
     "data": {
      "text/plain": [
       "0.7867564534231201"
      ]
     },
     "execution_count": 155,
     "metadata": {},
     "output_type": "execute_result"
    }
   ],
   "source": [
    "svm_model1.score(x_train,y_train)"
   ]
  },
  {
   "cell_type": "code",
   "execution_count": 156,
   "id": "496571b5",
   "metadata": {},
   "outputs": [],
   "source": [
    "pred=svm_model1.predict(x_train)"
   ]
  },
  {
   "cell_type": "code",
   "execution_count": 158,
   "id": "9bac8ca6",
   "metadata": {},
   "outputs": [
    {
     "name": "stdout",
     "output_type": "stream",
     "text": [
      "0.7878601468834348\n"
     ]
    }
   ],
   "source": [
    "print((cross_val_score(svm_model1,x_train,y_train,cv=5)).mean())"
   ]
  },
  {
   "cell_type": "code",
   "execution_count": 159,
   "id": "59bc54cb",
   "metadata": {},
   "outputs": [
    {
     "name": "stdout",
     "output_type": "stream",
     "text": [
      "              precision    recall  f1-score   support\n",
      "\n",
      "           0       0.81      0.85      0.83       549\n",
      "           1       0.74      0.68      0.71       342\n",
      "\n",
      "    accuracy                           0.79       891\n",
      "   macro avg       0.78      0.77      0.77       891\n",
      "weighted avg       0.78      0.79      0.78       891\n",
      "\n"
     ]
    }
   ],
   "source": [
    "print(metrics.classification_report(y_train,pred))"
   ]
  },
  {
   "cell_type": "code",
   "execution_count": 160,
   "id": "6b4898bd",
   "metadata": {},
   "outputs": [],
   "source": [
    "from sklearn.naive_bayes import GaussianNB"
   ]
  },
  {
   "cell_type": "code",
   "execution_count": 161,
   "id": "1abafe04",
   "metadata": {},
   "outputs": [
    {
     "data": {
      "text/plain": [
       "GaussianNB()"
      ]
     },
     "execution_count": 161,
     "metadata": {},
     "output_type": "execute_result"
    }
   ],
   "source": [
    "naive_model=GaussianNB()\n",
    "naive_model.fit(x_train,y_train)"
   ]
  },
  {
   "cell_type": "code",
   "execution_count": 162,
   "id": "64c47807",
   "metadata": {},
   "outputs": [],
   "source": [
    "pred=naive_model.predict(x_train)"
   ]
  },
  {
   "cell_type": "code",
   "execution_count": 163,
   "id": "f17f1131",
   "metadata": {},
   "outputs": [
    {
     "data": {
      "text/plain": [
       "0.792368125701459"
      ]
     },
     "execution_count": 163,
     "metadata": {},
     "output_type": "execute_result"
    }
   ],
   "source": [
    "naive_model.score(x_train,y_train)"
   ]
  },
  {
   "cell_type": "code",
   "execution_count": 167,
   "id": "1971004b",
   "metadata": {},
   "outputs": [
    {
     "name": "stdout",
     "output_type": "stream",
     "text": [
      "0.7912685958194715\n"
     ]
    }
   ],
   "source": [
    "print((cross_val_score(naive_model,x_train,y_train,cv=5)).mean())"
   ]
  },
  {
   "cell_type": "code",
   "execution_count": 168,
   "id": "8aa36447",
   "metadata": {},
   "outputs": [],
   "source": [
    "from sklearn.ensemble import VotingClassifier"
   ]
  },
  {
   "cell_type": "code",
   "execution_count": 169,
   "id": "c0477565",
   "metadata": {},
   "outputs": [],
   "source": [
    "ensemble=[]\n",
    "ensemble.append(('lr',logit_model))\n",
    "ensemble.append(('dt',dt_model1))\n",
    "ensemble.append(('knn',knn_model1))\n",
    "ensemble.append(('SVC',svm_model1))\n",
    "ensemble.append(('Naive',naive_model))"
   ]
  },
  {
   "cell_type": "code",
   "execution_count": 171,
   "id": "aec99d7f",
   "metadata": {},
   "outputs": [],
   "source": [
    "voting=VotingClassifier(estimators=ensemble)"
   ]
  },
  {
   "cell_type": "code",
   "execution_count": 172,
   "id": "1512d144",
   "metadata": {},
   "outputs": [
    {
     "data": {
      "text/plain": [
       "VotingClassifier(estimators=[('lr', LogisticRegression()),\n",
       "                             ('dt',\n",
       "                              DecisionTreeClassifier(max_depth=13,\n",
       "                                                     max_leaf_nodes=16)),\n",
       "                             ('knn', KNeighborsClassifier(n_neighbors=14)),\n",
       "                             ('SVC', SVC(C=10, gamma=0.01, kernel='linear')),\n",
       "                             ('Naive', GaussianNB())])"
      ]
     },
     "execution_count": 172,
     "metadata": {},
     "output_type": "execute_result"
    }
   ],
   "source": [
    "voting.fit(x_train,y_train)"
   ]
  },
  {
   "cell_type": "code",
   "execution_count": 173,
   "id": "57c6871b",
   "metadata": {},
   "outputs": [
    {
     "data": {
      "text/plain": [
       "0.8125701459034792"
      ]
     },
     "execution_count": 173,
     "metadata": {},
     "output_type": "execute_result"
    }
   ],
   "source": [
    "voting.score(x_train,y_train)"
   ]
  },
  {
   "cell_type": "code",
   "execution_count": 174,
   "id": "8f435a8a",
   "metadata": {},
   "outputs": [],
   "source": [
    "pred=voting.predict(x_train)"
   ]
  },
  {
   "cell_type": "code",
   "execution_count": 175,
   "id": "7bb51ab9",
   "metadata": {},
   "outputs": [
    {
     "name": "stdout",
     "output_type": "stream",
     "text": [
      "0.8024606113866046\n"
     ]
    }
   ],
   "source": [
    "print((cross_val_score(voting,x_train,y_train,cv=5)).mean())"
   ]
  },
  {
   "cell_type": "code",
   "execution_count": 176,
   "id": "34083a8e",
   "metadata": {},
   "outputs": [
    {
     "name": "stdout",
     "output_type": "stream",
     "text": [
      "              precision    recall  f1-score   support\n",
      "\n",
      "           0       0.82      0.89      0.85       549\n",
      "           1       0.79      0.69      0.74       342\n",
      "\n",
      "    accuracy                           0.81       891\n",
      "   macro avg       0.81      0.79      0.80       891\n",
      "weighted avg       0.81      0.81      0.81       891\n",
      "\n"
     ]
    }
   ],
   "source": [
    "print(metrics.classification_report(y_train,pred))"
   ]
  },
  {
   "cell_type": "code",
   "execution_count": null,
   "id": "6ce5804c",
   "metadata": {},
   "outputs": [],
   "source": [
    "# Random forest"
   ]
  },
  {
   "cell_type": "code",
   "execution_count": 177,
   "id": "2f30e2bc",
   "metadata": {},
   "outputs": [],
   "source": [
    "rand_model=RandomForestClassifier()"
   ]
  },
  {
   "cell_type": "code",
   "execution_count": 179,
   "id": "eabc3500",
   "metadata": {},
   "outputs": [],
   "source": [
    "param={'criterion':['gini','entropy'],'max_depth':range(2,20),'max_leaf_nodes':range(2,20)}"
   ]
  },
  {
   "cell_type": "code",
   "execution_count": 184,
   "id": "fb7905a3",
   "metadata": {},
   "outputs": [],
   "source": [
    "grid4=RandomizedSearchCV(rand_model,param,cv=5)"
   ]
  },
  {
   "cell_type": "code",
   "execution_count": 185,
   "id": "9cd97074",
   "metadata": {},
   "outputs": [
    {
     "data": {
      "text/plain": [
       "RandomizedSearchCV(cv=5, estimator=RandomForestClassifier(),\n",
       "                   param_distributions={'criterion': ['gini', 'entropy'],\n",
       "                                        'max_depth': range(2, 20),\n",
       "                                        'max_leaf_nodes': range(2, 20)})"
      ]
     },
     "execution_count": 185,
     "metadata": {},
     "output_type": "execute_result"
    }
   ],
   "source": [
    "grid4.fit(x_train,y_train)"
   ]
  },
  {
   "cell_type": "code",
   "execution_count": 198,
   "id": "ebe7cdb1",
   "metadata": {},
   "outputs": [
    {
     "data": {
      "text/plain": [
       "{'max_leaf_nodes': 16, 'max_depth': 17, 'criterion': 'gini'}"
      ]
     },
     "execution_count": 198,
     "metadata": {},
     "output_type": "execute_result"
    }
   ],
   "source": [
    "grid4.best_params_"
   ]
  },
  {
   "cell_type": "code",
   "execution_count": 186,
   "id": "4227207c",
   "metadata": {},
   "outputs": [
    {
     "data": {
      "text/plain": [
       "0.8552188552188552"
      ]
     },
     "execution_count": 186,
     "metadata": {},
     "output_type": "execute_result"
    }
   ],
   "source": [
    "grid4.score(x_train,y_train)"
   ]
  },
  {
   "cell_type": "code",
   "execution_count": 187,
   "id": "41baeec5",
   "metadata": {},
   "outputs": [],
   "source": [
    "pred=grid4.predict(x_train)"
   ]
  },
  {
   "cell_type": "code",
   "execution_count": 254,
   "id": "5ec530b3",
   "metadata": {},
   "outputs": [],
   "source": [
    "rand_model1=RandomForestClassifier(criterion='gini',max_depth=17,max_leaf_nodes=16,n_estimators=100)"
   ]
  },
  {
   "cell_type": "code",
   "execution_count": 255,
   "id": "f771205a",
   "metadata": {},
   "outputs": [
    {
     "data": {
      "text/plain": [
       "RandomForestClassifier(max_depth=17, max_leaf_nodes=16)"
      ]
     },
     "execution_count": 255,
     "metadata": {},
     "output_type": "execute_result"
    }
   ],
   "source": [
    "rand_model1.fit(x_train,y_train)"
   ]
  },
  {
   "cell_type": "code",
   "execution_count": 256,
   "id": "1231860e",
   "metadata": {},
   "outputs": [],
   "source": [
    "pred=rand_model1.predict(x_train)"
   ]
  },
  {
   "cell_type": "code",
   "execution_count": 257,
   "id": "538a965b",
   "metadata": {},
   "outputs": [
    {
     "name": "stdout",
     "output_type": "stream",
     "text": [
      "0.8159688657334756\n"
     ]
    }
   ],
   "source": [
    "print((cross_val_score(rand_model1,x_train,y_train,cv=5)).mean())"
   ]
  },
  {
   "cell_type": "code",
   "execution_count": 203,
   "id": "f0aedf4c",
   "metadata": {},
   "outputs": [
    {
     "name": "stdout",
     "output_type": "stream",
     "text": [
      "              precision    recall  f1-score   support\n",
      "\n",
      "           0       0.84      0.95      0.89       549\n",
      "           1       0.90      0.70      0.79       342\n",
      "\n",
      "    accuracy                           0.86       891\n",
      "   macro avg       0.87      0.83      0.84       891\n",
      "weighted avg       0.86      0.86      0.85       891\n",
      "\n"
     ]
    }
   ],
   "source": [
    "print(metrics.classification_report(y_train,pred))"
   ]
  },
  {
   "cell_type": "code",
   "execution_count": 190,
   "id": "3fe55f93",
   "metadata": {},
   "outputs": [],
   "source": [
    "grad_model=GradientBoostingClassifier()\n",
    "grad_model.fit(x_train,y_train)\n",
    "pred=grad_model.predict(x_train)"
   ]
  },
  {
   "cell_type": "code",
   "execution_count": 191,
   "id": "8455f159",
   "metadata": {},
   "outputs": [
    {
     "data": {
      "text/plain": [
       "0.8933782267115601"
      ]
     },
     "execution_count": 191,
     "metadata": {},
     "output_type": "execute_result"
    }
   ],
   "source": [
    "grad_model.score(x_train,y_train)"
   ]
  },
  {
   "cell_type": "code",
   "execution_count": 192,
   "id": "50b76dfc",
   "metadata": {},
   "outputs": [
    {
     "name": "stdout",
     "output_type": "stream",
     "text": [
      "0.8024606113866046\n",
      "              precision    recall  f1-score   support\n",
      "\n",
      "           0       0.89      0.95      0.92       549\n",
      "           1       0.90      0.81      0.85       342\n",
      "\n",
      "    accuracy                           0.89       891\n",
      "   macro avg       0.90      0.88      0.88       891\n",
      "weighted avg       0.89      0.89      0.89       891\n",
      "\n"
     ]
    }
   ],
   "source": [
    "print((cross_val_score(voting,x_train,y_train,cv=5)).mean())\n",
    "print(metrics.classification_report(y_train,pred))"
   ]
  },
  {
   "cell_type": "code",
   "execution_count": null,
   "id": "6956d954",
   "metadata": {},
   "outputs": [],
   "source": [
    "# Xgboost"
   ]
  },
  {
   "cell_type": "code",
   "execution_count": 193,
   "id": "93ea873c",
   "metadata": {},
   "outputs": [],
   "source": [
    "xgr=xg.XGBRFClassifier()\n",
    "xgr.fit(x_train,y_train)\n",
    "pred=xgr.predict(x_train)"
   ]
  },
  {
   "cell_type": "code",
   "execution_count": 194,
   "id": "4e1237d2",
   "metadata": {},
   "outputs": [
    {
     "name": "stdout",
     "output_type": "stream",
     "text": [
      "0.8249450756386919\n",
      "              precision    recall  f1-score   support\n",
      "\n",
      "           0       0.86      0.96      0.91       549\n",
      "           1       0.91      0.75      0.82       342\n",
      "\n",
      "    accuracy                           0.88       891\n",
      "   macro avg       0.89      0.85      0.86       891\n",
      "weighted avg       0.88      0.88      0.87       891\n",
      "\n"
     ]
    }
   ],
   "source": [
    "print((cross_val_score(xgr,x_train,y_train,cv=5)).mean())\n",
    "print(metrics.classification_report(y_train,pred))"
   ]
  },
  {
   "cell_type": "code",
   "execution_count": 212,
   "id": "038345bf",
   "metadata": {},
   "outputs": [],
   "source": [
    "ada_model=AdaBoostClassifier()\n",
    "ada_model.fit(x_train,y_train)\n",
    "pred=xgr.predict(x_train)"
   ]
  },
  {
   "cell_type": "code",
   "execution_count": 213,
   "id": "6f6fc904",
   "metadata": {},
   "outputs": [
    {
     "name": "stdout",
     "output_type": "stream",
     "text": [
      "0.8025233820852427\n",
      "              precision    recall  f1-score   support\n",
      "\n",
      "           0       0.86      0.96      0.91       549\n",
      "           1       0.91      0.75      0.82       342\n",
      "\n",
      "    accuracy                           0.88       891\n",
      "   macro avg       0.89      0.85      0.86       891\n",
      "weighted avg       0.88      0.88      0.87       891\n",
      "\n"
     ]
    }
   ],
   "source": [
    "print((cross_val_score(ada_model,x_train,y_train,cv=5)).mean())\n",
    "print(metrics.classification_report(y_train,pred))"
   ]
  },
  {
   "cell_type": "code",
   "execution_count": 217,
   "id": "77c347a0",
   "metadata": {},
   "outputs": [],
   "source": [
    "ensemble.append(('ada',ada_model))\n",
    "ensemble.append(('rf',rand_model1))\n",
    "ensemble.append(('gd',grad_model))\n",
    "ensemble.append(('xg',xgr))"
   ]
  },
  {
   "cell_type": "code",
   "execution_count": 227,
   "id": "1af32bd7",
   "metadata": {},
   "outputs": [],
   "source": [
    "ensemble.remove(('ada',xgr))"
   ]
  },
  {
   "cell_type": "code",
   "execution_count": 228,
   "id": "de74b49e",
   "metadata": {},
   "outputs": [
    {
     "data": {
      "text/plain": [
       "[('lr', LogisticRegression()),\n",
       " ('dt', DecisionTreeClassifier(max_depth=13, max_leaf_nodes=16)),\n",
       " ('knn', KNeighborsClassifier(n_neighbors=14)),\n",
       " ('SVC', SVC(C=10, gamma=0.01, kernel='linear')),\n",
       " ('Naive', GaussianNB()),\n",
       " ('ada', AdaBoostClassifier()),\n",
       " ('rf', RandomForestClassifier(max_depth=17, max_leaf_nodes=16)),\n",
       " ('gd', GradientBoostingClassifier()),\n",
       " ('xg',\n",
       "  XGBRFClassifier(base_score=0.5, booster='gbtree', callbacks=None,\n",
       "                  colsample_bylevel=1, colsample_bytree=1,\n",
       "                  early_stopping_rounds=None, enable_categorical=False,\n",
       "                  eval_metric=None, feature_types=None, gamma=0, gpu_id=-1,\n",
       "                  grow_policy='depthwise', importance_type=None,\n",
       "                  interaction_constraints='', max_bin=256, max_cat_threshold=64,\n",
       "                  max_cat_to_onehot=4, max_delta_step=0, max_depth=6,\n",
       "                  max_leaves=0, min_child_weight=1, missing=nan,\n",
       "                  monotone_constraints='()', n_estimators=100, n_jobs=0,\n",
       "                  num_parallel_tree=100, objective='binary:logistic',\n",
       "                  predictor='auto', random_state=0, reg_alpha=0, ...))]"
      ]
     },
     "execution_count": 228,
     "metadata": {},
     "output_type": "execute_result"
    }
   ],
   "source": [
    "ensemble"
   ]
  },
  {
   "cell_type": "code",
   "execution_count": 229,
   "id": "399a06d8",
   "metadata": {},
   "outputs": [
    {
     "data": {
      "text/plain": [
       "VotingClassifier(estimators=[('lr', LogisticRegression()),\n",
       "                             ('dt',\n",
       "                              DecisionTreeClassifier(max_depth=13,\n",
       "                                                     max_leaf_nodes=16)),\n",
       "                             ('knn', KNeighborsClassifier(n_neighbors=14)),\n",
       "                             ('SVC', SVC(C=10, gamma=0.01, kernel='linear')),\n",
       "                             ('Naive', GaussianNB()),\n",
       "                             ('ada', AdaBoostClassifier()),\n",
       "                             ('rf',\n",
       "                              RandomForestClassifier(max_depth=17,\n",
       "                                                     max_leaf_nodes=16)),\n",
       "                             ('gd', GradientBoostingClass...\n",
       "                                              grow_policy='depthwise',\n",
       "                                              importance_type=None,\n",
       "                                              interaction_constraints='',\n",
       "                                              max_bin=256, max_cat_threshold=64,\n",
       "                                              max_cat_to_onehot=4,\n",
       "                                              max_delta_step=0, max_depth=6,\n",
       "                                              max_leaves=0, min_child_weight=1,\n",
       "                                              missing=nan,\n",
       "                                              monotone_constraints='()',\n",
       "                                              n_estimators=100, n_jobs=0,\n",
       "                                              num_parallel_tree=100,\n",
       "                                              objective='binary:logistic',\n",
       "                                              predictor='auto', random_state=0,\n",
       "                                              reg_alpha=0, ...))])"
      ]
     },
     "execution_count": 229,
     "metadata": {},
     "output_type": "execute_result"
    }
   ],
   "source": [
    "voting1=VotingClassifier(estimators=ensemble)\n",
    "voting1.fit(x_train,y_train)"
   ]
  },
  {
   "cell_type": "code",
   "execution_count": 231,
   "id": "14e4a5f9",
   "metadata": {},
   "outputs": [
    {
     "data": {
      "text/plain": [
       "0.8462401795735129"
      ]
     },
     "execution_count": 231,
     "metadata": {},
     "output_type": "execute_result"
    }
   ],
   "source": [
    "voting1.score(x_train,y_train)"
   ]
  },
  {
   "cell_type": "code",
   "execution_count": 232,
   "id": "3828ab25",
   "metadata": {},
   "outputs": [],
   "source": [
    "pred=voting1.predict(x_train)"
   ]
  },
  {
   "cell_type": "code",
   "execution_count": 233,
   "id": "42d2bd13",
   "metadata": {},
   "outputs": [
    {
     "name": "stdout",
     "output_type": "stream",
     "text": [
      "0.8170610758897746\n",
      "              precision    recall  f1-score   support\n",
      "\n",
      "           0       0.85      0.92      0.88       549\n",
      "           1       0.85      0.73      0.79       342\n",
      "\n",
      "    accuracy                           0.85       891\n",
      "   macro avg       0.85      0.83      0.83       891\n",
      "weighted avg       0.85      0.85      0.84       891\n",
      "\n"
     ]
    }
   ],
   "source": [
    "print((cross_val_score(voting1,x_train,y_train,cv=5)).mean())\n",
    "print(metrics.classification_report(y_train,pred))"
   ]
  },
  {
   "cell_type": "code",
   "execution_count": 253,
   "id": "3011155e",
   "metadata": {},
   "outputs": [],
   "source": [
    "answer = pd.read_csv(\"E:\\\\titanic-comp\\\\gender_submission.csv\")\n",
    "answer['Survived'] = cat_model.predict(x_test)\n",
    "answer.to_csv('submissionTT8.csv', index=False)"
   ]
  },
  {
   "cell_type": "code",
   "execution_count": 236,
   "id": "3c88f2f2",
   "metadata": {},
   "outputs": [
    {
     "name": "stdout",
     "output_type": "stream",
     "text": [
      "Collecting catboost\n",
      "  Downloading catboost-1.1.1-cp39-none-win_amd64.whl (74.0 MB)\n",
      "     ---------------------------------------- 74.0/74.0 MB 3.8 MB/s eta 0:00:00\n",
      "Collecting graphviz\n",
      "  Downloading graphviz-0.20.1-py3-none-any.whl (47 kB)\n",
      "     ---------------------------------------- 47.0/47.0 kB 2.5 MB/s eta 0:00:00\n",
      "Requirement already satisfied: pandas>=0.24.0 in c:\\users\\lenovo\\anaconda3\\lib\\site-packages (from catboost) (1.4.4)\n",
      "Requirement already satisfied: scipy in c:\\users\\lenovo\\anaconda3\\lib\\site-packages (from catboost) (1.9.1)\n",
      "Requirement already satisfied: numpy>=1.16.0 in c:\\users\\lenovo\\anaconda3\\lib\\site-packages (from catboost) (1.21.5)\n",
      "Requirement already satisfied: plotly in c:\\users\\lenovo\\anaconda3\\lib\\site-packages (from catboost) (5.9.0)\n",
      "Requirement already satisfied: six in c:\\users\\lenovo\\anaconda3\\lib\\site-packages (from catboost) (1.16.0)\n",
      "Requirement already satisfied: matplotlib in c:\\users\\lenovo\\anaconda3\\lib\\site-packages (from catboost) (3.5.2)\n",
      "Requirement already satisfied: python-dateutil>=2.8.1 in c:\\users\\lenovo\\anaconda3\\lib\\site-packages (from pandas>=0.24.0->catboost) (2.8.2)\n",
      "Requirement already satisfied: pytz>=2020.1 in c:\\users\\lenovo\\anaconda3\\lib\\site-packages (from pandas>=0.24.0->catboost) (2022.1)\n",
      "Requirement already satisfied: cycler>=0.10 in c:\\users\\lenovo\\anaconda3\\lib\\site-packages (from matplotlib->catboost) (0.11.0)\n",
      "Requirement already satisfied: fonttools>=4.22.0 in c:\\users\\lenovo\\anaconda3\\lib\\site-packages (from matplotlib->catboost) (4.25.0)\n",
      "Requirement already satisfied: kiwisolver>=1.0.1 in c:\\users\\lenovo\\anaconda3\\lib\\site-packages (from matplotlib->catboost) (1.4.2)\n",
      "Requirement already satisfied: pillow>=6.2.0 in c:\\users\\lenovo\\anaconda3\\lib\\site-packages (from matplotlib->catboost) (9.2.0)\n",
      "Requirement already satisfied: packaging>=20.0 in c:\\users\\lenovo\\anaconda3\\lib\\site-packages (from matplotlib->catboost) (21.3)\n",
      "Requirement already satisfied: pyparsing>=2.2.1 in c:\\users\\lenovo\\anaconda3\\lib\\site-packages (from matplotlib->catboost) (3.0.9)\n",
      "Requirement already satisfied: tenacity>=6.2.0 in c:\\users\\lenovo\\anaconda3\\lib\\site-packages (from plotly->catboost) (8.0.1)\n",
      "Installing collected packages: graphviz, catboost\n",
      "Successfully installed catboost-1.1.1 graphviz-0.20.1\n"
     ]
    }
   ],
   "source": [
    "!pip install catboost"
   ]
  },
  {
   "cell_type": "code",
   "execution_count": 241,
   "id": "4fdca6ae",
   "metadata": {},
   "outputs": [],
   "source": [
    "from catboost import CatBoostRegressor,CatBoostClassifier"
   ]
  },
  {
   "cell_type": "code",
   "execution_count": 242,
   "id": "218b8007",
   "metadata": {},
   "outputs": [
    {
     "name": "stdout",
     "output_type": "stream",
     "text": [
      "Learning rate set to 0.009807\n",
      "0:\tlearn: 0.6863480\ttotal: 2.49ms\tremaining: 2.48s\n",
      "1:\tlearn: 0.6791088\ttotal: 4.96ms\tremaining: 2.47s\n",
      "2:\tlearn: 0.6730850\ttotal: 7.42ms\tremaining: 2.46s\n",
      "3:\tlearn: 0.6670438\ttotal: 9.95ms\tremaining: 2.48s\n",
      "4:\tlearn: 0.6613891\ttotal: 12.1ms\tremaining: 2.41s\n",
      "5:\tlearn: 0.6560939\ttotal: 14.4ms\tremaining: 2.38s\n",
      "6:\tlearn: 0.6503460\ttotal: 16.3ms\tremaining: 2.32s\n",
      "7:\tlearn: 0.6449679\ttotal: 18.7ms\tremaining: 2.32s\n",
      "8:\tlearn: 0.6391405\ttotal: 21.7ms\tremaining: 2.39s\n",
      "9:\tlearn: 0.6339386\ttotal: 24ms\tremaining: 2.38s\n",
      "10:\tlearn: 0.6301898\ttotal: 26.5ms\tremaining: 2.38s\n",
      "11:\tlearn: 0.6244823\ttotal: 28.7ms\tremaining: 2.37s\n",
      "12:\tlearn: 0.6197606\ttotal: 31.1ms\tremaining: 2.36s\n",
      "13:\tlearn: 0.6153322\ttotal: 32.8ms\tremaining: 2.31s\n",
      "14:\tlearn: 0.6110941\ttotal: 34.6ms\tremaining: 2.27s\n",
      "15:\tlearn: 0.6063729\ttotal: 36.8ms\tremaining: 2.26s\n",
      "16:\tlearn: 0.6026499\ttotal: 38.3ms\tremaining: 2.21s\n",
      "17:\tlearn: 0.5978635\ttotal: 40.6ms\tremaining: 2.22s\n",
      "18:\tlearn: 0.5953191\ttotal: 42.4ms\tremaining: 2.19s\n",
      "19:\tlearn: 0.5910819\ttotal: 44.7ms\tremaining: 2.19s\n",
      "20:\tlearn: 0.5888159\ttotal: 46.2ms\tremaining: 2.15s\n",
      "21:\tlearn: 0.5853022\ttotal: 48.6ms\tremaining: 2.16s\n",
      "22:\tlearn: 0.5809907\ttotal: 51.1ms\tremaining: 2.17s\n",
      "23:\tlearn: 0.5775404\ttotal: 52.9ms\tremaining: 2.15s\n",
      "24:\tlearn: 0.5733039\ttotal: 55.4ms\tremaining: 2.16s\n",
      "25:\tlearn: 0.5691658\ttotal: 57.9ms\tremaining: 2.17s\n",
      "26:\tlearn: 0.5672147\ttotal: 59.5ms\tremaining: 2.14s\n",
      "27:\tlearn: 0.5632963\ttotal: 61.9ms\tremaining: 2.15s\n",
      "28:\tlearn: 0.5600014\ttotal: 64.4ms\tremaining: 2.16s\n",
      "29:\tlearn: 0.5569849\ttotal: 66.2ms\tremaining: 2.14s\n",
      "30:\tlearn: 0.5544420\ttotal: 67.9ms\tremaining: 2.12s\n",
      "31:\tlearn: 0.5527131\ttotal: 69.5ms\tremaining: 2.1s\n",
      "32:\tlearn: 0.5495158\ttotal: 71.9ms\tremaining: 2.1s\n",
      "33:\tlearn: 0.5459791\ttotal: 74.3ms\tremaining: 2.11s\n",
      "34:\tlearn: 0.5424674\ttotal: 76.8ms\tremaining: 2.12s\n",
      "35:\tlearn: 0.5390383\ttotal: 79.7ms\tremaining: 2.13s\n",
      "36:\tlearn: 0.5373718\ttotal: 81.4ms\tremaining: 2.12s\n",
      "37:\tlearn: 0.5338821\ttotal: 84.3ms\tremaining: 2.13s\n",
      "38:\tlearn: 0.5305018\ttotal: 87.4ms\tremaining: 2.15s\n",
      "39:\tlearn: 0.5277090\ttotal: 90ms\tremaining: 2.16s\n",
      "40:\tlearn: 0.5257316\ttotal: 91.9ms\tremaining: 2.15s\n",
      "41:\tlearn: 0.5232503\ttotal: 94.5ms\tremaining: 2.16s\n",
      "42:\tlearn: 0.5203094\ttotal: 97.4ms\tremaining: 2.17s\n",
      "43:\tlearn: 0.5182896\ttotal: 99.3ms\tremaining: 2.16s\n",
      "44:\tlearn: 0.5154300\ttotal: 102ms\tremaining: 2.16s\n",
      "45:\tlearn: 0.5142087\ttotal: 104ms\tremaining: 2.15s\n",
      "46:\tlearn: 0.5127503\ttotal: 105ms\tremaining: 2.14s\n",
      "47:\tlearn: 0.5101177\ttotal: 108ms\tremaining: 2.14s\n",
      "48:\tlearn: 0.5081756\ttotal: 110ms\tremaining: 2.13s\n",
      "49:\tlearn: 0.5064766\ttotal: 112ms\tremaining: 2.12s\n",
      "50:\tlearn: 0.5038754\ttotal: 114ms\tremaining: 2.12s\n",
      "51:\tlearn: 0.5019165\ttotal: 117ms\tremaining: 2.12s\n",
      "52:\tlearn: 0.4994110\ttotal: 119ms\tremaining: 2.13s\n",
      "53:\tlearn: 0.4974486\ttotal: 122ms\tremaining: 2.13s\n",
      "54:\tlearn: 0.4954040\ttotal: 125ms\tremaining: 2.14s\n",
      "55:\tlearn: 0.4930854\ttotal: 127ms\tremaining: 2.14s\n",
      "56:\tlearn: 0.4908591\ttotal: 130ms\tremaining: 2.14s\n",
      "57:\tlearn: 0.4891478\ttotal: 132ms\tremaining: 2.14s\n",
      "58:\tlearn: 0.4871280\ttotal: 135ms\tremaining: 2.15s\n",
      "59:\tlearn: 0.4850633\ttotal: 137ms\tremaining: 2.15s\n",
      "60:\tlearn: 0.4829207\ttotal: 140ms\tremaining: 2.15s\n",
      "61:\tlearn: 0.4816268\ttotal: 142ms\tremaining: 2.15s\n",
      "62:\tlearn: 0.4797858\ttotal: 144ms\tremaining: 2.15s\n",
      "63:\tlearn: 0.4784645\ttotal: 146ms\tremaining: 2.14s\n",
      "64:\tlearn: 0.4762903\ttotal: 149ms\tremaining: 2.14s\n",
      "65:\tlearn: 0.4744480\ttotal: 151ms\tremaining: 2.14s\n",
      "66:\tlearn: 0.4728356\ttotal: 154ms\tremaining: 2.15s\n",
      "67:\tlearn: 0.4710730\ttotal: 157ms\tremaining: 2.15s\n",
      "68:\tlearn: 0.4690256\ttotal: 159ms\tremaining: 2.15s\n",
      "69:\tlearn: 0.4671655\ttotal: 162ms\tremaining: 2.15s\n",
      "70:\tlearn: 0.4664232\ttotal: 164ms\tremaining: 2.14s\n",
      "71:\tlearn: 0.4653608\ttotal: 165ms\tremaining: 2.13s\n",
      "72:\tlearn: 0.4635684\ttotal: 168ms\tremaining: 2.13s\n",
      "73:\tlearn: 0.4622599\ttotal: 170ms\tremaining: 2.13s\n",
      "74:\tlearn: 0.4607634\ttotal: 173ms\tremaining: 2.13s\n",
      "75:\tlearn: 0.4592097\ttotal: 176ms\tremaining: 2.13s\n",
      "76:\tlearn: 0.4576114\ttotal: 178ms\tremaining: 2.13s\n",
      "77:\tlearn: 0.4567536\ttotal: 180ms\tremaining: 2.13s\n",
      "78:\tlearn: 0.4554428\ttotal: 183ms\tremaining: 2.13s\n",
      "79:\tlearn: 0.4549046\ttotal: 185ms\tremaining: 2.12s\n",
      "80:\tlearn: 0.4534535\ttotal: 188ms\tremaining: 2.13s\n",
      "81:\tlearn: 0.4529389\ttotal: 190ms\tremaining: 2.12s\n",
      "82:\tlearn: 0.4518818\ttotal: 192ms\tremaining: 2.12s\n",
      "83:\tlearn: 0.4511987\ttotal: 194ms\tremaining: 2.12s\n",
      "84:\tlearn: 0.4500252\ttotal: 197ms\tremaining: 2.12s\n",
      "85:\tlearn: 0.4487649\ttotal: 200ms\tremaining: 2.12s\n",
      "86:\tlearn: 0.4476123\ttotal: 202ms\tremaining: 2.12s\n",
      "87:\tlearn: 0.4462550\ttotal: 205ms\tremaining: 2.13s\n",
      "88:\tlearn: 0.4449128\ttotal: 208ms\tremaining: 2.13s\n",
      "89:\tlearn: 0.4440643\ttotal: 211ms\tremaining: 2.13s\n",
      "90:\tlearn: 0.4425995\ttotal: 213ms\tremaining: 2.13s\n",
      "91:\tlearn: 0.4420542\ttotal: 215ms\tremaining: 2.12s\n",
      "92:\tlearn: 0.4409658\ttotal: 218ms\tremaining: 2.12s\n",
      "93:\tlearn: 0.4398519\ttotal: 221ms\tremaining: 2.13s\n",
      "94:\tlearn: 0.4393129\ttotal: 223ms\tremaining: 2.12s\n",
      "95:\tlearn: 0.4383598\ttotal: 226ms\tremaining: 2.12s\n",
      "96:\tlearn: 0.4371183\ttotal: 228ms\tremaining: 2.13s\n",
      "97:\tlearn: 0.4366074\ttotal: 231ms\tremaining: 2.13s\n",
      "98:\tlearn: 0.4356702\ttotal: 234ms\tremaining: 2.13s\n",
      "99:\tlearn: 0.4345056\ttotal: 237ms\tremaining: 2.13s\n",
      "100:\tlearn: 0.4332560\ttotal: 239ms\tremaining: 2.13s\n",
      "101:\tlearn: 0.4323732\ttotal: 242ms\tremaining: 2.13s\n",
      "102:\tlearn: 0.4317150\ttotal: 245ms\tremaining: 2.13s\n",
      "103:\tlearn: 0.4307733\ttotal: 247ms\tremaining: 2.13s\n",
      "104:\tlearn: 0.4296091\ttotal: 250ms\tremaining: 2.13s\n",
      "105:\tlearn: 0.4286498\ttotal: 253ms\tremaining: 2.13s\n",
      "106:\tlearn: 0.4281529\ttotal: 256ms\tremaining: 2.13s\n",
      "107:\tlearn: 0.4272893\ttotal: 258ms\tremaining: 2.13s\n",
      "108:\tlearn: 0.4260527\ttotal: 261ms\tremaining: 2.13s\n",
      "109:\tlearn: 0.4250827\ttotal: 264ms\tremaining: 2.13s\n",
      "110:\tlearn: 0.4240277\ttotal: 266ms\tremaining: 2.13s\n",
      "111:\tlearn: 0.4233555\ttotal: 269ms\tremaining: 2.13s\n",
      "112:\tlearn: 0.4228474\ttotal: 271ms\tremaining: 2.13s\n",
      "113:\tlearn: 0.4219387\ttotal: 274ms\tremaining: 2.13s\n",
      "114:\tlearn: 0.4210128\ttotal: 277ms\tremaining: 2.13s\n",
      "115:\tlearn: 0.4201265\ttotal: 280ms\tremaining: 2.13s\n",
      "116:\tlearn: 0.4192266\ttotal: 282ms\tremaining: 2.13s\n",
      "117:\tlearn: 0.4186060\ttotal: 285ms\tremaining: 2.13s\n",
      "118:\tlearn: 0.4178169\ttotal: 288ms\tremaining: 2.13s\n",
      "119:\tlearn: 0.4172504\ttotal: 291ms\tremaining: 2.13s\n",
      "120:\tlearn: 0.4163009\ttotal: 293ms\tremaining: 2.13s\n",
      "121:\tlearn: 0.4155799\ttotal: 296ms\tremaining: 2.13s\n",
      "122:\tlearn: 0.4152146\ttotal: 298ms\tremaining: 2.13s\n",
      "123:\tlearn: 0.4148977\ttotal: 300ms\tremaining: 2.12s\n",
      "124:\tlearn: 0.4141110\ttotal: 303ms\tremaining: 2.12s\n",
      "125:\tlearn: 0.4133749\ttotal: 306ms\tremaining: 2.12s\n",
      "126:\tlearn: 0.4129916\ttotal: 308ms\tremaining: 2.12s\n",
      "127:\tlearn: 0.4124241\ttotal: 311ms\tremaining: 2.12s\n",
      "128:\tlearn: 0.4114097\ttotal: 314ms\tremaining: 2.12s\n",
      "129:\tlearn: 0.4107879\ttotal: 317ms\tremaining: 2.12s\n",
      "130:\tlearn: 0.4101380\ttotal: 320ms\tremaining: 2.12s\n",
      "131:\tlearn: 0.4095808\ttotal: 323ms\tremaining: 2.12s\n",
      "132:\tlearn: 0.4093996\ttotal: 325ms\tremaining: 2.12s\n",
      "133:\tlearn: 0.4088332\ttotal: 328ms\tremaining: 2.12s\n",
      "134:\tlearn: 0.4079801\ttotal: 331ms\tremaining: 2.12s\n",
      "135:\tlearn: 0.4072942\ttotal: 334ms\tremaining: 2.12s\n",
      "136:\tlearn: 0.4067230\ttotal: 337ms\tremaining: 2.13s\n",
      "137:\tlearn: 0.4059956\ttotal: 340ms\tremaining: 2.13s\n",
      "138:\tlearn: 0.4055209\ttotal: 343ms\tremaining: 2.13s\n",
      "139:\tlearn: 0.4048418\ttotal: 346ms\tremaining: 2.13s\n",
      "140:\tlearn: 0.4042773\ttotal: 349ms\tremaining: 2.13s\n",
      "141:\tlearn: 0.4037836\ttotal: 352ms\tremaining: 2.12s\n",
      "142:\tlearn: 0.4036590\ttotal: 353ms\tremaining: 2.12s\n",
      "143:\tlearn: 0.4030890\ttotal: 356ms\tremaining: 2.12s\n",
      "144:\tlearn: 0.4030163\ttotal: 357ms\tremaining: 2.11s\n",
      "145:\tlearn: 0.4024423\ttotal: 360ms\tremaining: 2.11s\n",
      "146:\tlearn: 0.4017711\ttotal: 364ms\tremaining: 2.11s\n",
      "147:\tlearn: 0.4011135\ttotal: 367ms\tremaining: 2.11s\n",
      "148:\tlearn: 0.4010035\ttotal: 368ms\tremaining: 2.1s\n",
      "149:\tlearn: 0.4005586\ttotal: 371ms\tremaining: 2.1s\n",
      "150:\tlearn: 0.3999282\ttotal: 374ms\tremaining: 2.1s\n",
      "151:\tlearn: 0.3994308\ttotal: 378ms\tremaining: 2.11s\n",
      "152:\tlearn: 0.3990046\ttotal: 381ms\tremaining: 2.11s\n",
      "153:\tlearn: 0.3987045\ttotal: 384ms\tremaining: 2.11s\n",
      "154:\tlearn: 0.3984056\ttotal: 387ms\tremaining: 2.11s\n",
      "155:\tlearn: 0.3979430\ttotal: 390ms\tremaining: 2.11s\n",
      "156:\tlearn: 0.3977865\ttotal: 393ms\tremaining: 2.11s\n",
      "157:\tlearn: 0.3972141\ttotal: 396ms\tremaining: 2.11s\n",
      "158:\tlearn: 0.3968313\ttotal: 398ms\tremaining: 2.11s\n",
      "159:\tlearn: 0.3964446\ttotal: 401ms\tremaining: 2.1s\n",
      "160:\tlearn: 0.3960488\ttotal: 404ms\tremaining: 2.1s\n",
      "161:\tlearn: 0.3956805\ttotal: 407ms\tremaining: 2.1s\n",
      "162:\tlearn: 0.3952384\ttotal: 410ms\tremaining: 2.1s\n",
      "163:\tlearn: 0.3948735\ttotal: 413ms\tremaining: 2.11s\n",
      "164:\tlearn: 0.3944952\ttotal: 416ms\tremaining: 2.11s\n",
      "165:\tlearn: 0.3942072\ttotal: 419ms\tremaining: 2.11s\n",
      "166:\tlearn: 0.3938001\ttotal: 422ms\tremaining: 2.11s\n",
      "167:\tlearn: 0.3932519\ttotal: 425ms\tremaining: 2.11s\n",
      "168:\tlearn: 0.3929290\ttotal: 429ms\tremaining: 2.11s\n",
      "169:\tlearn: 0.3925570\ttotal: 432ms\tremaining: 2.11s\n",
      "170:\tlearn: 0.3922565\ttotal: 435ms\tremaining: 2.11s\n",
      "171:\tlearn: 0.3917782\ttotal: 438ms\tremaining: 2.11s\n",
      "172:\tlearn: 0.3913354\ttotal: 440ms\tremaining: 2.1s\n",
      "173:\tlearn: 0.3912440\ttotal: 443ms\tremaining: 2.1s\n",
      "174:\tlearn: 0.3908940\ttotal: 446ms\tremaining: 2.1s\n",
      "175:\tlearn: 0.3907523\ttotal: 449ms\tremaining: 2.1s\n",
      "176:\tlearn: 0.3904817\ttotal: 451ms\tremaining: 2.1s\n",
      "177:\tlearn: 0.3902385\ttotal: 454ms\tremaining: 2.1s\n",
      "178:\tlearn: 0.3900307\ttotal: 457ms\tremaining: 2.09s\n",
      "179:\tlearn: 0.3896610\ttotal: 459ms\tremaining: 2.09s\n",
      "180:\tlearn: 0.3891893\ttotal: 462ms\tremaining: 2.09s\n",
      "181:\tlearn: 0.3890464\ttotal: 464ms\tremaining: 2.09s\n",
      "182:\tlearn: 0.3888941\ttotal: 467ms\tremaining: 2.08s\n",
      "183:\tlearn: 0.3886761\ttotal: 470ms\tremaining: 2.08s\n",
      "184:\tlearn: 0.3882932\ttotal: 473ms\tremaining: 2.08s\n",
      "185:\tlearn: 0.3879162\ttotal: 475ms\tremaining: 2.08s\n",
      "186:\tlearn: 0.3875932\ttotal: 478ms\tremaining: 2.08s\n",
      "187:\tlearn: 0.3872094\ttotal: 481ms\tremaining: 2.08s\n",
      "188:\tlearn: 0.3867491\ttotal: 484ms\tremaining: 2.08s\n",
      "189:\tlearn: 0.3864271\ttotal: 487ms\tremaining: 2.08s\n",
      "190:\tlearn: 0.3860948\ttotal: 489ms\tremaining: 2.07s\n",
      "191:\tlearn: 0.3857813\ttotal: 492ms\tremaining: 2.07s\n",
      "192:\tlearn: 0.3854125\ttotal: 495ms\tremaining: 2.07s\n",
      "193:\tlearn: 0.3853065\ttotal: 497ms\tremaining: 2.06s\n",
      "194:\tlearn: 0.3851634\ttotal: 499ms\tremaining: 2.06s\n",
      "195:\tlearn: 0.3848826\ttotal: 502ms\tremaining: 2.06s\n",
      "196:\tlearn: 0.3846657\ttotal: 504ms\tremaining: 2.05s\n",
      "197:\tlearn: 0.3846115\ttotal: 506ms\tremaining: 2.05s\n",
      "198:\tlearn: 0.3845754\ttotal: 507ms\tremaining: 2.04s\n",
      "199:\tlearn: 0.3842918\ttotal: 510ms\tremaining: 2.04s\n",
      "200:\tlearn: 0.3842607\ttotal: 512ms\tremaining: 2.04s\n",
      "201:\tlearn: 0.3837706\ttotal: 515ms\tremaining: 2.03s\n",
      "202:\tlearn: 0.3834011\ttotal: 518ms\tremaining: 2.03s\n",
      "203:\tlearn: 0.3831708\ttotal: 521ms\tremaining: 2.03s\n",
      "204:\tlearn: 0.3830569\ttotal: 523ms\tremaining: 2.03s\n",
      "205:\tlearn: 0.3829059\ttotal: 526ms\tremaining: 2.03s\n",
      "206:\tlearn: 0.3828695\ttotal: 528ms\tremaining: 2.02s\n",
      "207:\tlearn: 0.3827945\ttotal: 529ms\tremaining: 2.02s\n",
      "208:\tlearn: 0.3827445\ttotal: 531ms\tremaining: 2.01s\n",
      "209:\tlearn: 0.3825166\ttotal: 534ms\tremaining: 2.01s\n",
      "210:\tlearn: 0.3822209\ttotal: 537ms\tremaining: 2.01s\n",
      "211:\tlearn: 0.3819180\ttotal: 540ms\tremaining: 2s\n",
      "212:\tlearn: 0.3817501\ttotal: 542ms\tremaining: 2s\n",
      "213:\tlearn: 0.3814585\ttotal: 545ms\tremaining: 2s\n",
      "214:\tlearn: 0.3810956\ttotal: 548ms\tremaining: 2s\n",
      "215:\tlearn: 0.3809237\ttotal: 551ms\tremaining: 2s\n",
      "216:\tlearn: 0.3805232\ttotal: 553ms\tremaining: 2s\n",
      "217:\tlearn: 0.3800916\ttotal: 556ms\tremaining: 2s\n",
      "218:\tlearn: 0.3799664\ttotal: 558ms\tremaining: 1.99s\n",
      "219:\tlearn: 0.3797115\ttotal: 561ms\tremaining: 1.99s\n",
      "220:\tlearn: 0.3794181\ttotal: 564ms\tremaining: 1.99s\n",
      "221:\tlearn: 0.3787692\ttotal: 567ms\tremaining: 1.99s\n",
      "222:\tlearn: 0.3785442\ttotal: 569ms\tremaining: 1.98s\n",
      "223:\tlearn: 0.3784350\ttotal: 572ms\tremaining: 1.98s\n"
     ]
    },
    {
     "name": "stdout",
     "output_type": "stream",
     "text": [
      "224:\tlearn: 0.3781120\ttotal: 575ms\tremaining: 1.98s\n",
      "225:\tlearn: 0.3778346\ttotal: 579ms\tremaining: 1.98s\n",
      "226:\tlearn: 0.3776162\ttotal: 582ms\tremaining: 1.98s\n",
      "227:\tlearn: 0.3773094\ttotal: 585ms\tremaining: 1.98s\n",
      "228:\tlearn: 0.3770885\ttotal: 588ms\tremaining: 1.98s\n",
      "229:\tlearn: 0.3767939\ttotal: 591ms\tremaining: 1.98s\n",
      "230:\tlearn: 0.3765250\ttotal: 594ms\tremaining: 1.98s\n",
      "231:\tlearn: 0.3762760\ttotal: 596ms\tremaining: 1.97s\n",
      "232:\tlearn: 0.3760423\ttotal: 600ms\tremaining: 1.97s\n",
      "233:\tlearn: 0.3756699\ttotal: 603ms\tremaining: 1.97s\n",
      "234:\tlearn: 0.3755124\ttotal: 606ms\tremaining: 1.97s\n",
      "235:\tlearn: 0.3753930\ttotal: 609ms\tremaining: 1.97s\n",
      "236:\tlearn: 0.3750983\ttotal: 612ms\tremaining: 1.97s\n",
      "237:\tlearn: 0.3750776\ttotal: 613ms\tremaining: 1.96s\n",
      "238:\tlearn: 0.3748154\ttotal: 616ms\tremaining: 1.96s\n",
      "239:\tlearn: 0.3746000\ttotal: 619ms\tremaining: 1.96s\n",
      "240:\tlearn: 0.3743237\ttotal: 621ms\tremaining: 1.96s\n",
      "241:\tlearn: 0.3740661\ttotal: 624ms\tremaining: 1.96s\n",
      "242:\tlearn: 0.3739454\ttotal: 627ms\tremaining: 1.95s\n",
      "243:\tlearn: 0.3739093\ttotal: 629ms\tremaining: 1.95s\n",
      "244:\tlearn: 0.3738451\ttotal: 632ms\tremaining: 1.95s\n",
      "245:\tlearn: 0.3737660\ttotal: 634ms\tremaining: 1.94s\n",
      "246:\tlearn: 0.3735680\ttotal: 637ms\tremaining: 1.94s\n",
      "247:\tlearn: 0.3733596\ttotal: 640ms\tremaining: 1.94s\n",
      "248:\tlearn: 0.3731026\ttotal: 643ms\tremaining: 1.94s\n",
      "249:\tlearn: 0.3728067\ttotal: 645ms\tremaining: 1.94s\n",
      "250:\tlearn: 0.3726568\ttotal: 648ms\tremaining: 1.93s\n",
      "251:\tlearn: 0.3725232\ttotal: 651ms\tremaining: 1.93s\n",
      "252:\tlearn: 0.3722019\ttotal: 654ms\tremaining: 1.93s\n",
      "253:\tlearn: 0.3719299\ttotal: 657ms\tremaining: 1.93s\n",
      "254:\tlearn: 0.3717181\ttotal: 660ms\tremaining: 1.93s\n",
      "255:\tlearn: 0.3713724\ttotal: 663ms\tremaining: 1.93s\n",
      "256:\tlearn: 0.3712859\ttotal: 666ms\tremaining: 1.93s\n",
      "257:\tlearn: 0.3711611\ttotal: 669ms\tremaining: 1.92s\n",
      "258:\tlearn: 0.3710205\ttotal: 672ms\tremaining: 1.92s\n",
      "259:\tlearn: 0.3707560\ttotal: 675ms\tremaining: 1.92s\n",
      "260:\tlearn: 0.3706499\ttotal: 677ms\tremaining: 1.92s\n",
      "261:\tlearn: 0.3704549\ttotal: 680ms\tremaining: 1.92s\n",
      "262:\tlearn: 0.3701557\ttotal: 683ms\tremaining: 1.91s\n",
      "263:\tlearn: 0.3699181\ttotal: 686ms\tremaining: 1.91s\n",
      "264:\tlearn: 0.3696639\ttotal: 689ms\tremaining: 1.91s\n",
      "265:\tlearn: 0.3696513\ttotal: 690ms\tremaining: 1.91s\n",
      "266:\tlearn: 0.3694348\ttotal: 693ms\tremaining: 1.9s\n",
      "267:\tlearn: 0.3692557\ttotal: 696ms\tremaining: 1.9s\n",
      "268:\tlearn: 0.3691203\ttotal: 699ms\tremaining: 1.9s\n",
      "269:\tlearn: 0.3689485\ttotal: 702ms\tremaining: 1.9s\n",
      "270:\tlearn: 0.3686282\ttotal: 705ms\tremaining: 1.9s\n",
      "271:\tlearn: 0.3683507\ttotal: 708ms\tremaining: 1.89s\n",
      "272:\tlearn: 0.3681173\ttotal: 711ms\tremaining: 1.89s\n",
      "273:\tlearn: 0.3679931\ttotal: 713ms\tremaining: 1.89s\n",
      "274:\tlearn: 0.3677589\ttotal: 716ms\tremaining: 1.89s\n",
      "275:\tlearn: 0.3674852\ttotal: 719ms\tremaining: 1.89s\n",
      "276:\tlearn: 0.3672029\ttotal: 722ms\tremaining: 1.88s\n",
      "277:\tlearn: 0.3669552\ttotal: 725ms\tremaining: 1.88s\n",
      "278:\tlearn: 0.3668481\ttotal: 728ms\tremaining: 1.88s\n",
      "279:\tlearn: 0.3665259\ttotal: 731ms\tremaining: 1.88s\n",
      "280:\tlearn: 0.3663930\ttotal: 734ms\tremaining: 1.88s\n",
      "281:\tlearn: 0.3662192\ttotal: 736ms\tremaining: 1.88s\n",
      "282:\tlearn: 0.3658392\ttotal: 740ms\tremaining: 1.87s\n",
      "283:\tlearn: 0.3657222\ttotal: 742ms\tremaining: 1.87s\n",
      "284:\tlearn: 0.3655897\ttotal: 745ms\tremaining: 1.87s\n",
      "285:\tlearn: 0.3654410\ttotal: 748ms\tremaining: 1.87s\n",
      "286:\tlearn: 0.3653398\ttotal: 751ms\tremaining: 1.86s\n",
      "287:\tlearn: 0.3651237\ttotal: 754ms\tremaining: 1.86s\n",
      "288:\tlearn: 0.3649096\ttotal: 757ms\tremaining: 1.86s\n",
      "289:\tlearn: 0.3648937\ttotal: 759ms\tremaining: 1.86s\n",
      "290:\tlearn: 0.3648081\ttotal: 761ms\tremaining: 1.85s\n",
      "291:\tlearn: 0.3646334\ttotal: 764ms\tremaining: 1.85s\n",
      "292:\tlearn: 0.3642376\ttotal: 767ms\tremaining: 1.85s\n",
      "293:\tlearn: 0.3639845\ttotal: 770ms\tremaining: 1.85s\n",
      "294:\tlearn: 0.3638188\ttotal: 773ms\tremaining: 1.85s\n",
      "295:\tlearn: 0.3636289\ttotal: 776ms\tremaining: 1.84s\n",
      "296:\tlearn: 0.3633726\ttotal: 779ms\tremaining: 1.84s\n",
      "297:\tlearn: 0.3632754\ttotal: 781ms\tremaining: 1.84s\n",
      "298:\tlearn: 0.3631425\ttotal: 784ms\tremaining: 1.84s\n",
      "299:\tlearn: 0.3629370\ttotal: 787ms\tremaining: 1.84s\n",
      "300:\tlearn: 0.3628824\ttotal: 790ms\tremaining: 1.83s\n",
      "301:\tlearn: 0.3628089\ttotal: 793ms\tremaining: 1.83s\n",
      "302:\tlearn: 0.3627043\ttotal: 796ms\tremaining: 1.83s\n",
      "303:\tlearn: 0.3625415\ttotal: 798ms\tremaining: 1.83s\n",
      "304:\tlearn: 0.3624585\ttotal: 800ms\tremaining: 1.82s\n",
      "305:\tlearn: 0.3622408\ttotal: 803ms\tremaining: 1.82s\n",
      "306:\tlearn: 0.3620551\ttotal: 806ms\tremaining: 1.82s\n",
      "307:\tlearn: 0.3620496\ttotal: 808ms\tremaining: 1.81s\n",
      "308:\tlearn: 0.3618104\ttotal: 810ms\tremaining: 1.81s\n",
      "309:\tlearn: 0.3617802\ttotal: 812ms\tremaining: 1.81s\n",
      "310:\tlearn: 0.3617016\ttotal: 815ms\tremaining: 1.8s\n",
      "311:\tlearn: 0.3615874\ttotal: 817ms\tremaining: 1.8s\n",
      "312:\tlearn: 0.3613306\ttotal: 820ms\tremaining: 1.8s\n",
      "313:\tlearn: 0.3611565\ttotal: 823ms\tremaining: 1.8s\n",
      "314:\tlearn: 0.3610519\ttotal: 825ms\tremaining: 1.79s\n",
      "315:\tlearn: 0.3609631\ttotal: 828ms\tremaining: 1.79s\n",
      "316:\tlearn: 0.3608495\ttotal: 830ms\tremaining: 1.79s\n",
      "317:\tlearn: 0.3607215\ttotal: 833ms\tremaining: 1.79s\n",
      "318:\tlearn: 0.3606558\ttotal: 835ms\tremaining: 1.78s\n",
      "319:\tlearn: 0.3604638\ttotal: 838ms\tremaining: 1.78s\n",
      "320:\tlearn: 0.3602773\ttotal: 841ms\tremaining: 1.78s\n",
      "321:\tlearn: 0.3600996\ttotal: 843ms\tremaining: 1.77s\n",
      "322:\tlearn: 0.3599207\ttotal: 846ms\tremaining: 1.77s\n",
      "323:\tlearn: 0.3598696\ttotal: 848ms\tremaining: 1.77s\n",
      "324:\tlearn: 0.3597167\ttotal: 851ms\tremaining: 1.77s\n",
      "325:\tlearn: 0.3595608\ttotal: 854ms\tremaining: 1.76s\n",
      "326:\tlearn: 0.3594850\ttotal: 856ms\tremaining: 1.76s\n",
      "327:\tlearn: 0.3592907\ttotal: 859ms\tremaining: 1.76s\n",
      "328:\tlearn: 0.3590495\ttotal: 862ms\tremaining: 1.76s\n",
      "329:\tlearn: 0.3588720\ttotal: 865ms\tremaining: 1.75s\n",
      "330:\tlearn: 0.3587203\ttotal: 867ms\tremaining: 1.75s\n",
      "331:\tlearn: 0.3586129\ttotal: 870ms\tremaining: 1.75s\n",
      "332:\tlearn: 0.3585303\ttotal: 873ms\tremaining: 1.75s\n",
      "333:\tlearn: 0.3582923\ttotal: 875ms\tremaining: 1.75s\n",
      "334:\tlearn: 0.3580643\ttotal: 878ms\tremaining: 1.74s\n",
      "335:\tlearn: 0.3579396\ttotal: 881ms\tremaining: 1.74s\n",
      "336:\tlearn: 0.3577770\ttotal: 884ms\tremaining: 1.74s\n",
      "337:\tlearn: 0.3577112\ttotal: 886ms\tremaining: 1.74s\n",
      "338:\tlearn: 0.3575597\ttotal: 889ms\tremaining: 1.73s\n",
      "339:\tlearn: 0.3574860\ttotal: 891ms\tremaining: 1.73s\n",
      "340:\tlearn: 0.3573704\ttotal: 894ms\tremaining: 1.73s\n",
      "341:\tlearn: 0.3572352\ttotal: 897ms\tremaining: 1.73s\n",
      "342:\tlearn: 0.3570014\ttotal: 899ms\tremaining: 1.72s\n",
      "343:\tlearn: 0.3569139\ttotal: 902ms\tremaining: 1.72s\n",
      "344:\tlearn: 0.3567501\ttotal: 905ms\tremaining: 1.72s\n",
      "345:\tlearn: 0.3566582\ttotal: 907ms\tremaining: 1.71s\n",
      "346:\tlearn: 0.3566240\ttotal: 909ms\tremaining: 1.71s\n",
      "347:\tlearn: 0.3565079\ttotal: 912ms\tremaining: 1.71s\n",
      "348:\tlearn: 0.3564170\ttotal: 914ms\tremaining: 1.71s\n",
      "349:\tlearn: 0.3562276\ttotal: 917ms\tremaining: 1.7s\n",
      "350:\tlearn: 0.3559669\ttotal: 920ms\tremaining: 1.7s\n",
      "351:\tlearn: 0.3558167\ttotal: 923ms\tremaining: 1.7s\n",
      "352:\tlearn: 0.3557509\ttotal: 925ms\tremaining: 1.7s\n",
      "353:\tlearn: 0.3555039\ttotal: 928ms\tremaining: 1.69s\n",
      "354:\tlearn: 0.3553075\ttotal: 930ms\tremaining: 1.69s\n",
      "355:\tlearn: 0.3552800\ttotal: 932ms\tremaining: 1.69s\n",
      "356:\tlearn: 0.3552429\ttotal: 935ms\tremaining: 1.68s\n",
      "357:\tlearn: 0.3550707\ttotal: 937ms\tremaining: 1.68s\n",
      "358:\tlearn: 0.3550163\ttotal: 940ms\tremaining: 1.68s\n",
      "359:\tlearn: 0.3548664\ttotal: 942ms\tremaining: 1.68s\n",
      "360:\tlearn: 0.3547639\ttotal: 945ms\tremaining: 1.67s\n",
      "361:\tlearn: 0.3546502\ttotal: 948ms\tremaining: 1.67s\n",
      "362:\tlearn: 0.3543810\ttotal: 951ms\tremaining: 1.67s\n",
      "363:\tlearn: 0.3542911\ttotal: 953ms\tremaining: 1.67s\n",
      "364:\tlearn: 0.3541816\ttotal: 956ms\tremaining: 1.66s\n",
      "365:\tlearn: 0.3540701\ttotal: 959ms\tremaining: 1.66s\n",
      "366:\tlearn: 0.3539618\ttotal: 962ms\tremaining: 1.66s\n",
      "367:\tlearn: 0.3538814\ttotal: 965ms\tremaining: 1.66s\n",
      "368:\tlearn: 0.3536564\ttotal: 968ms\tremaining: 1.66s\n",
      "369:\tlearn: 0.3536468\ttotal: 971ms\tremaining: 1.65s\n",
      "370:\tlearn: 0.3535969\ttotal: 974ms\tremaining: 1.65s\n",
      "371:\tlearn: 0.3534870\ttotal: 976ms\tremaining: 1.65s\n",
      "372:\tlearn: 0.3532975\ttotal: 979ms\tremaining: 1.65s\n",
      "373:\tlearn: 0.3531150\ttotal: 982ms\tremaining: 1.64s\n",
      "374:\tlearn: 0.3530752\ttotal: 984ms\tremaining: 1.64s\n",
      "375:\tlearn: 0.3530532\ttotal: 988ms\tremaining: 1.64s\n",
      "376:\tlearn: 0.3530313\ttotal: 991ms\tremaining: 1.64s\n",
      "377:\tlearn: 0.3529033\ttotal: 993ms\tremaining: 1.63s\n",
      "378:\tlearn: 0.3528429\ttotal: 996ms\tremaining: 1.63s\n",
      "379:\tlearn: 0.3527476\ttotal: 999ms\tremaining: 1.63s\n",
      "380:\tlearn: 0.3526957\ttotal: 1s\tremaining: 1.63s\n",
      "381:\tlearn: 0.3526308\ttotal: 1s\tremaining: 1.63s\n",
      "382:\tlearn: 0.3523575\ttotal: 1.01s\tremaining: 1.62s\n",
      "383:\tlearn: 0.3522746\ttotal: 1.01s\tremaining: 1.62s\n",
      "384:\tlearn: 0.3522484\ttotal: 1.01s\tremaining: 1.62s\n",
      "385:\tlearn: 0.3520889\ttotal: 1.01s\tremaining: 1.61s\n",
      "386:\tlearn: 0.3519159\ttotal: 1.02s\tremaining: 1.61s\n",
      "387:\tlearn: 0.3519069\ttotal: 1.02s\tremaining: 1.61s\n",
      "388:\tlearn: 0.3516769\ttotal: 1.02s\tremaining: 1.61s\n",
      "389:\tlearn: 0.3515732\ttotal: 1.03s\tremaining: 1.6s\n",
      "390:\tlearn: 0.3514792\ttotal: 1.03s\tremaining: 1.6s\n",
      "391:\tlearn: 0.3512763\ttotal: 1.03s\tremaining: 1.6s\n",
      "392:\tlearn: 0.3512114\ttotal: 1.03s\tremaining: 1.6s\n",
      "393:\tlearn: 0.3510312\ttotal: 1.04s\tremaining: 1.59s\n",
      "394:\tlearn: 0.3508715\ttotal: 1.04s\tremaining: 1.59s\n",
      "395:\tlearn: 0.3505576\ttotal: 1.04s\tremaining: 1.59s\n",
      "396:\tlearn: 0.3503811\ttotal: 1.05s\tremaining: 1.59s\n",
      "397:\tlearn: 0.3501156\ttotal: 1.05s\tremaining: 1.59s\n",
      "398:\tlearn: 0.3499862\ttotal: 1.05s\tremaining: 1.58s\n",
      "399:\tlearn: 0.3498714\ttotal: 1.05s\tremaining: 1.58s\n",
      "400:\tlearn: 0.3495115\ttotal: 1.06s\tremaining: 1.58s\n",
      "401:\tlearn: 0.3494612\ttotal: 1.06s\tremaining: 1.58s\n",
      "402:\tlearn: 0.3493848\ttotal: 1.06s\tremaining: 1.57s\n",
      "403:\tlearn: 0.3492723\ttotal: 1.07s\tremaining: 1.57s\n",
      "404:\tlearn: 0.3492198\ttotal: 1.07s\tremaining: 1.57s\n",
      "405:\tlearn: 0.3491438\ttotal: 1.07s\tremaining: 1.57s\n",
      "406:\tlearn: 0.3490217\ttotal: 1.07s\tremaining: 1.57s\n",
      "407:\tlearn: 0.3487559\ttotal: 1.08s\tremaining: 1.56s\n",
      "408:\tlearn: 0.3486279\ttotal: 1.08s\tremaining: 1.56s\n",
      "409:\tlearn: 0.3484102\ttotal: 1.08s\tremaining: 1.56s\n",
      "410:\tlearn: 0.3483929\ttotal: 1.08s\tremaining: 1.55s\n",
      "411:\tlearn: 0.3481382\ttotal: 1.09s\tremaining: 1.55s\n",
      "412:\tlearn: 0.3480045\ttotal: 1.09s\tremaining: 1.55s\n",
      "413:\tlearn: 0.3479111\ttotal: 1.09s\tremaining: 1.55s\n",
      "414:\tlearn: 0.3478266\ttotal: 1.1s\tremaining: 1.55s\n",
      "415:\tlearn: 0.3475198\ttotal: 1.1s\tremaining: 1.54s\n",
      "416:\tlearn: 0.3473240\ttotal: 1.1s\tremaining: 1.54s\n",
      "417:\tlearn: 0.3472481\ttotal: 1.11s\tremaining: 1.54s\n",
      "418:\tlearn: 0.3470016\ttotal: 1.11s\tremaining: 1.54s\n",
      "419:\tlearn: 0.3469550\ttotal: 1.11s\tremaining: 1.54s\n",
      "420:\tlearn: 0.3469361\ttotal: 1.11s\tremaining: 1.53s\n",
      "421:\tlearn: 0.3468612\ttotal: 1.12s\tremaining: 1.53s\n",
      "422:\tlearn: 0.3468038\ttotal: 1.12s\tremaining: 1.53s\n",
      "423:\tlearn: 0.3466292\ttotal: 1.12s\tremaining: 1.52s\n",
      "424:\tlearn: 0.3464888\ttotal: 1.13s\tremaining: 1.52s\n",
      "425:\tlearn: 0.3464130\ttotal: 1.13s\tremaining: 1.52s\n",
      "426:\tlearn: 0.3461835\ttotal: 1.13s\tremaining: 1.52s\n",
      "427:\tlearn: 0.3460654\ttotal: 1.13s\tremaining: 1.52s\n",
      "428:\tlearn: 0.3459404\ttotal: 1.14s\tremaining: 1.51s\n",
      "429:\tlearn: 0.3458786\ttotal: 1.14s\tremaining: 1.51s\n",
      "430:\tlearn: 0.3458247\ttotal: 1.14s\tremaining: 1.51s\n",
      "431:\tlearn: 0.3456929\ttotal: 1.15s\tremaining: 1.51s\n",
      "432:\tlearn: 0.3456067\ttotal: 1.15s\tremaining: 1.5s\n",
      "433:\tlearn: 0.3455152\ttotal: 1.15s\tremaining: 1.5s\n"
     ]
    },
    {
     "name": "stdout",
     "output_type": "stream",
     "text": [
      "434:\tlearn: 0.3453874\ttotal: 1.16s\tremaining: 1.5s\n",
      "435:\tlearn: 0.3453681\ttotal: 1.16s\tremaining: 1.5s\n",
      "436:\tlearn: 0.3452340\ttotal: 1.16s\tremaining: 1.5s\n",
      "437:\tlearn: 0.3452216\ttotal: 1.16s\tremaining: 1.49s\n",
      "438:\tlearn: 0.3452103\ttotal: 1.17s\tremaining: 1.49s\n",
      "439:\tlearn: 0.3449323\ttotal: 1.17s\tremaining: 1.49s\n",
      "440:\tlearn: 0.3448377\ttotal: 1.17s\tremaining: 1.48s\n",
      "441:\tlearn: 0.3447482\ttotal: 1.17s\tremaining: 1.48s\n",
      "442:\tlearn: 0.3445982\ttotal: 1.18s\tremaining: 1.48s\n",
      "443:\tlearn: 0.3444432\ttotal: 1.18s\tremaining: 1.48s\n",
      "444:\tlearn: 0.3443518\ttotal: 1.18s\tremaining: 1.48s\n",
      "445:\tlearn: 0.3441924\ttotal: 1.19s\tremaining: 1.47s\n",
      "446:\tlearn: 0.3441630\ttotal: 1.19s\tremaining: 1.47s\n",
      "447:\tlearn: 0.3440128\ttotal: 1.19s\tremaining: 1.47s\n",
      "448:\tlearn: 0.3437868\ttotal: 1.19s\tremaining: 1.47s\n",
      "449:\tlearn: 0.3437315\ttotal: 1.2s\tremaining: 1.46s\n",
      "450:\tlearn: 0.3436687\ttotal: 1.2s\tremaining: 1.46s\n",
      "451:\tlearn: 0.3435921\ttotal: 1.2s\tremaining: 1.46s\n",
      "452:\tlearn: 0.3434877\ttotal: 1.21s\tremaining: 1.46s\n",
      "453:\tlearn: 0.3433755\ttotal: 1.21s\tremaining: 1.45s\n",
      "454:\tlearn: 0.3433134\ttotal: 1.21s\tremaining: 1.45s\n",
      "455:\tlearn: 0.3432916\ttotal: 1.22s\tremaining: 1.45s\n",
      "456:\tlearn: 0.3432379\ttotal: 1.22s\tremaining: 1.45s\n",
      "457:\tlearn: 0.3431272\ttotal: 1.22s\tremaining: 1.45s\n",
      "458:\tlearn: 0.3431227\ttotal: 1.22s\tremaining: 1.44s\n",
      "459:\tlearn: 0.3430156\ttotal: 1.23s\tremaining: 1.44s\n",
      "460:\tlearn: 0.3428540\ttotal: 1.23s\tremaining: 1.44s\n",
      "461:\tlearn: 0.3427129\ttotal: 1.23s\tremaining: 1.44s\n",
      "462:\tlearn: 0.3426445\ttotal: 1.24s\tremaining: 1.43s\n",
      "463:\tlearn: 0.3425645\ttotal: 1.24s\tremaining: 1.43s\n",
      "464:\tlearn: 0.3424722\ttotal: 1.24s\tremaining: 1.43s\n",
      "465:\tlearn: 0.3424001\ttotal: 1.24s\tremaining: 1.43s\n",
      "466:\tlearn: 0.3423076\ttotal: 1.25s\tremaining: 1.42s\n",
      "467:\tlearn: 0.3421242\ttotal: 1.25s\tremaining: 1.42s\n",
      "468:\tlearn: 0.3421025\ttotal: 1.25s\tremaining: 1.42s\n",
      "469:\tlearn: 0.3419198\ttotal: 1.25s\tremaining: 1.42s\n",
      "470:\tlearn: 0.3417701\ttotal: 1.26s\tremaining: 1.41s\n",
      "471:\tlearn: 0.3416769\ttotal: 1.26s\tremaining: 1.41s\n",
      "472:\tlearn: 0.3415565\ttotal: 1.26s\tremaining: 1.41s\n",
      "473:\tlearn: 0.3414237\ttotal: 1.27s\tremaining: 1.41s\n",
      "474:\tlearn: 0.3413470\ttotal: 1.27s\tremaining: 1.4s\n",
      "475:\tlearn: 0.3413424\ttotal: 1.27s\tremaining: 1.4s\n",
      "476:\tlearn: 0.3412887\ttotal: 1.27s\tremaining: 1.4s\n",
      "477:\tlearn: 0.3410753\ttotal: 1.28s\tremaining: 1.4s\n",
      "478:\tlearn: 0.3409507\ttotal: 1.28s\tremaining: 1.39s\n",
      "479:\tlearn: 0.3407615\ttotal: 1.28s\tremaining: 1.39s\n",
      "480:\tlearn: 0.3406877\ttotal: 1.29s\tremaining: 1.39s\n",
      "481:\tlearn: 0.3406760\ttotal: 1.29s\tremaining: 1.39s\n",
      "482:\tlearn: 0.3405265\ttotal: 1.29s\tremaining: 1.38s\n",
      "483:\tlearn: 0.3405257\ttotal: 1.29s\tremaining: 1.38s\n",
      "484:\tlearn: 0.3403317\ttotal: 1.3s\tremaining: 1.38s\n",
      "485:\tlearn: 0.3403271\ttotal: 1.3s\tremaining: 1.37s\n",
      "486:\tlearn: 0.3401568\ttotal: 1.3s\tremaining: 1.37s\n",
      "487:\tlearn: 0.3399319\ttotal: 1.3s\tremaining: 1.37s\n",
      "488:\tlearn: 0.3398096\ttotal: 1.31s\tremaining: 1.36s\n",
      "489:\tlearn: 0.3395879\ttotal: 1.31s\tremaining: 1.36s\n",
      "490:\tlearn: 0.3395829\ttotal: 1.31s\tremaining: 1.36s\n",
      "491:\tlearn: 0.3393804\ttotal: 1.31s\tremaining: 1.36s\n",
      "492:\tlearn: 0.3392936\ttotal: 1.32s\tremaining: 1.35s\n",
      "493:\tlearn: 0.3391629\ttotal: 1.32s\tremaining: 1.35s\n",
      "494:\tlearn: 0.3390728\ttotal: 1.32s\tremaining: 1.35s\n",
      "495:\tlearn: 0.3389506\ttotal: 1.32s\tremaining: 1.35s\n",
      "496:\tlearn: 0.3386718\ttotal: 1.33s\tremaining: 1.34s\n",
      "497:\tlearn: 0.3385004\ttotal: 1.33s\tremaining: 1.34s\n",
      "498:\tlearn: 0.3382085\ttotal: 1.33s\tremaining: 1.34s\n",
      "499:\tlearn: 0.3380924\ttotal: 1.34s\tremaining: 1.34s\n",
      "500:\tlearn: 0.3379755\ttotal: 1.34s\tremaining: 1.33s\n",
      "501:\tlearn: 0.3378557\ttotal: 1.34s\tremaining: 1.33s\n",
      "502:\tlearn: 0.3376737\ttotal: 1.35s\tremaining: 1.33s\n",
      "503:\tlearn: 0.3375635\ttotal: 1.35s\tremaining: 1.33s\n",
      "504:\tlearn: 0.3374583\ttotal: 1.35s\tremaining: 1.32s\n",
      "505:\tlearn: 0.3373876\ttotal: 1.35s\tremaining: 1.32s\n",
      "506:\tlearn: 0.3372981\ttotal: 1.36s\tremaining: 1.32s\n",
      "507:\tlearn: 0.3371614\ttotal: 1.36s\tremaining: 1.32s\n",
      "508:\tlearn: 0.3370185\ttotal: 1.36s\tremaining: 1.31s\n",
      "509:\tlearn: 0.3370070\ttotal: 1.37s\tremaining: 1.31s\n",
      "510:\tlearn: 0.3368888\ttotal: 1.37s\tremaining: 1.31s\n",
      "511:\tlearn: 0.3367777\ttotal: 1.37s\tremaining: 1.31s\n",
      "512:\tlearn: 0.3367071\ttotal: 1.37s\tremaining: 1.3s\n",
      "513:\tlearn: 0.3365670\ttotal: 1.38s\tremaining: 1.3s\n",
      "514:\tlearn: 0.3365478\ttotal: 1.38s\tremaining: 1.3s\n",
      "515:\tlearn: 0.3364266\ttotal: 1.38s\tremaining: 1.3s\n",
      "516:\tlearn: 0.3362074\ttotal: 1.39s\tremaining: 1.29s\n",
      "517:\tlearn: 0.3361522\ttotal: 1.39s\tremaining: 1.29s\n",
      "518:\tlearn: 0.3359764\ttotal: 1.39s\tremaining: 1.29s\n",
      "519:\tlearn: 0.3359189\ttotal: 1.39s\tremaining: 1.29s\n",
      "520:\tlearn: 0.3358164\ttotal: 1.4s\tremaining: 1.28s\n",
      "521:\tlearn: 0.3357089\ttotal: 1.4s\tremaining: 1.28s\n",
      "522:\tlearn: 0.3356398\ttotal: 1.4s\tremaining: 1.28s\n",
      "523:\tlearn: 0.3354848\ttotal: 1.41s\tremaining: 1.28s\n",
      "524:\tlearn: 0.3351880\ttotal: 1.41s\tremaining: 1.27s\n",
      "525:\tlearn: 0.3349948\ttotal: 1.41s\tremaining: 1.27s\n",
      "526:\tlearn: 0.3349597\ttotal: 1.41s\tremaining: 1.27s\n",
      "527:\tlearn: 0.3348276\ttotal: 1.42s\tremaining: 1.27s\n",
      "528:\tlearn: 0.3347217\ttotal: 1.42s\tremaining: 1.26s\n",
      "529:\tlearn: 0.3343541\ttotal: 1.42s\tremaining: 1.26s\n",
      "530:\tlearn: 0.3342164\ttotal: 1.42s\tremaining: 1.26s\n",
      "531:\tlearn: 0.3341821\ttotal: 1.43s\tremaining: 1.25s\n",
      "532:\tlearn: 0.3340782\ttotal: 1.43s\tremaining: 1.25s\n",
      "533:\tlearn: 0.3339947\ttotal: 1.43s\tremaining: 1.25s\n",
      "534:\tlearn: 0.3339345\ttotal: 1.44s\tremaining: 1.25s\n",
      "535:\tlearn: 0.3339156\ttotal: 1.44s\tremaining: 1.24s\n",
      "536:\tlearn: 0.3337519\ttotal: 1.44s\tremaining: 1.24s\n",
      "537:\tlearn: 0.3336737\ttotal: 1.44s\tremaining: 1.24s\n",
      "538:\tlearn: 0.3336735\ttotal: 1.44s\tremaining: 1.24s\n",
      "539:\tlearn: 0.3335505\ttotal: 1.45s\tremaining: 1.23s\n",
      "540:\tlearn: 0.3334263\ttotal: 1.45s\tremaining: 1.23s\n",
      "541:\tlearn: 0.3334171\ttotal: 1.45s\tremaining: 1.23s\n",
      "542:\tlearn: 0.3333410\ttotal: 1.46s\tremaining: 1.23s\n",
      "543:\tlearn: 0.3331940\ttotal: 1.46s\tremaining: 1.22s\n",
      "544:\tlearn: 0.3331615\ttotal: 1.46s\tremaining: 1.22s\n",
      "545:\tlearn: 0.3330153\ttotal: 1.46s\tremaining: 1.22s\n",
      "546:\tlearn: 0.3328819\ttotal: 1.47s\tremaining: 1.22s\n",
      "547:\tlearn: 0.3327907\ttotal: 1.47s\tremaining: 1.21s\n",
      "548:\tlearn: 0.3327176\ttotal: 1.47s\tremaining: 1.21s\n",
      "549:\tlearn: 0.3326861\ttotal: 1.48s\tremaining: 1.21s\n",
      "550:\tlearn: 0.3326591\ttotal: 1.48s\tremaining: 1.2s\n",
      "551:\tlearn: 0.3326040\ttotal: 1.48s\tremaining: 1.2s\n",
      "552:\tlearn: 0.3325444\ttotal: 1.48s\tremaining: 1.2s\n",
      "553:\tlearn: 0.3324015\ttotal: 1.49s\tremaining: 1.2s\n",
      "554:\tlearn: 0.3322992\ttotal: 1.49s\tremaining: 1.19s\n",
      "555:\tlearn: 0.3322015\ttotal: 1.49s\tremaining: 1.19s\n",
      "556:\tlearn: 0.3320881\ttotal: 1.49s\tremaining: 1.19s\n",
      "557:\tlearn: 0.3319266\ttotal: 1.5s\tremaining: 1.19s\n",
      "558:\tlearn: 0.3317754\ttotal: 1.5s\tremaining: 1.18s\n",
      "559:\tlearn: 0.3315895\ttotal: 1.5s\tremaining: 1.18s\n",
      "560:\tlearn: 0.3315209\ttotal: 1.51s\tremaining: 1.18s\n",
      "561:\tlearn: 0.3313664\ttotal: 1.51s\tremaining: 1.18s\n",
      "562:\tlearn: 0.3310794\ttotal: 1.51s\tremaining: 1.17s\n",
      "563:\tlearn: 0.3309653\ttotal: 1.51s\tremaining: 1.17s\n",
      "564:\tlearn: 0.3309113\ttotal: 1.52s\tremaining: 1.17s\n",
      "565:\tlearn: 0.3307734\ttotal: 1.52s\tremaining: 1.17s\n",
      "566:\tlearn: 0.3307114\ttotal: 1.52s\tremaining: 1.16s\n",
      "567:\tlearn: 0.3304990\ttotal: 1.53s\tremaining: 1.16s\n",
      "568:\tlearn: 0.3303808\ttotal: 1.53s\tremaining: 1.16s\n",
      "569:\tlearn: 0.3302389\ttotal: 1.53s\tremaining: 1.16s\n",
      "570:\tlearn: 0.3302261\ttotal: 1.53s\tremaining: 1.15s\n",
      "571:\tlearn: 0.3301012\ttotal: 1.54s\tremaining: 1.15s\n",
      "572:\tlearn: 0.3299997\ttotal: 1.54s\tremaining: 1.15s\n",
      "573:\tlearn: 0.3298385\ttotal: 1.54s\tremaining: 1.14s\n",
      "574:\tlearn: 0.3297289\ttotal: 1.54s\tremaining: 1.14s\n",
      "575:\tlearn: 0.3296499\ttotal: 1.55s\tremaining: 1.14s\n",
      "576:\tlearn: 0.3296377\ttotal: 1.55s\tremaining: 1.14s\n",
      "577:\tlearn: 0.3296126\ttotal: 1.55s\tremaining: 1.13s\n",
      "578:\tlearn: 0.3295046\ttotal: 1.55s\tremaining: 1.13s\n",
      "579:\tlearn: 0.3294128\ttotal: 1.56s\tremaining: 1.13s\n",
      "580:\tlearn: 0.3293098\ttotal: 1.56s\tremaining: 1.13s\n",
      "581:\tlearn: 0.3292517\ttotal: 1.56s\tremaining: 1.12s\n",
      "582:\tlearn: 0.3292435\ttotal: 1.57s\tremaining: 1.12s\n",
      "583:\tlearn: 0.3291408\ttotal: 1.57s\tremaining: 1.12s\n",
      "584:\tlearn: 0.3291232\ttotal: 1.57s\tremaining: 1.11s\n",
      "585:\tlearn: 0.3289036\ttotal: 1.57s\tremaining: 1.11s\n",
      "586:\tlearn: 0.3288659\ttotal: 1.58s\tremaining: 1.11s\n",
      "587:\tlearn: 0.3286401\ttotal: 1.58s\tremaining: 1.11s\n",
      "588:\tlearn: 0.3285709\ttotal: 1.58s\tremaining: 1.1s\n",
      "589:\tlearn: 0.3285637\ttotal: 1.59s\tremaining: 1.1s\n",
      "590:\tlearn: 0.3285289\ttotal: 1.59s\tremaining: 1.1s\n",
      "591:\tlearn: 0.3283852\ttotal: 1.59s\tremaining: 1.1s\n",
      "592:\tlearn: 0.3282947\ttotal: 1.59s\tremaining: 1.09s\n",
      "593:\tlearn: 0.3282062\ttotal: 1.6s\tremaining: 1.09s\n",
      "594:\tlearn: 0.3280347\ttotal: 1.6s\tremaining: 1.09s\n",
      "595:\tlearn: 0.3279605\ttotal: 1.6s\tremaining: 1.09s\n",
      "596:\tlearn: 0.3279164\ttotal: 1.61s\tremaining: 1.08s\n",
      "597:\tlearn: 0.3276441\ttotal: 1.61s\tremaining: 1.08s\n",
      "598:\tlearn: 0.3275436\ttotal: 1.61s\tremaining: 1.08s\n",
      "599:\tlearn: 0.3273685\ttotal: 1.61s\tremaining: 1.08s\n",
      "600:\tlearn: 0.3273607\ttotal: 1.62s\tremaining: 1.07s\n",
      "601:\tlearn: 0.3273347\ttotal: 1.62s\tremaining: 1.07s\n",
      "602:\tlearn: 0.3271462\ttotal: 1.62s\tremaining: 1.07s\n",
      "603:\tlearn: 0.3270814\ttotal: 1.62s\tremaining: 1.06s\n",
      "604:\tlearn: 0.3270591\ttotal: 1.63s\tremaining: 1.06s\n",
      "605:\tlearn: 0.3269279\ttotal: 1.63s\tremaining: 1.06s\n",
      "606:\tlearn: 0.3268805\ttotal: 1.63s\tremaining: 1.06s\n",
      "607:\tlearn: 0.3267534\ttotal: 1.64s\tremaining: 1.05s\n",
      "608:\tlearn: 0.3266868\ttotal: 1.64s\tremaining: 1.05s\n",
      "609:\tlearn: 0.3265793\ttotal: 1.64s\tremaining: 1.05s\n",
      "610:\tlearn: 0.3264125\ttotal: 1.65s\tremaining: 1.05s\n",
      "611:\tlearn: 0.3263365\ttotal: 1.65s\tremaining: 1.04s\n",
      "612:\tlearn: 0.3262664\ttotal: 1.65s\tremaining: 1.04s\n",
      "613:\tlearn: 0.3261989\ttotal: 1.65s\tremaining: 1.04s\n",
      "614:\tlearn: 0.3261443\ttotal: 1.66s\tremaining: 1.04s\n",
      "615:\tlearn: 0.3260753\ttotal: 1.66s\tremaining: 1.03s\n",
      "616:\tlearn: 0.3259868\ttotal: 1.66s\tremaining: 1.03s\n",
      "617:\tlearn: 0.3259186\ttotal: 1.66s\tremaining: 1.03s\n",
      "618:\tlearn: 0.3258709\ttotal: 1.67s\tremaining: 1.03s\n",
      "619:\tlearn: 0.3258220\ttotal: 1.67s\tremaining: 1.02s\n",
      "620:\tlearn: 0.3256900\ttotal: 1.67s\tremaining: 1.02s\n",
      "621:\tlearn: 0.3254956\ttotal: 1.68s\tremaining: 1.02s\n",
      "622:\tlearn: 0.3254397\ttotal: 1.68s\tremaining: 1.02s\n",
      "623:\tlearn: 0.3253133\ttotal: 1.68s\tremaining: 1.01s\n",
      "624:\tlearn: 0.3251794\ttotal: 1.68s\tremaining: 1.01s\n",
      "625:\tlearn: 0.3250839\ttotal: 1.69s\tremaining: 1.01s\n",
      "626:\tlearn: 0.3249983\ttotal: 1.69s\tremaining: 1s\n",
      "627:\tlearn: 0.3249205\ttotal: 1.69s\tremaining: 1s\n",
      "628:\tlearn: 0.3248876\ttotal: 1.7s\tremaining: 1s\n",
      "629:\tlearn: 0.3248148\ttotal: 1.7s\tremaining: 998ms\n",
      "630:\tlearn: 0.3247229\ttotal: 1.7s\tremaining: 995ms\n",
      "631:\tlearn: 0.3246664\ttotal: 1.7s\tremaining: 992ms\n",
      "632:\tlearn: 0.3245422\ttotal: 1.71s\tremaining: 990ms\n",
      "633:\tlearn: 0.3245275\ttotal: 1.71s\tremaining: 987ms\n",
      "634:\tlearn: 0.3243609\ttotal: 1.71s\tremaining: 985ms\n",
      "635:\tlearn: 0.3242455\ttotal: 1.72s\tremaining: 982ms\n",
      "636:\tlearn: 0.3241531\ttotal: 1.72s\tremaining: 979ms\n",
      "637:\tlearn: 0.3240901\ttotal: 1.72s\tremaining: 977ms\n",
      "638:\tlearn: 0.3240286\ttotal: 1.72s\tremaining: 974ms\n",
      "639:\tlearn: 0.3239404\ttotal: 1.73s\tremaining: 971ms\n",
      "640:\tlearn: 0.3238916\ttotal: 1.73s\tremaining: 969ms\n",
      "641:\tlearn: 0.3235370\ttotal: 1.73s\tremaining: 966ms\n",
      "642:\tlearn: 0.3235081\ttotal: 1.73s\tremaining: 963ms\n",
      "643:\tlearn: 0.3233711\ttotal: 1.74s\tremaining: 961ms\n",
      "644:\tlearn: 0.3232443\ttotal: 1.74s\tremaining: 958ms\n",
      "645:\tlearn: 0.3231477\ttotal: 1.74s\tremaining: 955ms\n",
      "646:\tlearn: 0.3230781\ttotal: 1.75s\tremaining: 953ms\n",
      "647:\tlearn: 0.3229054\ttotal: 1.75s\tremaining: 950ms\n"
     ]
    },
    {
     "name": "stdout",
     "output_type": "stream",
     "text": [
      "648:\tlearn: 0.3227803\ttotal: 1.75s\tremaining: 947ms\n",
      "649:\tlearn: 0.3226675\ttotal: 1.75s\tremaining: 945ms\n",
      "650:\tlearn: 0.3224081\ttotal: 1.76s\tremaining: 942ms\n",
      "651:\tlearn: 0.3223992\ttotal: 1.76s\tremaining: 940ms\n",
      "652:\tlearn: 0.3222400\ttotal: 1.76s\tremaining: 937ms\n",
      "653:\tlearn: 0.3221939\ttotal: 1.76s\tremaining: 934ms\n",
      "654:\tlearn: 0.3221061\ttotal: 1.77s\tremaining: 932ms\n",
      "655:\tlearn: 0.3219926\ttotal: 1.77s\tremaining: 929ms\n",
      "656:\tlearn: 0.3218378\ttotal: 1.77s\tremaining: 926ms\n",
      "657:\tlearn: 0.3217777\ttotal: 1.78s\tremaining: 924ms\n",
      "658:\tlearn: 0.3215459\ttotal: 1.78s\tremaining: 921ms\n",
      "659:\tlearn: 0.3214921\ttotal: 1.78s\tremaining: 919ms\n",
      "660:\tlearn: 0.3213897\ttotal: 1.78s\tremaining: 916ms\n",
      "661:\tlearn: 0.3211735\ttotal: 1.79s\tremaining: 913ms\n",
      "662:\tlearn: 0.3211199\ttotal: 1.79s\tremaining: 911ms\n",
      "663:\tlearn: 0.3210961\ttotal: 1.79s\tremaining: 908ms\n",
      "664:\tlearn: 0.3209806\ttotal: 1.8s\tremaining: 905ms\n",
      "665:\tlearn: 0.3209359\ttotal: 1.8s\tremaining: 903ms\n",
      "666:\tlearn: 0.3209225\ttotal: 1.8s\tremaining: 900ms\n",
      "667:\tlearn: 0.3208395\ttotal: 1.8s\tremaining: 897ms\n",
      "668:\tlearn: 0.3207412\ttotal: 1.81s\tremaining: 895ms\n",
      "669:\tlearn: 0.3204596\ttotal: 1.81s\tremaining: 892ms\n",
      "670:\tlearn: 0.3201464\ttotal: 1.81s\tremaining: 889ms\n",
      "671:\tlearn: 0.3200627\ttotal: 1.82s\tremaining: 887ms\n",
      "672:\tlearn: 0.3200079\ttotal: 1.82s\tremaining: 884ms\n",
      "673:\tlearn: 0.3199849\ttotal: 1.82s\tremaining: 881ms\n",
      "674:\tlearn: 0.3198598\ttotal: 1.82s\tremaining: 879ms\n",
      "675:\tlearn: 0.3196226\ttotal: 1.83s\tremaining: 876ms\n",
      "676:\tlearn: 0.3194707\ttotal: 1.83s\tremaining: 873ms\n",
      "677:\tlearn: 0.3193255\ttotal: 1.83s\tremaining: 871ms\n",
      "678:\tlearn: 0.3191604\ttotal: 1.84s\tremaining: 868ms\n",
      "679:\tlearn: 0.3190637\ttotal: 1.84s\tremaining: 865ms\n",
      "680:\tlearn: 0.3189769\ttotal: 1.84s\tremaining: 863ms\n",
      "681:\tlearn: 0.3188216\ttotal: 1.84s\tremaining: 860ms\n",
      "682:\tlearn: 0.3186467\ttotal: 1.85s\tremaining: 857ms\n",
      "683:\tlearn: 0.3185276\ttotal: 1.85s\tremaining: 855ms\n",
      "684:\tlearn: 0.3185083\ttotal: 1.85s\tremaining: 852ms\n",
      "685:\tlearn: 0.3184668\ttotal: 1.85s\tremaining: 849ms\n",
      "686:\tlearn: 0.3184039\ttotal: 1.86s\tremaining: 847ms\n",
      "687:\tlearn: 0.3182931\ttotal: 1.86s\tremaining: 844ms\n",
      "688:\tlearn: 0.3180569\ttotal: 1.86s\tremaining: 841ms\n",
      "689:\tlearn: 0.3179211\ttotal: 1.87s\tremaining: 839ms\n",
      "690:\tlearn: 0.3177828\ttotal: 1.87s\tremaining: 836ms\n",
      "691:\tlearn: 0.3177465\ttotal: 1.87s\tremaining: 833ms\n",
      "692:\tlearn: 0.3176255\ttotal: 1.88s\tremaining: 831ms\n",
      "693:\tlearn: 0.3174865\ttotal: 1.88s\tremaining: 828ms\n",
      "694:\tlearn: 0.3173503\ttotal: 1.88s\tremaining: 825ms\n",
      "695:\tlearn: 0.3171520\ttotal: 1.88s\tremaining: 823ms\n",
      "696:\tlearn: 0.3171067\ttotal: 1.89s\tremaining: 820ms\n",
      "697:\tlearn: 0.3169892\ttotal: 1.89s\tremaining: 817ms\n",
      "698:\tlearn: 0.3168054\ttotal: 1.89s\tremaining: 815ms\n",
      "699:\tlearn: 0.3166822\ttotal: 1.9s\tremaining: 812ms\n",
      "700:\tlearn: 0.3166039\ttotal: 1.9s\tremaining: 810ms\n",
      "701:\tlearn: 0.3165078\ttotal: 1.9s\tremaining: 807ms\n",
      "702:\tlearn: 0.3163590\ttotal: 1.9s\tremaining: 805ms\n",
      "703:\tlearn: 0.3163104\ttotal: 1.91s\tremaining: 802ms\n",
      "704:\tlearn: 0.3162676\ttotal: 1.91s\tremaining: 799ms\n",
      "705:\tlearn: 0.3161871\ttotal: 1.91s\tremaining: 797ms\n",
      "706:\tlearn: 0.3161267\ttotal: 1.92s\tremaining: 794ms\n",
      "707:\tlearn: 0.3160946\ttotal: 1.92s\tremaining: 791ms\n",
      "708:\tlearn: 0.3160302\ttotal: 1.92s\tremaining: 788ms\n",
      "709:\tlearn: 0.3158283\ttotal: 1.92s\tremaining: 786ms\n",
      "710:\tlearn: 0.3157621\ttotal: 1.93s\tremaining: 783ms\n",
      "711:\tlearn: 0.3157382\ttotal: 1.93s\tremaining: 781ms\n",
      "712:\tlearn: 0.3155981\ttotal: 1.93s\tremaining: 778ms\n",
      "713:\tlearn: 0.3154835\ttotal: 1.94s\tremaining: 775ms\n",
      "714:\tlearn: 0.3153980\ttotal: 1.94s\tremaining: 773ms\n",
      "715:\tlearn: 0.3152922\ttotal: 1.94s\tremaining: 770ms\n",
      "716:\tlearn: 0.3152102\ttotal: 1.95s\tremaining: 768ms\n",
      "717:\tlearn: 0.3149771\ttotal: 1.95s\tremaining: 765ms\n",
      "718:\tlearn: 0.3148378\ttotal: 1.95s\tremaining: 763ms\n",
      "719:\tlearn: 0.3147134\ttotal: 1.95s\tremaining: 760ms\n",
      "720:\tlearn: 0.3146714\ttotal: 1.96s\tremaining: 758ms\n",
      "721:\tlearn: 0.3146110\ttotal: 1.96s\tremaining: 755ms\n",
      "722:\tlearn: 0.3144934\ttotal: 1.96s\tremaining: 752ms\n",
      "723:\tlearn: 0.3143531\ttotal: 1.97s\tremaining: 750ms\n",
      "724:\tlearn: 0.3142157\ttotal: 1.97s\tremaining: 747ms\n",
      "725:\tlearn: 0.3140473\ttotal: 1.97s\tremaining: 744ms\n",
      "726:\tlearn: 0.3139531\ttotal: 1.98s\tremaining: 742ms\n",
      "727:\tlearn: 0.3138545\ttotal: 1.98s\tremaining: 739ms\n",
      "728:\tlearn: 0.3137976\ttotal: 1.98s\tremaining: 736ms\n",
      "729:\tlearn: 0.3137110\ttotal: 1.98s\tremaining: 734ms\n",
      "730:\tlearn: 0.3136198\ttotal: 1.99s\tremaining: 731ms\n",
      "731:\tlearn: 0.3134217\ttotal: 1.99s\tremaining: 728ms\n",
      "732:\tlearn: 0.3132537\ttotal: 1.99s\tremaining: 726ms\n",
      "733:\tlearn: 0.3131969\ttotal: 1.99s\tremaining: 723ms\n",
      "734:\tlearn: 0.3130787\ttotal: 2s\tremaining: 720ms\n",
      "735:\tlearn: 0.3129164\ttotal: 2s\tremaining: 717ms\n",
      "736:\tlearn: 0.3127804\ttotal: 2s\tremaining: 715ms\n",
      "737:\tlearn: 0.3127206\ttotal: 2s\tremaining: 712ms\n",
      "738:\tlearn: 0.3126676\ttotal: 2.01s\tremaining: 709ms\n",
      "739:\tlearn: 0.3125692\ttotal: 2.01s\tremaining: 707ms\n",
      "740:\tlearn: 0.3123171\ttotal: 2.01s\tremaining: 704ms\n",
      "741:\tlearn: 0.3121646\ttotal: 2.02s\tremaining: 701ms\n",
      "742:\tlearn: 0.3120862\ttotal: 2.02s\tremaining: 699ms\n",
      "743:\tlearn: 0.3119350\ttotal: 2.02s\tremaining: 696ms\n",
      "744:\tlearn: 0.3117110\ttotal: 2.02s\tremaining: 693ms\n",
      "745:\tlearn: 0.3116020\ttotal: 2.03s\tremaining: 691ms\n",
      "746:\tlearn: 0.3114555\ttotal: 2.03s\tremaining: 688ms\n",
      "747:\tlearn: 0.3113430\ttotal: 2.03s\tremaining: 685ms\n",
      "748:\tlearn: 0.3112352\ttotal: 2.04s\tremaining: 683ms\n",
      "749:\tlearn: 0.3110008\ttotal: 2.04s\tremaining: 680ms\n",
      "750:\tlearn: 0.3109219\ttotal: 2.04s\tremaining: 677ms\n",
      "751:\tlearn: 0.3108445\ttotal: 2.04s\tremaining: 675ms\n",
      "752:\tlearn: 0.3107339\ttotal: 2.05s\tremaining: 672ms\n",
      "753:\tlearn: 0.3106175\ttotal: 2.05s\tremaining: 669ms\n",
      "754:\tlearn: 0.3105519\ttotal: 2.05s\tremaining: 667ms\n",
      "755:\tlearn: 0.3103361\ttotal: 2.06s\tremaining: 664ms\n",
      "756:\tlearn: 0.3102588\ttotal: 2.06s\tremaining: 661ms\n",
      "757:\tlearn: 0.3101446\ttotal: 2.06s\tremaining: 659ms\n",
      "758:\tlearn: 0.3099850\ttotal: 2.06s\tremaining: 656ms\n",
      "759:\tlearn: 0.3097341\ttotal: 2.07s\tremaining: 653ms\n",
      "760:\tlearn: 0.3095406\ttotal: 2.07s\tremaining: 650ms\n",
      "761:\tlearn: 0.3095268\ttotal: 2.07s\tremaining: 648ms\n",
      "762:\tlearn: 0.3094360\ttotal: 2.08s\tremaining: 645ms\n",
      "763:\tlearn: 0.3093688\ttotal: 2.08s\tremaining: 642ms\n",
      "764:\tlearn: 0.3092309\ttotal: 2.08s\tremaining: 640ms\n",
      "765:\tlearn: 0.3090655\ttotal: 2.08s\tremaining: 637ms\n",
      "766:\tlearn: 0.3089810\ttotal: 2.09s\tremaining: 634ms\n",
      "767:\tlearn: 0.3088894\ttotal: 2.09s\tremaining: 632ms\n",
      "768:\tlearn: 0.3086727\ttotal: 2.09s\tremaining: 629ms\n",
      "769:\tlearn: 0.3086056\ttotal: 2.1s\tremaining: 626ms\n",
      "770:\tlearn: 0.3085539\ttotal: 2.1s\tremaining: 623ms\n",
      "771:\tlearn: 0.3085150\ttotal: 2.1s\tremaining: 621ms\n",
      "772:\tlearn: 0.3084503\ttotal: 2.1s\tremaining: 618ms\n",
      "773:\tlearn: 0.3083766\ttotal: 2.11s\tremaining: 615ms\n",
      "774:\tlearn: 0.3083514\ttotal: 2.11s\tremaining: 613ms\n",
      "775:\tlearn: 0.3082683\ttotal: 2.11s\tremaining: 610ms\n",
      "776:\tlearn: 0.3082072\ttotal: 2.12s\tremaining: 607ms\n",
      "777:\tlearn: 0.3079427\ttotal: 2.12s\tremaining: 605ms\n",
      "778:\tlearn: 0.3078243\ttotal: 2.12s\tremaining: 602ms\n",
      "779:\tlearn: 0.3077577\ttotal: 2.12s\tremaining: 599ms\n",
      "780:\tlearn: 0.3076881\ttotal: 2.13s\tremaining: 597ms\n",
      "781:\tlearn: 0.3075308\ttotal: 2.13s\tremaining: 594ms\n",
      "782:\tlearn: 0.3073943\ttotal: 2.13s\tremaining: 591ms\n",
      "783:\tlearn: 0.3073044\ttotal: 2.14s\tremaining: 589ms\n",
      "784:\tlearn: 0.3071420\ttotal: 2.14s\tremaining: 586ms\n",
      "785:\tlearn: 0.3071218\ttotal: 2.14s\tremaining: 583ms\n",
      "786:\tlearn: 0.3070584\ttotal: 2.15s\tremaining: 581ms\n",
      "787:\tlearn: 0.3070496\ttotal: 2.15s\tremaining: 578ms\n",
      "788:\tlearn: 0.3070183\ttotal: 2.15s\tremaining: 575ms\n",
      "789:\tlearn: 0.3069009\ttotal: 2.15s\tremaining: 572ms\n",
      "790:\tlearn: 0.3067211\ttotal: 2.16s\tremaining: 570ms\n",
      "791:\tlearn: 0.3066586\ttotal: 2.16s\tremaining: 567ms\n",
      "792:\tlearn: 0.3065662\ttotal: 2.16s\tremaining: 564ms\n",
      "793:\tlearn: 0.3063934\ttotal: 2.17s\tremaining: 562ms\n",
      "794:\tlearn: 0.3063363\ttotal: 2.17s\tremaining: 559ms\n",
      "795:\tlearn: 0.3062623\ttotal: 2.17s\tremaining: 556ms\n",
      "796:\tlearn: 0.3060682\ttotal: 2.17s\tremaining: 554ms\n",
      "797:\tlearn: 0.3059454\ttotal: 2.18s\tremaining: 551ms\n",
      "798:\tlearn: 0.3057472\ttotal: 2.18s\tremaining: 548ms\n",
      "799:\tlearn: 0.3057000\ttotal: 2.18s\tremaining: 546ms\n",
      "800:\tlearn: 0.3056170\ttotal: 2.19s\tremaining: 543ms\n",
      "801:\tlearn: 0.3055565\ttotal: 2.19s\tremaining: 540ms\n",
      "802:\tlearn: 0.3055201\ttotal: 2.19s\tremaining: 537ms\n",
      "803:\tlearn: 0.3053443\ttotal: 2.19s\tremaining: 535ms\n",
      "804:\tlearn: 0.3051771\ttotal: 2.2s\tremaining: 532ms\n",
      "805:\tlearn: 0.3050302\ttotal: 2.2s\tremaining: 529ms\n",
      "806:\tlearn: 0.3049797\ttotal: 2.2s\tremaining: 527ms\n",
      "807:\tlearn: 0.3048612\ttotal: 2.2s\tremaining: 524ms\n",
      "808:\tlearn: 0.3046514\ttotal: 2.21s\tremaining: 521ms\n",
      "809:\tlearn: 0.3046072\ttotal: 2.21s\tremaining: 519ms\n",
      "810:\tlearn: 0.3044870\ttotal: 2.21s\tremaining: 516ms\n",
      "811:\tlearn: 0.3044019\ttotal: 2.22s\tremaining: 513ms\n",
      "812:\tlearn: 0.3042857\ttotal: 2.22s\tremaining: 510ms\n",
      "813:\tlearn: 0.3042586\ttotal: 2.22s\tremaining: 508ms\n",
      "814:\tlearn: 0.3041779\ttotal: 2.22s\tremaining: 505ms\n",
      "815:\tlearn: 0.3039993\ttotal: 2.23s\tremaining: 502ms\n",
      "816:\tlearn: 0.3039135\ttotal: 2.23s\tremaining: 499ms\n",
      "817:\tlearn: 0.3038220\ttotal: 2.23s\tremaining: 497ms\n",
      "818:\tlearn: 0.3037448\ttotal: 2.23s\tremaining: 494ms\n",
      "819:\tlearn: 0.3036662\ttotal: 2.24s\tremaining: 491ms\n",
      "820:\tlearn: 0.3036190\ttotal: 2.24s\tremaining: 489ms\n",
      "821:\tlearn: 0.3035563\ttotal: 2.24s\tremaining: 486ms\n",
      "822:\tlearn: 0.3034472\ttotal: 2.25s\tremaining: 483ms\n",
      "823:\tlearn: 0.3033184\ttotal: 2.25s\tremaining: 480ms\n",
      "824:\tlearn: 0.3032975\ttotal: 2.25s\tremaining: 478ms\n",
      "825:\tlearn: 0.3031705\ttotal: 2.25s\tremaining: 475ms\n",
      "826:\tlearn: 0.3031299\ttotal: 2.26s\tremaining: 472ms\n",
      "827:\tlearn: 0.3030606\ttotal: 2.26s\tremaining: 470ms\n",
      "828:\tlearn: 0.3030441\ttotal: 2.26s\tremaining: 467ms\n",
      "829:\tlearn: 0.3028343\ttotal: 2.27s\tremaining: 464ms\n",
      "830:\tlearn: 0.3025932\ttotal: 2.27s\tremaining: 461ms\n",
      "831:\tlearn: 0.3025354\ttotal: 2.27s\tremaining: 459ms\n",
      "832:\tlearn: 0.3023908\ttotal: 2.27s\tremaining: 456ms\n",
      "833:\tlearn: 0.3023521\ttotal: 2.28s\tremaining: 453ms\n",
      "834:\tlearn: 0.3022496\ttotal: 2.28s\tremaining: 450ms\n",
      "835:\tlearn: 0.3021767\ttotal: 2.28s\tremaining: 448ms\n",
      "836:\tlearn: 0.3020719\ttotal: 2.28s\tremaining: 445ms\n",
      "837:\tlearn: 0.3017788\ttotal: 2.29s\tremaining: 442ms\n",
      "838:\tlearn: 0.3017170\ttotal: 2.29s\tremaining: 439ms\n",
      "839:\tlearn: 0.3016461\ttotal: 2.29s\tremaining: 437ms\n",
      "840:\tlearn: 0.3015875\ttotal: 2.29s\tremaining: 434ms\n",
      "841:\tlearn: 0.3015103\ttotal: 2.3s\tremaining: 431ms\n",
      "842:\tlearn: 0.3014359\ttotal: 2.3s\tremaining: 429ms\n",
      "843:\tlearn: 0.3013240\ttotal: 2.3s\tremaining: 426ms\n",
      "844:\tlearn: 0.3012708\ttotal: 2.31s\tremaining: 423ms\n",
      "845:\tlearn: 0.3012077\ttotal: 2.31s\tremaining: 420ms\n",
      "846:\tlearn: 0.3011105\ttotal: 2.31s\tremaining: 418ms\n",
      "847:\tlearn: 0.3010502\ttotal: 2.31s\tremaining: 415ms\n",
      "848:\tlearn: 0.3010051\ttotal: 2.32s\tremaining: 412ms\n",
      "849:\tlearn: 0.3009207\ttotal: 2.32s\tremaining: 409ms\n",
      "850:\tlearn: 0.3008027\ttotal: 2.32s\tremaining: 407ms\n",
      "851:\tlearn: 0.3007544\ttotal: 2.33s\tremaining: 404ms\n",
      "852:\tlearn: 0.3005872\ttotal: 2.33s\tremaining: 401ms\n",
      "853:\tlearn: 0.3004459\ttotal: 2.33s\tremaining: 399ms\n",
      "854:\tlearn: 0.3002439\ttotal: 2.33s\tremaining: 396ms\n",
      "855:\tlearn: 0.3002202\ttotal: 2.34s\tremaining: 393ms\n",
      "856:\tlearn: 0.3001796\ttotal: 2.34s\tremaining: 391ms\n",
      "857:\tlearn: 0.2999685\ttotal: 2.34s\tremaining: 388ms\n"
     ]
    },
    {
     "name": "stdout",
     "output_type": "stream",
     "text": [
      "858:\tlearn: 0.2998119\ttotal: 2.35s\tremaining: 385ms\n",
      "859:\tlearn: 0.2997364\ttotal: 2.35s\tremaining: 383ms\n",
      "860:\tlearn: 0.2996745\ttotal: 2.35s\tremaining: 380ms\n",
      "861:\tlearn: 0.2994987\ttotal: 2.35s\tremaining: 377ms\n",
      "862:\tlearn: 0.2994708\ttotal: 2.36s\tremaining: 374ms\n",
      "863:\tlearn: 0.2993676\ttotal: 2.36s\tremaining: 372ms\n",
      "864:\tlearn: 0.2992868\ttotal: 2.36s\tremaining: 369ms\n",
      "865:\tlearn: 0.2991880\ttotal: 2.37s\tremaining: 366ms\n",
      "866:\tlearn: 0.2991515\ttotal: 2.37s\tremaining: 364ms\n",
      "867:\tlearn: 0.2990851\ttotal: 2.37s\tremaining: 361ms\n",
      "868:\tlearn: 0.2989850\ttotal: 2.38s\tremaining: 358ms\n",
      "869:\tlearn: 0.2988044\ttotal: 2.38s\tremaining: 356ms\n",
      "870:\tlearn: 0.2987689\ttotal: 2.38s\tremaining: 353ms\n",
      "871:\tlearn: 0.2986830\ttotal: 2.38s\tremaining: 350ms\n",
      "872:\tlearn: 0.2986336\ttotal: 2.39s\tremaining: 347ms\n",
      "873:\tlearn: 0.2985564\ttotal: 2.39s\tremaining: 345ms\n",
      "874:\tlearn: 0.2984061\ttotal: 2.39s\tremaining: 342ms\n",
      "875:\tlearn: 0.2983036\ttotal: 2.4s\tremaining: 339ms\n",
      "876:\tlearn: 0.2982086\ttotal: 2.4s\tremaining: 337ms\n",
      "877:\tlearn: 0.2981191\ttotal: 2.4s\tremaining: 334ms\n",
      "878:\tlearn: 0.2979908\ttotal: 2.4s\tremaining: 331ms\n",
      "879:\tlearn: 0.2979562\ttotal: 2.41s\tremaining: 328ms\n",
      "880:\tlearn: 0.2979153\ttotal: 2.41s\tremaining: 326ms\n",
      "881:\tlearn: 0.2978362\ttotal: 2.41s\tremaining: 323ms\n",
      "882:\tlearn: 0.2977713\ttotal: 2.42s\tremaining: 320ms\n",
      "883:\tlearn: 0.2976678\ttotal: 2.42s\tremaining: 318ms\n",
      "884:\tlearn: 0.2975859\ttotal: 2.42s\tremaining: 315ms\n",
      "885:\tlearn: 0.2973550\ttotal: 2.43s\tremaining: 312ms\n",
      "886:\tlearn: 0.2971154\ttotal: 2.43s\tremaining: 310ms\n",
      "887:\tlearn: 0.2970890\ttotal: 2.43s\tremaining: 307ms\n",
      "888:\tlearn: 0.2969425\ttotal: 2.44s\tremaining: 304ms\n",
      "889:\tlearn: 0.2968122\ttotal: 2.44s\tremaining: 301ms\n",
      "890:\tlearn: 0.2966638\ttotal: 2.44s\tremaining: 299ms\n",
      "891:\tlearn: 0.2966401\ttotal: 2.44s\tremaining: 296ms\n",
      "892:\tlearn: 0.2965602\ttotal: 2.45s\tremaining: 293ms\n",
      "893:\tlearn: 0.2964888\ttotal: 2.45s\tremaining: 291ms\n",
      "894:\tlearn: 0.2962957\ttotal: 2.45s\tremaining: 288ms\n",
      "895:\tlearn: 0.2962000\ttotal: 2.46s\tremaining: 285ms\n",
      "896:\tlearn: 0.2961360\ttotal: 2.46s\tremaining: 283ms\n",
      "897:\tlearn: 0.2959421\ttotal: 2.46s\tremaining: 280ms\n",
      "898:\tlearn: 0.2958463\ttotal: 2.47s\tremaining: 277ms\n",
      "899:\tlearn: 0.2957759\ttotal: 2.47s\tremaining: 274ms\n",
      "900:\tlearn: 0.2957516\ttotal: 2.47s\tremaining: 272ms\n",
      "901:\tlearn: 0.2956923\ttotal: 2.48s\tremaining: 269ms\n",
      "902:\tlearn: 0.2955626\ttotal: 2.48s\tremaining: 266ms\n",
      "903:\tlearn: 0.2954929\ttotal: 2.48s\tremaining: 264ms\n",
      "904:\tlearn: 0.2954243\ttotal: 2.48s\tremaining: 261ms\n",
      "905:\tlearn: 0.2953622\ttotal: 2.49s\tremaining: 258ms\n",
      "906:\tlearn: 0.2952601\ttotal: 2.49s\tremaining: 256ms\n",
      "907:\tlearn: 0.2951829\ttotal: 2.5s\tremaining: 253ms\n",
      "908:\tlearn: 0.2951027\ttotal: 2.5s\tremaining: 250ms\n",
      "909:\tlearn: 0.2950042\ttotal: 2.5s\tremaining: 247ms\n",
      "910:\tlearn: 0.2948012\ttotal: 2.5s\tremaining: 245ms\n",
      "911:\tlearn: 0.2947421\ttotal: 2.51s\tremaining: 242ms\n",
      "912:\tlearn: 0.2945524\ttotal: 2.51s\tremaining: 239ms\n",
      "913:\tlearn: 0.2944873\ttotal: 2.51s\tremaining: 237ms\n",
      "914:\tlearn: 0.2944174\ttotal: 2.52s\tremaining: 234ms\n",
      "915:\tlearn: 0.2943427\ttotal: 2.52s\tremaining: 231ms\n",
      "916:\tlearn: 0.2942349\ttotal: 2.52s\tremaining: 228ms\n",
      "917:\tlearn: 0.2941847\ttotal: 2.53s\tremaining: 226ms\n",
      "918:\tlearn: 0.2940679\ttotal: 2.53s\tremaining: 223ms\n",
      "919:\tlearn: 0.2939540\ttotal: 2.53s\tremaining: 220ms\n",
      "920:\tlearn: 0.2937163\ttotal: 2.54s\tremaining: 218ms\n",
      "921:\tlearn: 0.2936371\ttotal: 2.54s\tremaining: 215ms\n",
      "922:\tlearn: 0.2935719\ttotal: 2.54s\tremaining: 212ms\n",
      "923:\tlearn: 0.2935533\ttotal: 2.55s\tremaining: 209ms\n",
      "924:\tlearn: 0.2934965\ttotal: 2.55s\tremaining: 207ms\n",
      "925:\tlearn: 0.2934228\ttotal: 2.55s\tremaining: 204ms\n",
      "926:\tlearn: 0.2933843\ttotal: 2.56s\tremaining: 201ms\n",
      "927:\tlearn: 0.2932967\ttotal: 2.56s\tremaining: 199ms\n",
      "928:\tlearn: 0.2932030\ttotal: 2.56s\tremaining: 196ms\n",
      "929:\tlearn: 0.2931639\ttotal: 2.56s\tremaining: 193ms\n",
      "930:\tlearn: 0.2930697\ttotal: 2.57s\tremaining: 190ms\n",
      "931:\tlearn: 0.2929742\ttotal: 2.57s\tremaining: 188ms\n",
      "932:\tlearn: 0.2929452\ttotal: 2.58s\tremaining: 185ms\n",
      "933:\tlearn: 0.2927372\ttotal: 2.58s\tremaining: 182ms\n",
      "934:\tlearn: 0.2927077\ttotal: 2.58s\tremaining: 179ms\n",
      "935:\tlearn: 0.2926610\ttotal: 2.58s\tremaining: 177ms\n",
      "936:\tlearn: 0.2924872\ttotal: 2.59s\tremaining: 174ms\n",
      "937:\tlearn: 0.2923899\ttotal: 2.59s\tremaining: 171ms\n",
      "938:\tlearn: 0.2923298\ttotal: 2.59s\tremaining: 169ms\n",
      "939:\tlearn: 0.2921761\ttotal: 2.6s\tremaining: 166ms\n",
      "940:\tlearn: 0.2921567\ttotal: 2.6s\tremaining: 163ms\n",
      "941:\tlearn: 0.2920293\ttotal: 2.6s\tremaining: 160ms\n",
      "942:\tlearn: 0.2919633\ttotal: 2.61s\tremaining: 158ms\n",
      "943:\tlearn: 0.2918045\ttotal: 2.61s\tremaining: 155ms\n",
      "944:\tlearn: 0.2917578\ttotal: 2.61s\tremaining: 152ms\n",
      "945:\tlearn: 0.2916965\ttotal: 2.62s\tremaining: 149ms\n",
      "946:\tlearn: 0.2916463\ttotal: 2.62s\tremaining: 147ms\n",
      "947:\tlearn: 0.2915719\ttotal: 2.62s\tremaining: 144ms\n",
      "948:\tlearn: 0.2915188\ttotal: 2.63s\tremaining: 141ms\n",
      "949:\tlearn: 0.2914624\ttotal: 2.63s\tremaining: 138ms\n",
      "950:\tlearn: 0.2914154\ttotal: 2.63s\tremaining: 136ms\n",
      "951:\tlearn: 0.2913649\ttotal: 2.63s\tremaining: 133ms\n",
      "952:\tlearn: 0.2912986\ttotal: 2.64s\tremaining: 130ms\n",
      "953:\tlearn: 0.2912374\ttotal: 2.64s\tremaining: 127ms\n",
      "954:\tlearn: 0.2911779\ttotal: 2.64s\tremaining: 125ms\n",
      "955:\tlearn: 0.2910906\ttotal: 2.65s\tremaining: 122ms\n",
      "956:\tlearn: 0.2910384\ttotal: 2.65s\tremaining: 119ms\n",
      "957:\tlearn: 0.2909463\ttotal: 2.65s\tremaining: 116ms\n",
      "958:\tlearn: 0.2907584\ttotal: 2.65s\tremaining: 114ms\n",
      "959:\tlearn: 0.2906799\ttotal: 2.66s\tremaining: 111ms\n",
      "960:\tlearn: 0.2904388\ttotal: 2.66s\tremaining: 108ms\n",
      "961:\tlearn: 0.2903794\ttotal: 2.66s\tremaining: 105ms\n",
      "962:\tlearn: 0.2902395\ttotal: 2.67s\tremaining: 103ms\n",
      "963:\tlearn: 0.2901298\ttotal: 2.67s\tremaining: 99.8ms\n",
      "964:\tlearn: 0.2900713\ttotal: 2.67s\tremaining: 97ms\n",
      "965:\tlearn: 0.2900322\ttotal: 2.68s\tremaining: 94.2ms\n",
      "966:\tlearn: 0.2899042\ttotal: 2.68s\tremaining: 91.5ms\n",
      "967:\tlearn: 0.2898074\ttotal: 2.68s\tremaining: 88.7ms\n",
      "968:\tlearn: 0.2897187\ttotal: 2.69s\tremaining: 85.9ms\n",
      "969:\tlearn: 0.2896765\ttotal: 2.69s\tremaining: 83.2ms\n",
      "970:\tlearn: 0.2896170\ttotal: 2.69s\tremaining: 80.4ms\n",
      "971:\tlearn: 0.2895693\ttotal: 2.69s\tremaining: 77.6ms\n",
      "972:\tlearn: 0.2893740\ttotal: 2.7s\tremaining: 74.9ms\n",
      "973:\tlearn: 0.2892800\ttotal: 2.7s\tremaining: 72.1ms\n",
      "974:\tlearn: 0.2892349\ttotal: 2.7s\tremaining: 69.3ms\n",
      "975:\tlearn: 0.2891460\ttotal: 2.71s\tremaining: 66.6ms\n",
      "976:\tlearn: 0.2890679\ttotal: 2.71s\tremaining: 63.8ms\n",
      "977:\tlearn: 0.2889801\ttotal: 2.71s\tremaining: 61ms\n",
      "978:\tlearn: 0.2889363\ttotal: 2.72s\tremaining: 58.3ms\n",
      "979:\tlearn: 0.2888651\ttotal: 2.72s\tremaining: 55.5ms\n",
      "980:\tlearn: 0.2887929\ttotal: 2.72s\tremaining: 52.7ms\n",
      "981:\tlearn: 0.2886147\ttotal: 2.73s\tremaining: 50ms\n",
      "982:\tlearn: 0.2885498\ttotal: 2.73s\tremaining: 47.2ms\n",
      "983:\tlearn: 0.2883493\ttotal: 2.73s\tremaining: 44.4ms\n",
      "984:\tlearn: 0.2882965\ttotal: 2.73s\tremaining: 41.7ms\n",
      "985:\tlearn: 0.2881787\ttotal: 2.74s\tremaining: 38.9ms\n",
      "986:\tlearn: 0.2879339\ttotal: 2.74s\tremaining: 36.1ms\n",
      "987:\tlearn: 0.2878696\ttotal: 2.74s\tremaining: 33.3ms\n",
      "988:\tlearn: 0.2878425\ttotal: 2.75s\tremaining: 30.6ms\n",
      "989:\tlearn: 0.2876143\ttotal: 2.75s\tremaining: 27.8ms\n",
      "990:\tlearn: 0.2875103\ttotal: 2.75s\tremaining: 25ms\n",
      "991:\tlearn: 0.2874525\ttotal: 2.76s\tremaining: 22.2ms\n",
      "992:\tlearn: 0.2873340\ttotal: 2.76s\tremaining: 19.4ms\n",
      "993:\tlearn: 0.2872556\ttotal: 2.76s\tremaining: 16.7ms\n",
      "994:\tlearn: 0.2871335\ttotal: 2.76s\tremaining: 13.9ms\n",
      "995:\tlearn: 0.2869537\ttotal: 2.77s\tremaining: 11.1ms\n",
      "996:\tlearn: 0.2869101\ttotal: 2.77s\tremaining: 8.34ms\n",
      "997:\tlearn: 0.2868443\ttotal: 2.77s\tremaining: 5.56ms\n",
      "998:\tlearn: 0.2866895\ttotal: 2.78s\tremaining: 2.78ms\n",
      "999:\tlearn: 0.2866481\ttotal: 2.78s\tremaining: 0us\n"
     ]
    },
    {
     "data": {
      "text/plain": [
       "<catboost.core.CatBoostClassifier at 0x1e72a6fbd00>"
      ]
     },
     "execution_count": 242,
     "metadata": {},
     "output_type": "execute_result"
    }
   ],
   "source": [
    "cat_model=CatBoostClassifier()\n",
    "cat_model.fit(x_train,y_train)"
   ]
  },
  {
   "cell_type": "code",
   "execution_count": null,
   "id": "fb3c48ed",
   "metadata": {},
   "outputs": [],
   "source": [
    "cat_model.score(x_train)"
   ]
  },
  {
   "cell_type": "code",
   "execution_count": 246,
   "id": "85593fc1",
   "metadata": {},
   "outputs": [
    {
     "name": "stdout",
     "output_type": "stream",
     "text": [
      "Accuracy for CatBoost on train data:  0.9135802469135802\n"
     ]
    }
   ],
   "source": [
    "#categorical columns for best optimization\n",
    "cat_features = [0, 1, 2, 4, 10, 11, 12, 13, 14]\n",
    "\n",
    "#set up grid values\n",
    "grid_values = {'n_estimators': [200,500], 'learning_rate': [0.1],\n",
    "               'max_depth': [5], 'l2_leaf_reg': [ 20, 50, 100],\n",
    "               'silent': [True]}\n",
    "\n",
    "#set up classifier\n",
    "cat = CatBoostClassifier().fit(x_train, y_train, verbose=0)\n",
    "\n",
    "#set up and run GridSearchCV for classsifier to find optimal parameters\n",
    "cat_acc = GridSearchCV(cat, param_grid=grid_values, scoring='accuracy')\n",
    "cat_acc.fit(x_train, y_train)\n",
    "\n",
    "cat_best = cat_acc.best_estimator_\n",
    "\n",
    "print(\"Accuracy for CatBoost on train data: \",cat_best.score(x_train, y_train))\n",
    "#print(\"Accuracy for CatBoost on test data: \",cat_best.score(x_test, y_test))"
   ]
  },
  {
   "cell_type": "code",
   "execution_count": 248,
   "id": "6d854ba1",
   "metadata": {},
   "outputs": [
    {
     "data": {
      "text/plain": [
       "{'l2_leaf_reg': 20,\n",
       " 'learning_rate': 0.1,\n",
       " 'max_depth': 5,\n",
       " 'n_estimators': 500,\n",
       " 'silent': True}"
      ]
     },
     "execution_count": 248,
     "metadata": {},
     "output_type": "execute_result"
    }
   ],
   "source": [
    "cat_acc.best_params_"
   ]
  },
  {
   "cell_type": "code",
   "execution_count": 249,
   "id": "233cd8b9",
   "metadata": {},
   "outputs": [],
   "source": [
    "cat_model=CatBoostClassifier(max_depth=5,learning_rate=0.1,l2_leaf_reg=20,n_estimators=500,silent=True)"
   ]
  },
  {
   "cell_type": "code",
   "execution_count": 250,
   "id": "e1ed4b3a",
   "metadata": {},
   "outputs": [
    {
     "data": {
      "text/plain": [
       "<catboost.core.CatBoostClassifier at 0x1e7277f1310>"
      ]
     },
     "execution_count": 250,
     "metadata": {},
     "output_type": "execute_result"
    }
   ],
   "source": [
    "cat_model.fit(x_train,y_train)"
   ]
  },
  {
   "cell_type": "code",
   "execution_count": 251,
   "id": "a690a057",
   "metadata": {},
   "outputs": [],
   "source": [
    "pred=cat_model.predict(x_train)"
   ]
  },
  {
   "cell_type": "code",
   "execution_count": 252,
   "id": "f5dcd9ea",
   "metadata": {},
   "outputs": [
    {
     "name": "stdout",
     "output_type": "stream",
     "text": [
      "0.8372669637813068\n",
      "              precision    recall  f1-score   support\n",
      "\n",
      "           0       0.91      0.95      0.93       549\n",
      "           1       0.92      0.85      0.88       342\n",
      "\n",
      "    accuracy                           0.91       891\n",
      "   macro avg       0.92      0.90      0.91       891\n",
      "weighted avg       0.91      0.91      0.91       891\n",
      "\n"
     ]
    }
   ],
   "source": [
    "print((cross_val_score(cat_model,x_train,y_train,cv=5)).mean())\n",
    "print(metrics.classification_report(y_train,pred))"
   ]
  },
  {
   "cell_type": "code",
   "execution_count": null,
   "id": "ffd5d858",
   "metadata": {},
   "outputs": [],
   "source": []
  }
 ],
 "metadata": {
  "kernelspec": {
   "display_name": "Python 3 (ipykernel)",
   "language": "python",
   "name": "python3"
  },
  "language_info": {
   "codemirror_mode": {
    "name": "ipython",
    "version": 3
   },
   "file_extension": ".py",
   "mimetype": "text/x-python",
   "name": "python",
   "nbconvert_exporter": "python",
   "pygments_lexer": "ipython3",
   "version": "3.9.13"
  }
 },
 "nbformat": 4,
 "nbformat_minor": 5
}
