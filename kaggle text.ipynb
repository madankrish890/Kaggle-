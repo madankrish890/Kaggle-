{
 "cells": [
  {
   "cell_type": "code",
   "execution_count": 228,
   "id": "2d85cf47",
   "metadata": {},
   "outputs": [],
   "source": [
    "import pandas as pd\n",
    "import numpy as np\n",
    "import re\n",
    "import string\n",
    "import nltk\n",
    "from nltk.tokenize import word_tokenize,sent_tokenize\n",
    "from nltk.corpus import stopwords\n",
    "from nltk.stem import PorterStemmer,WordNetLemmatizer\n",
    "from sklearn.feature_extraction.text import CountVectorizer,TfidfVectorizer"
   ]
  },
  {
   "cell_type": "code",
   "execution_count": 229,
   "id": "c85af4f8",
   "metadata": {},
   "outputs": [],
   "source": [
    "train=pd.read_csv(\"E:\\\\nlp-getting-started\\\\train.csv\")\n",
    "test=pd.read_csv(\"E:\\\\nlp-getting-started\\\\test.csv\")"
   ]
  },
  {
   "cell_type": "code",
   "execution_count": 230,
   "id": "b962636b",
   "metadata": {},
   "outputs": [
    {
     "data": {
      "text/html": [
       "<div>\n",
       "<style scoped>\n",
       "    .dataframe tbody tr th:only-of-type {\n",
       "        vertical-align: middle;\n",
       "    }\n",
       "\n",
       "    .dataframe tbody tr th {\n",
       "        vertical-align: top;\n",
       "    }\n",
       "\n",
       "    .dataframe thead th {\n",
       "        text-align: right;\n",
       "    }\n",
       "</style>\n",
       "<table border=\"1\" class=\"dataframe\">\n",
       "  <thead>\n",
       "    <tr style=\"text-align: right;\">\n",
       "      <th></th>\n",
       "      <th>id</th>\n",
       "      <th>keyword</th>\n",
       "      <th>location</th>\n",
       "      <th>text</th>\n",
       "      <th>target</th>\n",
       "    </tr>\n",
       "  </thead>\n",
       "  <tbody>\n",
       "    <tr>\n",
       "      <th>0</th>\n",
       "      <td>1</td>\n",
       "      <td>NaN</td>\n",
       "      <td>NaN</td>\n",
       "      <td>Our Deeds are the Reason of this #earthquake M...</td>\n",
       "      <td>1</td>\n",
       "    </tr>\n",
       "    <tr>\n",
       "      <th>1</th>\n",
       "      <td>4</td>\n",
       "      <td>NaN</td>\n",
       "      <td>NaN</td>\n",
       "      <td>Forest fire near La Ronge Sask. Canada</td>\n",
       "      <td>1</td>\n",
       "    </tr>\n",
       "    <tr>\n",
       "      <th>2</th>\n",
       "      <td>5</td>\n",
       "      <td>NaN</td>\n",
       "      <td>NaN</td>\n",
       "      <td>All residents asked to 'shelter in place' are ...</td>\n",
       "      <td>1</td>\n",
       "    </tr>\n",
       "    <tr>\n",
       "      <th>3</th>\n",
       "      <td>6</td>\n",
       "      <td>NaN</td>\n",
       "      <td>NaN</td>\n",
       "      <td>13,000 people receive #wildfires evacuation or...</td>\n",
       "      <td>1</td>\n",
       "    </tr>\n",
       "    <tr>\n",
       "      <th>4</th>\n",
       "      <td>7</td>\n",
       "      <td>NaN</td>\n",
       "      <td>NaN</td>\n",
       "      <td>Just got sent this photo from Ruby #Alaska as ...</td>\n",
       "      <td>1</td>\n",
       "    </tr>\n",
       "  </tbody>\n",
       "</table>\n",
       "</div>"
      ],
      "text/plain": [
       "   id keyword location                                               text  \\\n",
       "0   1     NaN      NaN  Our Deeds are the Reason of this #earthquake M...   \n",
       "1   4     NaN      NaN             Forest fire near La Ronge Sask. Canada   \n",
       "2   5     NaN      NaN  All residents asked to 'shelter in place' are ...   \n",
       "3   6     NaN      NaN  13,000 people receive #wildfires evacuation or...   \n",
       "4   7     NaN      NaN  Just got sent this photo from Ruby #Alaska as ...   \n",
       "\n",
       "   target  \n",
       "0       1  \n",
       "1       1  \n",
       "2       1  \n",
       "3       1  \n",
       "4       1  "
      ]
     },
     "execution_count": 230,
     "metadata": {},
     "output_type": "execute_result"
    }
   ],
   "source": [
    "train.head()"
   ]
  },
  {
   "cell_type": "code",
   "execution_count": 231,
   "id": "e8291330",
   "metadata": {},
   "outputs": [
    {
     "name": "stdout",
     "output_type": "stream",
     "text": [
      "<class 'pandas.core.frame.DataFrame'>\n",
      "RangeIndex: 7613 entries, 0 to 7612\n",
      "Data columns (total 5 columns):\n",
      " #   Column    Non-Null Count  Dtype \n",
      "---  ------    --------------  ----- \n",
      " 0   id        7613 non-null   int64 \n",
      " 1   keyword   7552 non-null   object\n",
      " 2   location  5080 non-null   object\n",
      " 3   text      7613 non-null   object\n",
      " 4   target    7613 non-null   int64 \n",
      "dtypes: int64(2), object(3)\n",
      "memory usage: 297.5+ KB\n"
     ]
    }
   ],
   "source": [
    "train.info()"
   ]
  },
  {
   "cell_type": "code",
   "execution_count": 232,
   "id": "702adab3",
   "metadata": {},
   "outputs": [
    {
     "data": {
      "text/plain": [
       "id           0.000000\n",
       "keyword      0.801261\n",
       "location    33.272035\n",
       "text         0.000000\n",
       "target       0.000000\n",
       "dtype: float64"
      ]
     },
     "execution_count": 232,
     "metadata": {},
     "output_type": "execute_result"
    }
   ],
   "source": [
    "null=((train.isnull().sum())/len(train))*100\n",
    "null"
   ]
  },
  {
   "cell_type": "code",
   "execution_count": 233,
   "id": "12552a01",
   "metadata": {},
   "outputs": [],
   "source": [
    "def clean_text(text):\n",
    "    # remove punctuation\n",
    "    text = text.translate(text.maketrans(\"\", \"\", string.punctuation))\n",
    "    \n",
    "    # Remove special characters\n",
    "    text = re.sub(r\"[^a-zA-Z]\", \" \", text)\n",
    "    \n",
    "    # Remove numbers\n",
    "    text=re.sub(r'[^a-zA-z.,!?/:;\\\"\\'\\s]', \" \", text)\n",
    "    \n",
    "    # Removing URLs:\n",
    "    text = re.sub(r'(https?:\\/\\/(?:www\\.|(?!www))[a-zA-Z0-9][a-zA-Z0-9-]+[a-zA-Z0-9]\\.[^\\s]{2,}|www\\.[a-zA-Z0-9][a-zA-Z0-9-]+[a-zA-Z0-9]\\.[^\\s]{2,}|https?:\\/\\/(?:www\\.|(?!www))[a-zA-Z0-9]\\.[^\\s]{2,}|www\\.[a-zA-Z0-9]\\.[^\\s]{2,})', \"\", text)\n",
    "    \n",
    "    # remove http\n",
    "    text = re.sub(r\"\\S*https?:\\S*\", \"\", text)\n",
    "    \n",
    "    # Convert to lowercase\n",
    "    text = text.lower()\n",
    "    \n",
    "    # Tokenize the text\n",
    "    words = word_tokenize(text)\n",
    "    \n",
    "    # Remove stopwords\n",
    "    stop_words = set(stopwords.words(\"english\"))\n",
    "    words = [word for word in words if word not in stop_words]\n",
    "    \n",
    "    # Join the words back into one string separated by space and return the result\n",
    "    return \" \".join(words)"
   ]
  },
  {
   "cell_type": "code",
   "execution_count": 234,
   "id": "3707f2dc",
   "metadata": {},
   "outputs": [],
   "source": [
    "train=train.drop(columns=['keyword','location'])"
   ]
  },
  {
   "cell_type": "code",
   "execution_count": 235,
   "id": "478791f6",
   "metadata": {},
   "outputs": [],
   "source": [
    "train['text1']=train['text'].apply(clean_text)"
   ]
  },
  {
   "cell_type": "code",
   "execution_count": 236,
   "id": "eda051d7",
   "metadata": {},
   "outputs": [],
   "source": [
    "def remove_emoji(text):\n",
    "    emoji_pattern = re.compile(\"[\"\n",
    "        u\"\\U0001f600-\\U0001f64f\"  # emoticons\n",
    "        u\"\\U0001f300-\\U0001f5ff\"  # symbols & pictographs\n",
    "        u\"\\U0001f680-\\U0001f6ff\"  # transport & map symbols\n",
    "        u\"\\U0001f1e0-\\U0001f1ff\"  # flags (iOS)\n",
    "                           \"]+\", flags=re.UNICODE)\n",
    "    return emoji_pattern.sub(r'', text)"
   ]
  },
  {
   "cell_type": "code",
   "execution_count": 237,
   "id": "1ff7d229",
   "metadata": {},
   "outputs": [],
   "source": [
    "train['text2']=train['text1'].apply(clean_text)"
   ]
  },
  {
   "cell_type": "code",
   "execution_count": 238,
   "id": "fd4ea094",
   "metadata": {},
   "outputs": [],
   "source": [
    "def lemmatize(text):\n",
    "    ls = WordNetLemmatizer()\n",
    "    words = text.split()\n",
    "    lemmatized_words = [ls.lemmatize(word) for word in words]\n",
    "    return [\" \".join(lemmatized_words)]"
   ]
  },
  {
   "cell_type": "code",
   "execution_count": 239,
   "id": "5183c9b2",
   "metadata": {},
   "outputs": [],
   "source": [
    "train['text3']=train['text2'].apply(lemmatize)"
   ]
  },
  {
   "cell_type": "code",
   "execution_count": 240,
   "id": "1eb950f5",
   "metadata": {},
   "outputs": [
    {
     "data": {
      "text/html": [
       "<div>\n",
       "<style scoped>\n",
       "    .dataframe tbody tr th:only-of-type {\n",
       "        vertical-align: middle;\n",
       "    }\n",
       "\n",
       "    .dataframe tbody tr th {\n",
       "        vertical-align: top;\n",
       "    }\n",
       "\n",
       "    .dataframe thead th {\n",
       "        text-align: right;\n",
       "    }\n",
       "</style>\n",
       "<table border=\"1\" class=\"dataframe\">\n",
       "  <thead>\n",
       "    <tr style=\"text-align: right;\">\n",
       "      <th></th>\n",
       "      <th>id</th>\n",
       "      <th>text</th>\n",
       "      <th>target</th>\n",
       "      <th>text1</th>\n",
       "      <th>text2</th>\n",
       "      <th>text3</th>\n",
       "    </tr>\n",
       "  </thead>\n",
       "  <tbody>\n",
       "    <tr>\n",
       "      <th>0</th>\n",
       "      <td>1</td>\n",
       "      <td>Our Deeds are the Reason of this #earthquake M...</td>\n",
       "      <td>1</td>\n",
       "      <td>deeds reason earthquake may allah forgive us</td>\n",
       "      <td>deeds reason earthquake may allah forgive us</td>\n",
       "      <td>[deed reason earthquake may allah forgive u]</td>\n",
       "    </tr>\n",
       "    <tr>\n",
       "      <th>1</th>\n",
       "      <td>4</td>\n",
       "      <td>Forest fire near La Ronge Sask. Canada</td>\n",
       "      <td>1</td>\n",
       "      <td>forest fire near la ronge sask canada</td>\n",
       "      <td>forest fire near la ronge sask canada</td>\n",
       "      <td>[forest fire near la ronge sask canada]</td>\n",
       "    </tr>\n",
       "    <tr>\n",
       "      <th>2</th>\n",
       "      <td>5</td>\n",
       "      <td>All residents asked to 'shelter in place' are ...</td>\n",
       "      <td>1</td>\n",
       "      <td>residents asked shelter place notified officer...</td>\n",
       "      <td>residents asked shelter place notified officer...</td>\n",
       "      <td>[resident asked shelter place notified officer...</td>\n",
       "    </tr>\n",
       "    <tr>\n",
       "      <th>3</th>\n",
       "      <td>6</td>\n",
       "      <td>13,000 people receive #wildfires evacuation or...</td>\n",
       "      <td>1</td>\n",
       "      <td>people receive wildfires evacuation orders cal...</td>\n",
       "      <td>people receive wildfires evacuation orders cal...</td>\n",
       "      <td>[people receive wildfire evacuation order cali...</td>\n",
       "    </tr>\n",
       "    <tr>\n",
       "      <th>4</th>\n",
       "      <td>7</td>\n",
       "      <td>Just got sent this photo from Ruby #Alaska as ...</td>\n",
       "      <td>1</td>\n",
       "      <td>got sent photo ruby alaska smoke wildfires pou...</td>\n",
       "      <td>got sent photo ruby alaska smoke wildfires pou...</td>\n",
       "      <td>[got sent photo ruby alaska smoke wildfire pou...</td>\n",
       "    </tr>\n",
       "    <tr>\n",
       "      <th>...</th>\n",
       "      <td>...</td>\n",
       "      <td>...</td>\n",
       "      <td>...</td>\n",
       "      <td>...</td>\n",
       "      <td>...</td>\n",
       "      <td>...</td>\n",
       "    </tr>\n",
       "    <tr>\n",
       "      <th>7608</th>\n",
       "      <td>10869</td>\n",
       "      <td>Two giant cranes holding a bridge collapse int...</td>\n",
       "      <td>1</td>\n",
       "      <td>two giant cranes holding bridge collapse nearb...</td>\n",
       "      <td>two giant cranes holding bridge collapse nearb...</td>\n",
       "      <td>[two giant crane holding bridge collapse nearb...</td>\n",
       "    </tr>\n",
       "    <tr>\n",
       "      <th>7609</th>\n",
       "      <td>10870</td>\n",
       "      <td>@aria_ahrary @TheTawniest The out of control w...</td>\n",
       "      <td>1</td>\n",
       "      <td>ariaahrary thetawniest control wild fires cali...</td>\n",
       "      <td>ariaahrary thetawniest control wild fires cali...</td>\n",
       "      <td>[ariaahrary thetawniest control wild fire cali...</td>\n",
       "    </tr>\n",
       "    <tr>\n",
       "      <th>7610</th>\n",
       "      <td>10871</td>\n",
       "      <td>M1.94 [01:04 UTC]?5km S of Volcano Hawaii. htt...</td>\n",
       "      <td>1</td>\n",
       "      <td>utc km volcano hawaii httptcozdtoyd ebj</td>\n",
       "      <td>utc km volcano hawaii httptcozdtoyd ebj</td>\n",
       "      <td>[utc km volcano hawaii httptcozdtoyd ebj]</td>\n",
       "    </tr>\n",
       "    <tr>\n",
       "      <th>7611</th>\n",
       "      <td>10872</td>\n",
       "      <td>Police investigating after an e-bike collided ...</td>\n",
       "      <td>1</td>\n",
       "      <td>police investigating ebike collided car little...</td>\n",
       "      <td>police investigating ebike collided car little...</td>\n",
       "      <td>[police investigating ebike collided car littl...</td>\n",
       "    </tr>\n",
       "    <tr>\n",
       "      <th>7612</th>\n",
       "      <td>10873</td>\n",
       "      <td>The Latest: More Homes Razed by Northern Calif...</td>\n",
       "      <td>1</td>\n",
       "      <td>latest homes razed northern california wildfir...</td>\n",
       "      <td>latest homes razed northern california wildfir...</td>\n",
       "      <td>[latest home razed northern california wildfir...</td>\n",
       "    </tr>\n",
       "  </tbody>\n",
       "</table>\n",
       "<p>7613 rows × 6 columns</p>\n",
       "</div>"
      ],
      "text/plain": [
       "         id                                               text  target  \\\n",
       "0         1  Our Deeds are the Reason of this #earthquake M...       1   \n",
       "1         4             Forest fire near La Ronge Sask. Canada       1   \n",
       "2         5  All residents asked to 'shelter in place' are ...       1   \n",
       "3         6  13,000 people receive #wildfires evacuation or...       1   \n",
       "4         7  Just got sent this photo from Ruby #Alaska as ...       1   \n",
       "...     ...                                                ...     ...   \n",
       "7608  10869  Two giant cranes holding a bridge collapse int...       1   \n",
       "7609  10870  @aria_ahrary @TheTawniest The out of control w...       1   \n",
       "7610  10871  M1.94 [01:04 UTC]?5km S of Volcano Hawaii. htt...       1   \n",
       "7611  10872  Police investigating after an e-bike collided ...       1   \n",
       "7612  10873  The Latest: More Homes Razed by Northern Calif...       1   \n",
       "\n",
       "                                                  text1  \\\n",
       "0          deeds reason earthquake may allah forgive us   \n",
       "1                 forest fire near la ronge sask canada   \n",
       "2     residents asked shelter place notified officer...   \n",
       "3     people receive wildfires evacuation orders cal...   \n",
       "4     got sent photo ruby alaska smoke wildfires pou...   \n",
       "...                                                 ...   \n",
       "7608  two giant cranes holding bridge collapse nearb...   \n",
       "7609  ariaahrary thetawniest control wild fires cali...   \n",
       "7610            utc km volcano hawaii httptcozdtoyd ebj   \n",
       "7611  police investigating ebike collided car little...   \n",
       "7612  latest homes razed northern california wildfir...   \n",
       "\n",
       "                                                  text2  \\\n",
       "0          deeds reason earthquake may allah forgive us   \n",
       "1                 forest fire near la ronge sask canada   \n",
       "2     residents asked shelter place notified officer...   \n",
       "3     people receive wildfires evacuation orders cal...   \n",
       "4     got sent photo ruby alaska smoke wildfires pou...   \n",
       "...                                                 ...   \n",
       "7608  two giant cranes holding bridge collapse nearb...   \n",
       "7609  ariaahrary thetawniest control wild fires cali...   \n",
       "7610            utc km volcano hawaii httptcozdtoyd ebj   \n",
       "7611  police investigating ebike collided car little...   \n",
       "7612  latest homes razed northern california wildfir...   \n",
       "\n",
       "                                                  text3  \n",
       "0          [deed reason earthquake may allah forgive u]  \n",
       "1               [forest fire near la ronge sask canada]  \n",
       "2     [resident asked shelter place notified officer...  \n",
       "3     [people receive wildfire evacuation order cali...  \n",
       "4     [got sent photo ruby alaska smoke wildfire pou...  \n",
       "...                                                 ...  \n",
       "7608  [two giant crane holding bridge collapse nearb...  \n",
       "7609  [ariaahrary thetawniest control wild fire cali...  \n",
       "7610          [utc km volcano hawaii httptcozdtoyd ebj]  \n",
       "7611  [police investigating ebike collided car littl...  \n",
       "7612  [latest home razed northern california wildfir...  \n",
       "\n",
       "[7613 rows x 6 columns]"
      ]
     },
     "execution_count": 240,
     "metadata": {},
     "output_type": "execute_result"
    }
   ],
   "source": [
    "train"
   ]
  },
  {
   "cell_type": "code",
   "execution_count": 241,
   "id": "7e28b141",
   "metadata": {},
   "outputs": [],
   "source": [
    "# Create sentences to get clean text as input for vectors\n",
    "\n",
    "def return_sentences(tokens):\n",
    "    return \" \".join([word for word in tokens])"
   ]
  },
  {
   "cell_type": "code",
   "execution_count": 242,
   "id": "5a4ba820",
   "metadata": {},
   "outputs": [],
   "source": [
    "train['text4']=train['text3'].apply(return_sentences)"
   ]
  },
  {
   "cell_type": "code",
   "execution_count": 243,
   "id": "452b18e3",
   "metadata": {},
   "outputs": [
    {
     "data": {
      "text/html": [
       "<div>\n",
       "<style scoped>\n",
       "    .dataframe tbody tr th:only-of-type {\n",
       "        vertical-align: middle;\n",
       "    }\n",
       "\n",
       "    .dataframe tbody tr th {\n",
       "        vertical-align: top;\n",
       "    }\n",
       "\n",
       "    .dataframe thead th {\n",
       "        text-align: right;\n",
       "    }\n",
       "</style>\n",
       "<table border=\"1\" class=\"dataframe\">\n",
       "  <thead>\n",
       "    <tr style=\"text-align: right;\">\n",
       "      <th></th>\n",
       "      <th>id</th>\n",
       "      <th>text</th>\n",
       "      <th>target</th>\n",
       "      <th>text1</th>\n",
       "      <th>text2</th>\n",
       "      <th>text3</th>\n",
       "      <th>text4</th>\n",
       "    </tr>\n",
       "  </thead>\n",
       "  <tbody>\n",
       "    <tr>\n",
       "      <th>0</th>\n",
       "      <td>1</td>\n",
       "      <td>Our Deeds are the Reason of this #earthquake M...</td>\n",
       "      <td>1</td>\n",
       "      <td>deeds reason earthquake may allah forgive us</td>\n",
       "      <td>deeds reason earthquake may allah forgive us</td>\n",
       "      <td>[deed reason earthquake may allah forgive u]</td>\n",
       "      <td>deed reason earthquake may allah forgive u</td>\n",
       "    </tr>\n",
       "    <tr>\n",
       "      <th>1</th>\n",
       "      <td>4</td>\n",
       "      <td>Forest fire near La Ronge Sask. Canada</td>\n",
       "      <td>1</td>\n",
       "      <td>forest fire near la ronge sask canada</td>\n",
       "      <td>forest fire near la ronge sask canada</td>\n",
       "      <td>[forest fire near la ronge sask canada]</td>\n",
       "      <td>forest fire near la ronge sask canada</td>\n",
       "    </tr>\n",
       "    <tr>\n",
       "      <th>2</th>\n",
       "      <td>5</td>\n",
       "      <td>All residents asked to 'shelter in place' are ...</td>\n",
       "      <td>1</td>\n",
       "      <td>residents asked shelter place notified officer...</td>\n",
       "      <td>residents asked shelter place notified officer...</td>\n",
       "      <td>[resident asked shelter place notified officer...</td>\n",
       "      <td>resident asked shelter place notified officer ...</td>\n",
       "    </tr>\n",
       "    <tr>\n",
       "      <th>3</th>\n",
       "      <td>6</td>\n",
       "      <td>13,000 people receive #wildfires evacuation or...</td>\n",
       "      <td>1</td>\n",
       "      <td>people receive wildfires evacuation orders cal...</td>\n",
       "      <td>people receive wildfires evacuation orders cal...</td>\n",
       "      <td>[people receive wildfire evacuation order cali...</td>\n",
       "      <td>people receive wildfire evacuation order calif...</td>\n",
       "    </tr>\n",
       "    <tr>\n",
       "      <th>4</th>\n",
       "      <td>7</td>\n",
       "      <td>Just got sent this photo from Ruby #Alaska as ...</td>\n",
       "      <td>1</td>\n",
       "      <td>got sent photo ruby alaska smoke wildfires pou...</td>\n",
       "      <td>got sent photo ruby alaska smoke wildfires pou...</td>\n",
       "      <td>[got sent photo ruby alaska smoke wildfire pou...</td>\n",
       "      <td>got sent photo ruby alaska smoke wildfire pour...</td>\n",
       "    </tr>\n",
       "    <tr>\n",
       "      <th>...</th>\n",
       "      <td>...</td>\n",
       "      <td>...</td>\n",
       "      <td>...</td>\n",
       "      <td>...</td>\n",
       "      <td>...</td>\n",
       "      <td>...</td>\n",
       "      <td>...</td>\n",
       "    </tr>\n",
       "    <tr>\n",
       "      <th>7608</th>\n",
       "      <td>10869</td>\n",
       "      <td>Two giant cranes holding a bridge collapse int...</td>\n",
       "      <td>1</td>\n",
       "      <td>two giant cranes holding bridge collapse nearb...</td>\n",
       "      <td>two giant cranes holding bridge collapse nearb...</td>\n",
       "      <td>[two giant crane holding bridge collapse nearb...</td>\n",
       "      <td>two giant crane holding bridge collapse nearby...</td>\n",
       "    </tr>\n",
       "    <tr>\n",
       "      <th>7609</th>\n",
       "      <td>10870</td>\n",
       "      <td>@aria_ahrary @TheTawniest The out of control w...</td>\n",
       "      <td>1</td>\n",
       "      <td>ariaahrary thetawniest control wild fires cali...</td>\n",
       "      <td>ariaahrary thetawniest control wild fires cali...</td>\n",
       "      <td>[ariaahrary thetawniest control wild fire cali...</td>\n",
       "      <td>ariaahrary thetawniest control wild fire calif...</td>\n",
       "    </tr>\n",
       "    <tr>\n",
       "      <th>7610</th>\n",
       "      <td>10871</td>\n",
       "      <td>M1.94 [01:04 UTC]?5km S of Volcano Hawaii. htt...</td>\n",
       "      <td>1</td>\n",
       "      <td>utc km volcano hawaii httptcozdtoyd ebj</td>\n",
       "      <td>utc km volcano hawaii httptcozdtoyd ebj</td>\n",
       "      <td>[utc km volcano hawaii httptcozdtoyd ebj]</td>\n",
       "      <td>utc km volcano hawaii httptcozdtoyd ebj</td>\n",
       "    </tr>\n",
       "    <tr>\n",
       "      <th>7611</th>\n",
       "      <td>10872</td>\n",
       "      <td>Police investigating after an e-bike collided ...</td>\n",
       "      <td>1</td>\n",
       "      <td>police investigating ebike collided car little...</td>\n",
       "      <td>police investigating ebike collided car little...</td>\n",
       "      <td>[police investigating ebike collided car littl...</td>\n",
       "      <td>police investigating ebike collided car little...</td>\n",
       "    </tr>\n",
       "    <tr>\n",
       "      <th>7612</th>\n",
       "      <td>10873</td>\n",
       "      <td>The Latest: More Homes Razed by Northern Calif...</td>\n",
       "      <td>1</td>\n",
       "      <td>latest homes razed northern california wildfir...</td>\n",
       "      <td>latest homes razed northern california wildfir...</td>\n",
       "      <td>[latest home razed northern california wildfir...</td>\n",
       "      <td>latest home razed northern california wildfire...</td>\n",
       "    </tr>\n",
       "  </tbody>\n",
       "</table>\n",
       "<p>7613 rows × 7 columns</p>\n",
       "</div>"
      ],
      "text/plain": [
       "         id                                               text  target  \\\n",
       "0         1  Our Deeds are the Reason of this #earthquake M...       1   \n",
       "1         4             Forest fire near La Ronge Sask. Canada       1   \n",
       "2         5  All residents asked to 'shelter in place' are ...       1   \n",
       "3         6  13,000 people receive #wildfires evacuation or...       1   \n",
       "4         7  Just got sent this photo from Ruby #Alaska as ...       1   \n",
       "...     ...                                                ...     ...   \n",
       "7608  10869  Two giant cranes holding a bridge collapse int...       1   \n",
       "7609  10870  @aria_ahrary @TheTawniest The out of control w...       1   \n",
       "7610  10871  M1.94 [01:04 UTC]?5km S of Volcano Hawaii. htt...       1   \n",
       "7611  10872  Police investigating after an e-bike collided ...       1   \n",
       "7612  10873  The Latest: More Homes Razed by Northern Calif...       1   \n",
       "\n",
       "                                                  text1  \\\n",
       "0          deeds reason earthquake may allah forgive us   \n",
       "1                 forest fire near la ronge sask canada   \n",
       "2     residents asked shelter place notified officer...   \n",
       "3     people receive wildfires evacuation orders cal...   \n",
       "4     got sent photo ruby alaska smoke wildfires pou...   \n",
       "...                                                 ...   \n",
       "7608  two giant cranes holding bridge collapse nearb...   \n",
       "7609  ariaahrary thetawniest control wild fires cali...   \n",
       "7610            utc km volcano hawaii httptcozdtoyd ebj   \n",
       "7611  police investigating ebike collided car little...   \n",
       "7612  latest homes razed northern california wildfir...   \n",
       "\n",
       "                                                  text2  \\\n",
       "0          deeds reason earthquake may allah forgive us   \n",
       "1                 forest fire near la ronge sask canada   \n",
       "2     residents asked shelter place notified officer...   \n",
       "3     people receive wildfires evacuation orders cal...   \n",
       "4     got sent photo ruby alaska smoke wildfires pou...   \n",
       "...                                                 ...   \n",
       "7608  two giant cranes holding bridge collapse nearb...   \n",
       "7609  ariaahrary thetawniest control wild fires cali...   \n",
       "7610            utc km volcano hawaii httptcozdtoyd ebj   \n",
       "7611  police investigating ebike collided car little...   \n",
       "7612  latest homes razed northern california wildfir...   \n",
       "\n",
       "                                                  text3  \\\n",
       "0          [deed reason earthquake may allah forgive u]   \n",
       "1               [forest fire near la ronge sask canada]   \n",
       "2     [resident asked shelter place notified officer...   \n",
       "3     [people receive wildfire evacuation order cali...   \n",
       "4     [got sent photo ruby alaska smoke wildfire pou...   \n",
       "...                                                 ...   \n",
       "7608  [two giant crane holding bridge collapse nearb...   \n",
       "7609  [ariaahrary thetawniest control wild fire cali...   \n",
       "7610          [utc km volcano hawaii httptcozdtoyd ebj]   \n",
       "7611  [police investigating ebike collided car littl...   \n",
       "7612  [latest home razed northern california wildfir...   \n",
       "\n",
       "                                                  text4  \n",
       "0            deed reason earthquake may allah forgive u  \n",
       "1                 forest fire near la ronge sask canada  \n",
       "2     resident asked shelter place notified officer ...  \n",
       "3     people receive wildfire evacuation order calif...  \n",
       "4     got sent photo ruby alaska smoke wildfire pour...  \n",
       "...                                                 ...  \n",
       "7608  two giant crane holding bridge collapse nearby...  \n",
       "7609  ariaahrary thetawniest control wild fire calif...  \n",
       "7610            utc km volcano hawaii httptcozdtoyd ebj  \n",
       "7611  police investigating ebike collided car little...  \n",
       "7612  latest home razed northern california wildfire...  \n",
       "\n",
       "[7613 rows x 7 columns]"
      ]
     },
     "execution_count": 243,
     "metadata": {},
     "output_type": "execute_result"
    }
   ],
   "source": [
    "train"
   ]
  },
  {
   "cell_type": "code",
   "execution_count": 244,
   "id": "26ccbdb0",
   "metadata": {},
   "outputs": [],
   "source": [
    "x=train['text4']\n",
    "y=train.target"
   ]
  },
  {
   "cell_type": "code",
   "execution_count": 245,
   "id": "8594ac10",
   "metadata": {},
   "outputs": [],
   "source": [
    "from sklearn.model_selection import train_test_split\n",
    "x_train,x_test,y_train,y_test=train_test_split(x,y,test_size=.10,random_state=44)"
   ]
  },
  {
   "cell_type": "code",
   "execution_count": 246,
   "id": "1d9d98f8",
   "metadata": {},
   "outputs": [],
   "source": [
    "from sklearn.feature_extraction.text import CountVectorizer"
   ]
  },
  {
   "cell_type": "code",
   "execution_count": 247,
   "id": "ee0a5a4b",
   "metadata": {},
   "outputs": [],
   "source": [
    "cnt=CountVectorizer()\n",
    "x_train=cnt.fit_transform(x_train)\n",
    "x_test=cnt.transform(x_test)"
   ]
  },
  {
   "cell_type": "code",
   "execution_count": 248,
   "id": "fda4e47e",
   "metadata": {},
   "outputs": [
    {
     "data": {
      "text/plain": [
       "<6851x20113 sparse matrix of type '<class 'numpy.int64'>'\n",
       "\twith 68458 stored elements in Compressed Sparse Row format>"
      ]
     },
     "execution_count": 248,
     "metadata": {},
     "output_type": "execute_result"
    }
   ],
   "source": [
    "x_train"
   ]
  },
  {
   "cell_type": "code",
   "execution_count": 249,
   "id": "b31f66e2",
   "metadata": {},
   "outputs": [
    {
     "data": {
      "text/plain": [
       "SVC()"
      ]
     },
     "execution_count": 249,
     "metadata": {},
     "output_type": "execute_result"
    }
   ],
   "source": [
    "from sklearn.svm import SVC\n",
    "model=SVC(kernel = 'rbf')\n",
    "model.fit(x_train,y_train)"
   ]
  },
  {
   "cell_type": "code",
   "execution_count": 250,
   "id": "c69ec302",
   "metadata": {},
   "outputs": [],
   "source": [
    "y_pre=model.predict(x_test)"
   ]
  },
  {
   "cell_type": "code",
   "execution_count": 251,
   "id": "bc1abc5b",
   "metadata": {},
   "outputs": [],
   "source": [
    "from sklearn.metrics import accuracy_score ,classification_report,confusion_matrix"
   ]
  },
  {
   "cell_type": "code",
   "execution_count": 252,
   "id": "04204804",
   "metadata": {},
   "outputs": [
    {
     "name": "stdout",
     "output_type": "stream",
     "text": [
      "Accuracy : 80.45%\n"
     ]
    }
   ],
   "source": [
    "from sklearn.metrics import accuracy_score ,classification_report,confusion_matrix\n",
    "score=accuracy_score(y_test,y_pre,normalize=True)\n",
    "print(f'Accuracy : {round(score, 4)*100}%')"
   ]
  },
  {
   "cell_type": "code",
   "execution_count": 253,
   "id": "57599cf9",
   "metadata": {},
   "outputs": [
    {
     "name": "stdout",
     "output_type": "stream",
     "text": [
      "classification_report is : \n",
      "               precision    recall  f1-score   support\n",
      "\n",
      "           0       0.78      0.92      0.84       435\n",
      "           1       0.86      0.65      0.74       327\n",
      "\n",
      "    accuracy                           0.80       762\n",
      "   macro avg       0.82      0.79      0.79       762\n",
      "weighted avg       0.81      0.80      0.80       762\n",
      "\n"
     ]
    }
   ],
   "source": [
    "print(\"classification_report is : \\n\",classification_report(y_test,y_pre))"
   ]
  },
  {
   "cell_type": "code",
   "execution_count": 254,
   "id": "a9369fc9",
   "metadata": {},
   "outputs": [],
   "source": [
    "from sklearn.ensemble import RandomForestClassifier"
   ]
  },
  {
   "cell_type": "code",
   "execution_count": 255,
   "id": "8b63ad54",
   "metadata": {},
   "outputs": [],
   "source": [
    "import xgboost as xg"
   ]
  },
  {
   "cell_type": "code",
   "execution_count": 256,
   "id": "66b0e3fe",
   "metadata": {},
   "outputs": [
    {
     "data": {
      "text/plain": [
       "XGBClassifier(base_score=0.5, booster='gbtree', callbacks=None,\n",
       "              colsample_bylevel=1, colsample_bynode=1, colsample_bytree=1,\n",
       "              early_stopping_rounds=None, enable_categorical=False,\n",
       "              eval_metric=None, feature_types=None, gamma=0, gpu_id=-1,\n",
       "              grow_policy='depthwise', importance_type=None,\n",
       "              interaction_constraints='', learning_rate=0.300000012,\n",
       "              max_bin=256, max_cat_threshold=64, max_cat_to_onehot=4,\n",
       "              max_delta_step=0, max_depth=6, max_leaves=0, min_child_weight=1,\n",
       "              missing=nan, monotone_constraints='()', n_estimators=100,\n",
       "              n_jobs=0, num_parallel_tree=1, predictor='auto', random_state=0, ...)"
      ]
     },
     "execution_count": 256,
     "metadata": {},
     "output_type": "execute_result"
    }
   ],
   "source": [
    "xg_model=xg.XGBClassifier()\n",
    "xg_model.fit(x_train,y_train)"
   ]
  },
  {
   "cell_type": "code",
   "execution_count": 257,
   "id": "c1a99a8e",
   "metadata": {},
   "outputs": [
    {
     "data": {
      "text/plain": [
       "0.8352065391913589"
      ]
     },
     "execution_count": 257,
     "metadata": {},
     "output_type": "execute_result"
    }
   ],
   "source": [
    "score=xg_model.score(x_train,y_train)\n",
    "score"
   ]
  },
  {
   "cell_type": "code",
   "execution_count": 258,
   "id": "4eef68fd",
   "metadata": {},
   "outputs": [],
   "source": [
    "pred=xg_model.predict(x_test)"
   ]
  },
  {
   "cell_type": "code",
   "execution_count": 259,
   "id": "8bb5bdc2",
   "metadata": {},
   "outputs": [
    {
     "name": "stdout",
     "output_type": "stream",
     "text": [
      "Accuracy : 78.74%\n"
     ]
    }
   ],
   "source": [
    "from sklearn.metrics import accuracy_score ,classification_report,confusion_matrix\n",
    "score=accuracy_score(y_test,pred,normalize=True)\n",
    "print(f'Accuracy : {round(score, 4)*100}%')"
   ]
  },
  {
   "cell_type": "code",
   "execution_count": 260,
   "id": "f11b2fee",
   "metadata": {},
   "outputs": [],
   "source": [
    "from sklearn import metrics\n",
    "from sklearn.model_selection import cross_val_score,KFold"
   ]
  },
  {
   "cell_type": "code",
   "execution_count": 261,
   "id": "c54bd8b0",
   "metadata": {},
   "outputs": [
    {
     "name": "stdout",
     "output_type": "stream",
     "text": [
      "0.7832426647926016\n"
     ]
    }
   ],
   "source": [
    "print((cross_val_score(xg_model,x_train,y_train,cv=5)).mean())"
   ]
  },
  {
   "cell_type": "code",
   "execution_count": 262,
   "id": "ac574a2f",
   "metadata": {},
   "outputs": [],
   "source": [
    "# naive baiyes"
   ]
  },
  {
   "cell_type": "code",
   "execution_count": 263,
   "id": "9dc6b9ea",
   "metadata": {},
   "outputs": [],
   "source": [
    "from sklearn.naive_bayes import GaussianNB,MultinomialNB"
   ]
  },
  {
   "cell_type": "code",
   "execution_count": 264,
   "id": "846427f4",
   "metadata": {},
   "outputs": [
    {
     "data": {
      "text/plain": [
       "MultinomialNB()"
      ]
     },
     "execution_count": 264,
     "metadata": {},
     "output_type": "execute_result"
    }
   ],
   "source": [
    "g_model=MultinomialNB()\n",
    "g_model.fit(x_train,y_train)"
   ]
  },
  {
   "cell_type": "code",
   "execution_count": 265,
   "id": "210985ff",
   "metadata": {},
   "outputs": [],
   "source": [
    "score=g_model.score(x_train,y_train)"
   ]
  },
  {
   "cell_type": "code",
   "execution_count": 266,
   "id": "2d5ca9ec",
   "metadata": {},
   "outputs": [
    {
     "data": {
      "text/plain": [
       "0.9224930667055904"
      ]
     },
     "execution_count": 266,
     "metadata": {},
     "output_type": "execute_result"
    }
   ],
   "source": [
    "score"
   ]
  },
  {
   "cell_type": "code",
   "execution_count": 267,
   "id": "043d24fb",
   "metadata": {},
   "outputs": [],
   "source": [
    "pred=g_model.predict(x_test)"
   ]
  },
  {
   "cell_type": "code",
   "execution_count": 268,
   "id": "dadc229b",
   "metadata": {},
   "outputs": [
    {
     "name": "stdout",
     "output_type": "stream",
     "text": [
      "0.795942649352862\n"
     ]
    }
   ],
   "source": [
    "print((cross_val_score(g_model,x_train,y_train,cv=5)).mean())"
   ]
  },
  {
   "cell_type": "code",
   "execution_count": 269,
   "id": "c42ade84",
   "metadata": {},
   "outputs": [],
   "source": [
    "score=g_model.score(x_test,y_test)"
   ]
  },
  {
   "cell_type": "code",
   "execution_count": 270,
   "id": "6fa58e11",
   "metadata": {},
   "outputs": [
    {
     "data": {
      "text/plain": [
       "0.8018372703412073"
      ]
     },
     "execution_count": 270,
     "metadata": {},
     "output_type": "execute_result"
    }
   ],
   "source": [
    "score"
   ]
  },
  {
   "cell_type": "code",
   "execution_count": 271,
   "id": "b83df5ef",
   "metadata": {},
   "outputs": [],
   "source": [
    "test=test.drop(columns=['keyword','location'],axis=1)"
   ]
  },
  {
   "cell_type": "code",
   "execution_count": 272,
   "id": "8d26c476",
   "metadata": {},
   "outputs": [
    {
     "data": {
      "text/html": [
       "<div>\n",
       "<style scoped>\n",
       "    .dataframe tbody tr th:only-of-type {\n",
       "        vertical-align: middle;\n",
       "    }\n",
       "\n",
       "    .dataframe tbody tr th {\n",
       "        vertical-align: top;\n",
       "    }\n",
       "\n",
       "    .dataframe thead th {\n",
       "        text-align: right;\n",
       "    }\n",
       "</style>\n",
       "<table border=\"1\" class=\"dataframe\">\n",
       "  <thead>\n",
       "    <tr style=\"text-align: right;\">\n",
       "      <th></th>\n",
       "      <th>id</th>\n",
       "      <th>text</th>\n",
       "    </tr>\n",
       "  </thead>\n",
       "  <tbody>\n",
       "    <tr>\n",
       "      <th>862</th>\n",
       "      <td>2823</td>\n",
       "      <td>@ERPESTAR i aint a bitch girl popobawa revolve...</td>\n",
       "    </tr>\n",
       "    <tr>\n",
       "      <th>1782</th>\n",
       "      <td>6018</td>\n",
       "      <td>50k plays on our 'Delirious' remix!! Happy it'...</td>\n",
       "    </tr>\n",
       "    <tr>\n",
       "      <th>2264</th>\n",
       "      <td>7541</td>\n",
       "      <td>'California: Spring Oil Spill Estimate Grows '...</td>\n",
       "    </tr>\n",
       "    <tr>\n",
       "      <th>1450</th>\n",
       "      <td>4811</td>\n",
       "      <td>Pelling hotels: no strings concealment from st...</td>\n",
       "    </tr>\n",
       "    <tr>\n",
       "      <th>2932</th>\n",
       "      <td>9711</td>\n",
       "      <td>Rly tragedy in MP: Some live to recount horror...</td>\n",
       "    </tr>\n",
       "    <tr>\n",
       "      <th>300</th>\n",
       "      <td>975</td>\n",
       "      <td>My big buzzy John BlaZe. Jus Kame home from a ...</td>\n",
       "    </tr>\n",
       "    <tr>\n",
       "      <th>3190</th>\n",
       "      <td>10597</td>\n",
       "      <td>You still acting like you were the one wounded...</td>\n",
       "    </tr>\n",
       "    <tr>\n",
       "      <th>2377</th>\n",
       "      <td>7947</td>\n",
       "      <td>@WerdEmUp It's already been messed up thanks t...</td>\n",
       "    </tr>\n",
       "    <tr>\n",
       "      <th>3014</th>\n",
       "      <td>9957</td>\n",
       "      <td>Today we played mini golf in the rain I was ca...</td>\n",
       "    </tr>\n",
       "    <tr>\n",
       "      <th>523</th>\n",
       "      <td>1713</td>\n",
       "      <td>Australia's Ashes disaster - how the collapse ...</td>\n",
       "    </tr>\n",
       "  </tbody>\n",
       "</table>\n",
       "</div>"
      ],
      "text/plain": [
       "         id                                               text\n",
       "862    2823  @ERPESTAR i aint a bitch girl popobawa revolve...\n",
       "1782   6018  50k plays on our 'Delirious' remix!! Happy it'...\n",
       "2264   7541  'California: Spring Oil Spill Estimate Grows '...\n",
       "1450   4811  Pelling hotels: no strings concealment from st...\n",
       "2932   9711  Rly tragedy in MP: Some live to recount horror...\n",
       "300     975  My big buzzy John BlaZe. Jus Kame home from a ...\n",
       "3190  10597  You still acting like you were the one wounded...\n",
       "2377   7947  @WerdEmUp It's already been messed up thanks t...\n",
       "3014   9957  Today we played mini golf in the rain I was ca...\n",
       "523    1713  Australia's Ashes disaster - how the collapse ..."
      ]
     },
     "execution_count": 272,
     "metadata": {},
     "output_type": "execute_result"
    }
   ],
   "source": [
    "test.sample(10)"
   ]
  },
  {
   "cell_type": "code",
   "execution_count": 273,
   "id": "d1c00489",
   "metadata": {},
   "outputs": [],
   "source": [
    "test['text']=test['text'].apply(clean_text)"
   ]
  },
  {
   "cell_type": "code",
   "execution_count": 274,
   "id": "51b10a0c",
   "metadata": {},
   "outputs": [],
   "source": [
    "test['text']=test['text'].apply(remove_emoji)"
   ]
  },
  {
   "cell_type": "code",
   "execution_count": 275,
   "id": "bc0b9b71",
   "metadata": {},
   "outputs": [],
   "source": [
    "test['text']=test['text'].apply(lemmatize)"
   ]
  },
  {
   "cell_type": "code",
   "execution_count": 276,
   "id": "1612e558",
   "metadata": {},
   "outputs": [],
   "source": [
    "test['text']=test['text'].apply(return_sentences)"
   ]
  },
  {
   "cell_type": "code",
   "execution_count": 277,
   "id": "a630bec9",
   "metadata": {},
   "outputs": [
    {
     "data": {
      "text/html": [
       "<div>\n",
       "<style scoped>\n",
       "    .dataframe tbody tr th:only-of-type {\n",
       "        vertical-align: middle;\n",
       "    }\n",
       "\n",
       "    .dataframe tbody tr th {\n",
       "        vertical-align: top;\n",
       "    }\n",
       "\n",
       "    .dataframe thead th {\n",
       "        text-align: right;\n",
       "    }\n",
       "</style>\n",
       "<table border=\"1\" class=\"dataframe\">\n",
       "  <thead>\n",
       "    <tr style=\"text-align: right;\">\n",
       "      <th></th>\n",
       "      <th>id</th>\n",
       "      <th>text</th>\n",
       "    </tr>\n",
       "  </thead>\n",
       "  <tbody>\n",
       "    <tr>\n",
       "      <th>1476</th>\n",
       "      <td>4916</td>\n",
       "      <td>fact checking machine must exploded today foll...</td>\n",
       "    </tr>\n",
       "    <tr>\n",
       "      <th>2090</th>\n",
       "      <td>7016</td>\n",
       "      <td>thedreaminggoat mayhem robertosaguedes mayhem ...</td>\n",
       "    </tr>\n",
       "    <tr>\n",
       "      <th>2582</th>\n",
       "      <td>8603</td>\n",
       "      <td>antifracking group seek review lancashire seis...</td>\n",
       "    </tr>\n",
       "    <tr>\n",
       "      <th>929</th>\n",
       "      <td>3065</td>\n",
       "      <td>betrayedhunter reading paused came across coup...</td>\n",
       "    </tr>\n",
       "    <tr>\n",
       "      <th>2513</th>\n",
       "      <td>8379</td>\n",
       "      <td>fly major problem u ruin batch need destroy ev...</td>\n",
       "    </tr>\n",
       "    <tr>\n",
       "      <th>2031</th>\n",
       "      <td>6831</td>\n",
       "      <td>heard really loud bang outside bedroom door im...</td>\n",
       "    </tr>\n",
       "    <tr>\n",
       "      <th>3152</th>\n",
       "      <td>10463</td>\n",
       "      <td>stampede fire brought home love make stay tame...</td>\n",
       "    </tr>\n",
       "    <tr>\n",
       "      <th>2085</th>\n",
       "      <td>7003</td>\n",
       "      <td>slayer reflects low mayhem festival attendance...</td>\n",
       "    </tr>\n",
       "    <tr>\n",
       "      <th>1052</th>\n",
       "      <td>3453</td>\n",
       "      <td>coolbreezet train derailed smithsonianno passe...</td>\n",
       "    </tr>\n",
       "    <tr>\n",
       "      <th>2709</th>\n",
       "      <td>9019</td>\n",
       "      <td>see jimmiejohnson wreck person first thought h...</td>\n",
       "    </tr>\n",
       "  </tbody>\n",
       "</table>\n",
       "</div>"
      ],
      "text/plain": [
       "         id                                               text\n",
       "1476   4916  fact checking machine must exploded today foll...\n",
       "2090   7016  thedreaminggoat mayhem robertosaguedes mayhem ...\n",
       "2582   8603  antifracking group seek review lancashire seis...\n",
       "929    3065  betrayedhunter reading paused came across coup...\n",
       "2513   8379  fly major problem u ruin batch need destroy ev...\n",
       "2031   6831  heard really loud bang outside bedroom door im...\n",
       "3152  10463  stampede fire brought home love make stay tame...\n",
       "2085   7003  slayer reflects low mayhem festival attendance...\n",
       "1052   3453  coolbreezet train derailed smithsonianno passe...\n",
       "2709   9019  see jimmiejohnson wreck person first thought h..."
      ]
     },
     "execution_count": 277,
     "metadata": {},
     "output_type": "execute_result"
    }
   ],
   "source": [
    "test.sample(10)"
   ]
  },
  {
   "cell_type": "code",
   "execution_count": 281,
   "id": "883b4a75",
   "metadata": {},
   "outputs": [],
   "source": [
    "data_test=cnt.transform(test['text'])"
   ]
  },
  {
   "cell_type": "code",
   "execution_count": 282,
   "id": "a69833da",
   "metadata": {},
   "outputs": [],
   "source": [
    "answer = pd.read_csv(\"E:\\\\nlp-getting-started\\\\sample_submission.csv\")\n",
    "answer['target'] = g_model.predict(data_test)\n",
    "answer.to_csv('submission.csv', index=False)"
   ]
  }
 ],
 "metadata": {
  "kernelspec": {
   "display_name": "Python 3 (ipykernel)",
   "language": "python",
   "name": "python3"
  },
  "language_info": {
   "codemirror_mode": {
    "name": "ipython",
    "version": 3
   },
   "file_extension": ".py",
   "mimetype": "text/x-python",
   "name": "python",
   "nbconvert_exporter": "python",
   "pygments_lexer": "ipython3",
   "version": "3.9.13"
  }
 },
 "nbformat": 4,
 "nbformat_minor": 5
}
